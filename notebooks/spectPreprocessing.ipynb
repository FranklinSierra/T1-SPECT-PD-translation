{
 "cells": [
  {
   "cell_type": "code",
   "execution_count": 1,
   "metadata": {},
   "outputs": [],
   "source": [
    "import nibabel as nib\n",
    "import numpy as np\n",
    "from scipy.ndimage import gaussian_filter\n",
    "from scipy.signal import butter, filtfilt\n",
    "import os"
   ]
  },
  {
   "cell_type": "markdown",
   "metadata": {},
   "source": [
    "# Notebook for the SPECT preprocessing steps\n",
    "## 1. Gaussian isotropic filter"
   ]
  },
  {
   "cell_type": "code",
   "execution_count": 2,
   "metadata": {},
   "outputs": [],
   "source": [
    "def apply_gaussian_filter(input_file, output_dir):\n",
    "    fwhm_mm = 18\n",
    "    # Load the NIfTI file\n",
    "    img = nib.load(input_file)\n",
    "    data = img.get_fdata()\n",
    "\n",
    "    # Get voxel dimensions\n",
    "    voxel_sizes = img.header.get_zooms()\n",
    "    #print(\"voxel_sizes: \", voxel_sizes)\n",
    "\n",
    "    # Convert FWHM from mm to voxel units\n",
    "    fwhm_voxel = fwhm_mm / np.array(voxel_sizes)\n",
    "\n",
    "    # Apply Gaussian filter\n",
    "    filtered_data = gaussian_filter(data, sigma=fwhm_voxel / (2*np.sqrt(2*np.log(2))))\n",
    "\n",
    "    # Save the filtered data to a new NIfTI file\n",
    "    filtered_img = nib.Nifti1Image(filtered_data, img.affine, img.header)\n",
    "    # check if the output dir exists\n",
    "    if not os.path.exists(output_dir):\n",
    "        os.makedirs(output_dir)\n",
    "    \n",
    "    sufix = \"_gaussian.nii.gz\"\n",
    "    original_name = input_file.split(\"/\")[-1]\n",
    "    current_original_name = original_name.split(\".\")[-3]\n",
    "    prefixed_name = f\"{current_original_name}{sufix}\"\n",
    "    output_file = output_dir + \"/\" + prefixed_name\n",
    "    print(\"output_file: \", output_file)\n",
    "    nib.save(filtered_img, output_file)\n",
    "    \n",
    "    return output_file\n",
    "\n",
    "# # Example usage\n",
    "# input_file = \"/home/Data/Datasets/Parkinson/radiological/PPMI/spect-mri/filtered/test/control/spect/3104/preprocessed/PPMI_3104_NM_Reconstructed_DaTSCAN_Br_20121011134355542_1_S117556_spect_resampled.nii.gz\"\n",
    "# output_file = '/home/Data/Datasets/Parkinson/radiological/PPMI/spect-mri/filtered/test/control/spect/3104/preprocessed2/filtered_output_gaussian.nii'\n",
    "# apply_gaussian_filter(input_file, output_file, fwhm_mm)"
   ]
  },
  {
   "cell_type": "markdown",
   "metadata": {},
   "source": [
    "## 2. Reconstruction algorithms\n",
    "a) Butterworth filter of 5th order with a cutoff frequency of 0.6 cycles/pixel "
   ]
  },
  {
   "cell_type": "code",
   "execution_count": 3,
   "metadata": {},
   "outputs": [],
   "source": [
    "def butterworth_filter(input_file, output_dir, order=5, cutoff=0.1):\n",
    "    # Load the NIfTI file\n",
    "    img = nib.load(input_file)\n",
    "    data = img.get_fdata()\n",
    "\n",
    "    # Get voxel dimensions\n",
    "    voxel_sizes = img.header.get_zooms()[:3]  # Extract voxel dimensions\n",
    "    \n",
    "    # Calculate sampling rate based on voxel dimensions\n",
    "    sampling_rate = 1 / min(voxel_sizes)\n",
    "\n",
    "    # Calculate Nyquist frequency\n",
    "    nyquist_freq = 0.5 * sampling_rate  # Nyquist frequency\n",
    "\n",
    "    #print(\"Nyquist Frequency:\", nyquist_freq)  # Debugging statement\n",
    "\n",
    "    # Normalize cutoff frequency\n",
    "    normalized_cutoff = cutoff / nyquist_freq\n",
    "\n",
    "    #print(\"Normalized Cutoff Frequency:\", normalized_cutoff)  # Debugging statement\n",
    "\n",
    "    # Check if normalized cutoff is within valid range\n",
    "    if normalized_cutoff >= 1:\n",
    "        raise ValueError(\"Cutoff frequency exceeds Nyquist frequency.\")\n",
    "\n",
    "    # Design Butterworth filter\n",
    "    b, a = butter(order, normalized_cutoff, btype='low', analog=False)\n",
    "\n",
    "    # Apply filter to each slice of the data\n",
    "    filtered_data = np.zeros_like(data)\n",
    "    for i in range(data.shape[-1]):\n",
    "        filtered_data[..., i] = filtfilt(b, a, data[..., i], axis=0)\n",
    "        \n",
    "    # check if the output dir exists\n",
    "    if not os.path.exists(output_dir):\n",
    "        os.makedirs(output_dir)\n",
    "    \n",
    "    sufix = \"_butterworth.nii.gz\"\n",
    "    original_name = input_file.split(\"/\")[-1]\n",
    "    current_original_name = original_name.split(\".\")[-3]\n",
    "    prefixed_name = f\"{current_original_name}{sufix}\"\n",
    "    output_file = output_dir + \"/\" + prefixed_name\n",
    "    # Save the filtered data back to a nii file\n",
    "    filtered_nii = nib.Nifti1Image(filtered_data, affine=img.affine)\n",
    "    nib.save(filtered_nii, output_file)\n",
    "\n",
    "    return output_file"
   ]
  },
  {
   "cell_type": "markdown",
   "metadata": {},
   "source": [
    "a.1) Uniform post-reconstruction attenuation correction according to Chang (mu=0.12/cm), no scatter correction"
   ]
  },
  {
   "cell_type": "code",
   "execution_count": 4,
   "metadata": {},
   "outputs": [],
   "source": [
    "def apply_attenuation_correction(input_file, output_dir, attenuation_coefficient=0.12):\n",
    "    # Load the SPECT NIfTI file\n",
    "    img = nib.load(input_file)\n",
    "    # Extract image data from the NIfTI file\n",
    "    spect_data = img.get_fdata()\n",
    "    \n",
    "    \n",
    "    # Apply attenuation correction using Chang's method\n",
    "    corrected_data = spect_data * np.exp(-attenuation_coefficient)\n",
    "    \n",
    "    # check if the output dir exists\n",
    "    if not os.path.exists(output_dir):\n",
    "        os.makedirs(output_dir)\n",
    "    \n",
    "    sufix = \"_attenuated.nii.gz\"\n",
    "    original_name = input_file.split(\"/\")[-1]\n",
    "    current_original_name = original_name.split(\".\")[-3]\n",
    "    prefixed_name = f\"{current_original_name}{sufix}\"\n",
    "    output_file = output_dir + \"/\" + prefixed_name\n",
    "    # Save the filtered data back to a nii file\n",
    "    filtered_nii = nib.Nifti1Image(corrected_data, affine=img.affine)\n",
    "    nib.save(filtered_nii, output_file)\n",
    "    \n",
    "    return output_file"
   ]
  },
  {
   "cell_type": "markdown",
   "metadata": {},
   "source": [
    "**Main**\n",
    "* For Parkinson and Control groups "
   ]
  },
  {
   "cell_type": "code",
   "execution_count": null,
   "metadata": {},
   "outputs": [],
   "source": [
    "#getting all the related cases\n",
    "root_path = \"/home/Data/Datasets/Parkinson/radiological/PPMI/spect-mri/filtered\"\n",
    "split = \"train\"\n",
    "group = \"parkinson\"\n",
    "modality = \"spect\"\n",
    "current_path = root_path + \"/\" + split + \"/\" + group + \"/\" + modality\n",
    "cases = sorted(os.listdir(current_path))\n",
    "print(len(cases))"
   ]
  },
  {
   "cell_type": "markdown",
   "metadata": {},
   "source": [
    "* For SWEDD group"
   ]
  },
  {
   "cell_type": "code",
   "execution_count": null,
   "metadata": {},
   "outputs": [],
   "source": [
    "#getting all the related cases\n",
    "root_path = \"/home/Data/Datasets/Parkinson/radiological/PPMI/spect-mri/filtered\"\n",
    "group = \"swedd\"\n",
    "modality = \"spect\"\n",
    "current_path = root_path + \"/\" + group + \"/\" + modality\n",
    "cases = sorted(os.listdir(current_path))\n",
    "print(len(cases))"
   ]
  },
  {
   "cell_type": "code",
   "execution_count": null,
   "metadata": {},
   "outputs": [],
   "source": [
    "for case in cases[2:]:\n",
    "    print(case)\n",
    "    preprocessed_case_path = current_path + \"/\" + case + \"/\" + \"preprocessed\"\n",
    "    output_dir = current_path + \"/\" + case + \"/\" + \"preprocessed2\"\n",
    "    files = os.listdir(preprocessed_case_path)\n",
    "    nii_file = [file for file in files if file.endswith(\"_resampled.nii.gz\")][0] \n",
    "    #step 1 to preprocess (apply gaussian filter)\n",
    "    nii_file_path = preprocessed_case_path + \"/\" + nii_file\n",
    "    input_file = nii_file_path\n",
    "    output_file = apply_gaussian_filter(input_file, output_dir)\n",
    "    #step 2 to preprocess (apply Butterworth reconstruction filter)\n",
    "    output_file = butterworth_filter(input_file=output_file, output_dir=output_dir, order=5, cutoff=0.1)\n",
    "    #step 3 to preprocess (attenuation correction)\n",
    "    corrected_data = apply_attenuation_correction(output_file, output_dir, attenuation_coefficient=0.12) # Assuming linear attenuation coefficient of 0.12/cm\n",
    "    \n",
    "print(\"done!\")\n",
    "    "
   ]
  },
  {
   "cell_type": "code",
   "execution_count": null,
   "metadata": {},
   "outputs": [],
   "source": []
  }
 ],
 "metadata": {
  "kernelspec": {
   "display_name": "Python 3 (ipykernel)",
   "language": "python",
   "name": "python3"
  }
 },
 "nbformat": 4,
 "nbformat_minor": 2
}
