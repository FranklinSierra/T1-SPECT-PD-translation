{
 "cells": [
  {
   "cell_type": "code",
   "execution_count": null,
   "metadata": {},
   "outputs": [],
   "source": [
    "import os\n",
    "import pandas as pd\n",
    "import numpy as np\n",
    "from datetime import datetime"
   ]
  },
  {
   "cell_type": "markdown",
   "metadata": {},
   "source": [
    "# Utils"
   ]
  },
  {
   "cell_type": "code",
   "execution_count": null,
   "metadata": {},
   "outputs": [],
   "source": [
    "ctrl_mri_spect_df = pd.read_csv(\"../../../../../../Datasets/Parkinson/radiological/PPMI/spect-mri/controlMri-Spect12_01_2023.csv\")\n",
    "ctrl_mri_spect_df['Acq Date'] = pd.to_datetime(ctrl_mri_spect_df['Acq Date'])\n",
    "\n",
    "pd_mri_spect_df = pd.read_csv(\"../../../../../../Datasets/Parkinson/radiological/PPMI/spect-mri/pdMriSpect_12_01_2023.csv\")\n",
    "pd_mri_spect_df['Acq Date'] = pd.to_datetime(pd_mri_spect_df['Acq Date'])\n",
    "\n",
    "print(len(ctrl_mri_spect_df))\n",
    "print(len(pd_mri_spect_df))"
   ]
  },
  {
   "cell_type": "code",
   "execution_count": null,
   "metadata": {},
   "outputs": [],
   "source": [
    "def count_t1_types(df):\n",
    "    print(\"T2 in corrected EPI: \", len(df[df[\"Description\"].str.startswith(\"T2 in corrected EPI\")]))\n",
    "    print(\"T2 in T1: \", len(df[df[\"Description\"].str.startswith(\"T2 in T1\")]))\n",
    "    print(\"T1-anatomical: \", len(df[df[\"Description\"].str.startswith(\"T1-anatomical\")]))"
   ]
  },
  {
   "cell_type": "code",
   "execution_count": null,
   "metadata": {},
   "outputs": [],
   "source": [
    "def count_t1_types_with_spect(df):\n",
    "\n",
    "    #================= to know subjects with T1-anatomical and spect modality =================\n",
    "    filtered_mri = df[(df['Modality'] == 'MRI') & df['Description'].str.startswith('T1-anatomical')]\n",
    "    filtered_spect = df[(df['Modality'] == 'SPECT') & df['Description'].str.contains('DaTSCAN')]\n",
    "\n",
    "    mri_subjects = sorted(filtered_mri['Subject'].tolist())\n",
    "    spect_subjects = sorted(filtered_spect['Subject'].tolist())\n",
    "\n",
    "    print(\"total t1-anatomical subjects: \", len(mri_subjects))\n",
    "    print(\"total spect subjects: \", len(spect_subjects))\n",
    "\n",
    "    #sujetos con T1-anatomical y DaTSCAN\n",
    "    t1_anat_spect_subjects = sorted(list(set(mri_subjects) & set(spect_subjects)))\n",
    "    print(\"total subjects with T1-anatomical and DaTSCAN: \", len(t1_anat_spect_subjects))\n",
    "\n",
    "    #================= to know subjects with T2-in T1 and spect modality =================\n",
    "    filtered_mri = df[(df['Modality'] == 'MRI') & df['Description'].str.startswith('T2 in T1')]\n",
    "\n",
    "    mri_subjects_t2_in_t1 = sorted(filtered_mri['Subject'].tolist())\n",
    "\n",
    "    print(\"total t2 in t1 subjects: \", len(mri_subjects_t2_in_t1))\n",
    "    print(\"total spect subjects: \", len(spect_subjects))\n",
    "\n",
    "    #sujetos con T2 in T1 y DaTSCAN\n",
    "    t2_in_t1_spect_subjects = sorted(list(set(mri_subjects_t2_in_t1) & set(spect_subjects)))\n",
    "    print(\"total subjects with T1-anatomical and DaTSCAN: \", len(t2_in_t1_spect_subjects))\n",
    "\n",
    "    #================= to know subjects with T2 in corrected EPI and spect modality =================\n",
    "    filtered_mri = df[(df['Modality'] == 'MRI') & df['Description'].str.startswith('T2 in corrected EPI')]\n",
    "\n",
    "    mri_subjects_t2_in_epi = sorted(filtered_mri['Subject'].tolist())\n",
    "\n",
    "    print(\"total t2 in epi subjects: \", len(mri_subjects_t2_in_epi))\n",
    "    print(\"total spect subjects: \", len(spect_subjects))\n",
    "\n",
    "    #sujetos con T2 in corrected EPI y DaTSCAN\n",
    "    t2_in_epi_spect_subjects = sorted(list(set(mri_subjects_t2_in_epi) & set(spect_subjects)))\n",
    "    print(\"total subjects with T2 in corrected EPI and DaTSCAN: \", len(t2_in_epi_spect_subjects))\n",
    "\n",
    "    return t1_anat_spect_subjects"
   ]
  },
  {
   "cell_type": "code",
   "execution_count": null,
   "metadata": {},
   "outputs": [],
   "source": [
    "def cases_t1_spect(df, t1_anat_spect_subjects):\n",
    "    #================= to know subjects with T1 and spect modality =================\n",
    "    filtered_df = df[df['Description'].str.contains('DaTSCAN|^T1-anatomical')]\n",
    "\n",
    "    filtered_t1_spect_df = filtered_df[filtered_df['Subject'].isin(t1_anat_spect_subjects)]\n",
    "    filtered_t1_spect_df = filtered_t1_spect_df.reset_index(drop=True)\n",
    "    return filtered_t1_spect_df\n"
   ]
  },
  {
   "cell_type": "code",
   "execution_count": null,
   "metadata": {},
   "outputs": [],
   "source": [
    "def cases_with_more_than_one_t1_spect(df):\n",
    "\n",
    "    # Count the occurrences of 't1-anatomical' for each subject\n",
    "    t1_counts = df[df['Description'] == 'T1-anatomical'].groupby('Subject').size()\n",
    "\n",
    "    # Filter subjects with more than two 't1-anatomical' values\n",
    "    subjects_with_more_than_one_t1 = t1_counts[t1_counts > 1].index.tolist()\n",
    "\n",
    "    print(\"Subjects with more than one 't1-anatomical' values:\", subjects_with_more_than_one_t1)\n",
    "    print(\"amount of subjects with more than one t1-anatomical: \", len(subjects_with_more_than_one_t1))\n",
    "\n",
    "    #=================================================================================================\n",
    "\n",
    "    # Filter subjects with more than two 'Reconstructed DaTSCAN\t' values\n",
    "    spect_counts = df[df['Description'] == 'Reconstructed DaTSCAN'].groupby('Subject').size()\n",
    "\n",
    "    # Filter subjects with more than two 't1-anatomical' values\n",
    "    subjects_with_more_than_one_spects = spect_counts[spect_counts > 1].index.tolist()\n",
    "\n",
    "    print(\"Subjects with more than one 'Reconstructed DaTSCAN:\", subjects_with_more_than_one_spects)\n",
    "    print(\"amount of subjects with more than one Reconstructed DaTSCAN: \", len(subjects_with_more_than_one_spects))\n",
    "    \n",
    "    return subjects_with_more_than_one_t1, subjects_with_more_than_one_spects"
   ]
  },
  {
   "cell_type": "code",
   "execution_count": null,
   "metadata": {},
   "outputs": [],
   "source": [
    "def filter_single_t1_records(df):\n",
    "\n",
    "    # Identify subjects with more than two 't1-anatomical' values\n",
    "    t1_counts = df[df['Description'] == 'T1-anatomical'].groupby('Subject').size()\n",
    "    subjects_with_more_than_one_t1 = t1_counts[t1_counts > 1].index.tolist()\n",
    "\n",
    "    # Filter and keep only the 't1-anatomical' records closer to the DaTSCAN date\n",
    "    result_df = pd.DataFrame()\n",
    "\n",
    "    for subject in subjects_with_more_than_one_t1:\n",
    "        subject_df = df[df['Subject'] == subject]\n",
    "        \n",
    "        t1_anatomical_df = subject_df[subject_df['Description'] == 'T1-anatomical']\n",
    "        dat_scan_df = subject_df[subject_df['Description'] == 'Reconstructed DaTSCAN']\n",
    "        \n",
    "        if not t1_anatomical_df.empty and not dat_scan_df.empty:\n",
    "            #getting the closest t1-anatomical to the dat_scan date\n",
    "            closest_t1_anatomical = t1_anatomical_df.loc[(t1_anatomical_df['Acq Date'] - dat_scan_df['Acq Date'].iloc[0]).abs().idxmin()]\n",
    "            closest_t1_anatomical_df = closest_t1_anatomical.to_frame().T\n",
    "            closest_t1_anatomical_df.columns = df.columns\n",
    "            result_df = pd.concat([result_df, closest_t1_anatomical_df])\n",
    "\n",
    "    return result_df"
   ]
  },
  {
   "cell_type": "code",
   "execution_count": null,
   "metadata": {},
   "outputs": [],
   "source": [
    "def filter_single_spect_records(df):\n",
    "    #filtering spect cases with more than one record\n",
    "    spect_counts = df[df['Description'] == 'Reconstructed DaTSCAN'].groupby('Subject').size()\n",
    "    subjects_with_more_than_one_spect = spect_counts[spect_counts > 1].index.tolist()\n",
    "\n",
    "    # Filter and keep only the 't1-anatomical' records closer to the DaTSCAN date\n",
    "    result_df = pd.DataFrame()\n",
    "\n",
    "    for subject in subjects_with_more_than_one_spect:\n",
    "        subject_df = df[df['Subject'] == subject]\n",
    "        \n",
    "        dat_scan_df = subject_df[subject_df['Description'] == 'Reconstructed DaTSCAN']\n",
    "        dat_scan_df = dat_scan_df.sort_values(by=['Acq Date'], ascending=False).head(1)\n",
    "\n",
    "        result_df = pd.concat([result_df, dat_scan_df])\n",
    "\n",
    "    return result_df"
   ]
  },
  {
   "cell_type": "code",
   "execution_count": null,
   "metadata": {},
   "outputs": [],
   "source": [
    "def index_to_drop(result_df, filtered_t1_spect_df):\n",
    "\n",
    "    #getting the index of the T1 to be saved (over subjects with more than one T1)\n",
    "    t1_save_index = result_df.index\n",
    "    t1_save_index = sorted(t1_save_index.tolist())\n",
    "    print(len(t1_save_index))\n",
    "    print(\"t1_save_index: \", t1_save_index)\n",
    "\n",
    "\n",
    "    # getting the index of the T1 to be saved (over subjects with just one T1)\n",
    "    single_t1_index = []\n",
    "    t1_counts = filtered_t1_spect_df[filtered_t1_spect_df['Description'] == 'T1-anatomical'].groupby('Subject').size()\n",
    "    subjects_with_just_one_t1 = t1_counts[t1_counts == 1].index.tolist()\n",
    "    for subject in subjects_with_just_one_t1:\n",
    "        idx = filtered_t1_spect_df[filtered_t1_spect_df['Subject'] == subject].index.tolist()\n",
    "        single_t1_index.extend(idx)\n",
    "    print(len(single_t1_index))\n",
    "    print(\"single_t1_index: \", single_t1_index)\n",
    "\n",
    "\n",
    "    #getting the index of the spect to be saved\n",
    "    spect_save_index = filtered_t1_spect_df[filtered_t1_spect_df[\"Description\"]==\"Reconstructed DaTSCAN\"].index\n",
    "    spect_save_index = sorted(spect_save_index.tolist())\n",
    "    print(len(spect_save_index))\n",
    "    print(\"spect_save_index: \", spect_save_index)\n",
    "\n",
    "\n",
    "    #getting all the index from the filtered_t1_spect_df\n",
    "    total_indexes = filtered_t1_spect_df.index\n",
    "    total_indexes = sorted(total_indexes.tolist())\n",
    "    print(\"total_indexes: \", len(total_indexes))\n",
    "    print(total_indexes)\n",
    "\n",
    "    #getting the difference between the total_t1_index and the single_t1_index\n",
    "    spect_and_2t1_index = list(set(total_indexes) - set(single_t1_index))\n",
    "\n",
    "    #spect_and_2t1_index difference with spect_save_index\n",
    "    _2t1_index= list(set(spect_and_2t1_index) - set(spect_save_index))\n",
    "\n",
    "    #the current drop indexes (_2t1_index - t1_save_index)\n",
    "    current_delete_index = sorted(list(set(_2t1_index) - set(t1_save_index)))\n",
    "\n",
    "    return current_delete_index"
   ]
  },
  {
   "cell_type": "markdown",
   "metadata": {},
   "source": [
    "## Control analysis"
   ]
  },
  {
   "cell_type": "code",
   "execution_count": null,
   "metadata": {},
   "outputs": [],
   "source": [
    "count_t1_types(ctrl_mri_spect_df)\n",
    "print(\"=============================================\")\n",
    "t1_anat_spect_subjects = count_t1_types_with_spect(ctrl_mri_spect_df)\n",
    "print(\"================== cases with T1 and spect =========================\")\n",
    "filtered_t1_spect_df = cases_t1_spect(ctrl_mri_spect_df, t1_anat_spect_subjects)\n",
    "filtered_t1_spect_df"
   ]
  },
  {
   "cell_type": "markdown",
   "metadata": {},
   "source": [
    "**Identitying more than one case per modality**"
   ]
  },
  {
   "cell_type": "code",
   "execution_count": null,
   "metadata": {},
   "outputs": [],
   "source": [
    "cases_with_more_than_one_t1_spect(filtered_t1_spect_df)"
   ]
  },
  {
   "cell_type": "markdown",
   "metadata": {},
   "source": [
    "### Getting the T1 cases that we really need"
   ]
  },
  {
   "cell_type": "code",
   "execution_count": null,
   "metadata": {},
   "outputs": [],
   "source": [
    "result_df = filter_single_t1_records(filtered_t1_spect_df)\n",
    "result_df.head()"
   ]
  },
  {
   "cell_type": "markdown",
   "metadata": {},
   "source": [
    "### Getting the indexes to be dropped"
   ]
  },
  {
   "cell_type": "code",
   "execution_count": null,
   "metadata": {},
   "outputs": [],
   "source": [
    "current_delete_index = index_to_drop(result_df, filtered_t1_spect_df)\n",
    "print(\"current_delete_index: \", current_delete_index)"
   ]
  },
  {
   "cell_type": "markdown",
   "metadata": {},
   "source": [
    "**Just for checking**"
   ]
  },
  {
   "cell_type": "code",
   "execution_count": null,
   "metadata": {},
   "outputs": [],
   "source": [
    "filtered_t1_spect_df.iloc[6]"
   ]
  },
  {
   "cell_type": "code",
   "execution_count": null,
   "metadata": {},
   "outputs": [],
   "source": [
    "filtered_t1_spect_df[filtered_t1_spect_df[\"Subject\"]==4032]"
   ]
  },
  {
   "cell_type": "markdown",
   "metadata": {},
   "source": [
    "**Dropping the index that we do not need**"
   ]
  },
  {
   "cell_type": "code",
   "execution_count": null,
   "metadata": {},
   "outputs": [],
   "source": [
    "final_ctrl_mri_spect_df = filtered_t1_spect_df.drop(current_delete_index)\n",
    "final_ctrl_mri_spect_df = final_ctrl_mri_spect_df.reset_index(drop=True)\n",
    "final_ctrl_mri_spect_df"
   ]
  },
  {
   "cell_type": "code",
   "execution_count": null,
   "metadata": {},
   "outputs": [],
   "source": [
    "final_ctrl_mri_spect_df.groupby('Subject').value_counts()"
   ]
  },
  {
   "cell_type": "code",
   "execution_count": null,
   "metadata": {},
   "outputs": [],
   "source": [
    "# Sort DataFrame by 'Subject_ID' and 'Date'\n",
    "df = final_ctrl_mri_spect_df.sort_values(by=['Subject', 'Acq Date'])\n",
    "\n",
    "# Group DataFrame by 'Subject_ID'\n",
    "grouped = final_ctrl_mri_spect_df.groupby('Subject')\n",
    "\n",
    "# Calculate date difference within each group\n",
    "df['Date_Difference'] = grouped['Acq Date'].diff().dt.days\n",
    "\n",
    "# Calculate average days difference\n",
    "average_days_difference = df['Date_Difference'].mean()\n",
    "\n",
    "print(\"Average days difference between subjects:\", average_days_difference)"
   ]
  },
  {
   "cell_type": "markdown",
   "metadata": {},
   "source": [
    "## Parkinson analysis"
   ]
  },
  {
   "cell_type": "code",
   "execution_count": null,
   "metadata": {},
   "outputs": [],
   "source": [
    "count_t1_types(pd_mri_spect_df)\n",
    "print(\"=============================================\")\n",
    "t1_anat_spect_subjects = count_t1_types_with_spect(pd_mri_spect_df)\n",
    "print(\"================== cases with T1 and spect =========================\")\n",
    "filtered_t1_spect_df = cases_t1_spect(pd_mri_spect_df, t1_anat_spect_subjects)\n",
    "print(\"amount of cases with T1 and spect: \", len(filtered_t1_spect_df))\n",
    "filtered_t1_spect_df"
   ]
  },
  {
   "cell_type": "code",
   "execution_count": null,
   "metadata": {},
   "outputs": [],
   "source": [
    "filtered = sorted(filtered_t1_spect_df[\"Subject\"].unique())\n",
    "print(\"amount of subjects with T1 and spect: \", len(filtered))"
   ]
  },
  {
   "cell_type": "markdown",
   "metadata": {},
   "source": [
    "**Identitying more than one case per modality**"
   ]
  },
  {
   "cell_type": "code",
   "execution_count": null,
   "metadata": {},
   "outputs": [],
   "source": [
    "many_t1_cases, many_spect_cases = cases_with_more_than_one_t1_spect(filtered_t1_spect_df)"
   ]
  },
  {
   "cell_type": "markdown",
   "metadata": {},
   "source": [
    "**Due to there are many subjects with more than one spect record** it is need to stablish one of them as reference date for further T1-anatomical selection"
   ]
  },
  {
   "cell_type": "code",
   "execution_count": null,
   "metadata": {},
   "outputs": [],
   "source": [
    "filtered_single_spect_records_df = filter_single_spect_records(filtered_t1_spect_df)\n",
    "filtered_single_spect = sorted(filtered_single_spect_records_df[\"Subject\"].unique())\n",
    "print(\"amount of single spect records: \", len(filtered_single_spect_records_df))"
   ]
  },
  {
   "cell_type": "markdown",
   "metadata": {},
   "source": [
    "**Getting subjects with single spect record originally**"
   ]
  },
  {
   "cell_type": "code",
   "execution_count": null,
   "metadata": {},
   "outputs": [],
   "source": [
    "original_single_spect = list(set(filtered) - set(filtered_single_spect))\n",
    "print(sorted(original_single_spect))\n",
    "print(\"amount of subjects with single T1 and spect (originally): \", len(original_single_spect))"
   ]
  },
  {
   "cell_type": "code",
   "execution_count": null,
   "metadata": {},
   "outputs": [],
   "source": [
    "# getting the index of the spect to be saved (over subjects with just one spect)\n",
    "original_single_spect_df = pd.DataFrame()\n",
    "\n",
    "for subject in original_single_spect:\n",
    "    subject_df = filtered_t1_spect_df[filtered_t1_spect_df[\"Subject\"]==subject]    \n",
    "    dat_scan_df = subject_df[subject_df[\"Description\"]==\"Reconstructed DaTSCAN\"]\n",
    "    original_single_spect_df = pd.concat([original_single_spect_df, dat_scan_df])\n",
    "    \n",
    "\n",
    "original_single_spect_index = sorted(original_single_spect_df.index)  \n",
    "print(\"original_single_spect_index: \", original_single_spect_index)"
   ]
  },
  {
   "cell_type": "code",
   "execution_count": null,
   "metadata": {},
   "outputs": [],
   "source": [
    "original_single_spect_df.iloc[22]"
   ]
  },
  {
   "cell_type": "code",
   "execution_count": null,
   "metadata": {},
   "outputs": [],
   "source": [
    "filtered_t1_spect_df[filtered_t1_spect_df[\"Subject\"]==3827]"
   ]
  },
  {
   "cell_type": "markdown",
   "metadata": {},
   "source": [
    "**Now that we have fixed the DaTSCAN as reference** now we can get the single T1 records closer to DaTSCAN date (including original single spect and filtered versions)"
   ]
  },
  {
   "cell_type": "code",
   "execution_count": null,
   "metadata": {},
   "outputs": [],
   "source": [
    "#merging original spect records with the filtered version\n",
    "final_spect_df = pd.concat([filtered_single_spect_records_df, original_single_spect_df])\n",
    "final_spect_df.groupby('Subject').value_counts()   "
   ]
  },
  {
   "cell_type": "code",
   "execution_count": null,
   "metadata": {},
   "outputs": [],
   "source": [
    "def single_t1_records_wrt_spect(filtered_t1_spect_df, single_spect_records_df):\n",
    "    # Identify subjects with more than two 't1-anatomical' values\n",
    "    t1_counts = filtered_t1_spect_df[filtered_t1_spect_df['Description'] == 'T1-anatomical'].groupby('Subject').size()\n",
    "    subjects_with_more_than_one_t1 = t1_counts[t1_counts > 1].index.tolist()\n",
    "\n",
    "    # Filter and keep only the 't1-anatomical' records closer to the DaTSCAN date\n",
    "    result_df = pd.DataFrame()\n",
    "\n",
    "    for subject in subjects_with_more_than_one_t1:\n",
    "        subject_df = filtered_t1_spect_df[filtered_t1_spect_df['Subject'] == subject]\n",
    "        \n",
    "        t1_anatomical_df = subject_df[subject_df['Description'] == 'T1-anatomical']\n",
    "        if subject in single_spect_records_df['Subject'].unique():\n",
    "            dat_scan_df = single_spect_records_df[single_spect_records_df['Subject'] == subject]\n",
    "        else:\n",
    "            dat_scan_df = subject_df[subject_df['Description'] == 'Reconstructed DaTSCAN']\n",
    "        \n",
    "        if not t1_anatomical_df.empty and not dat_scan_df.empty:\n",
    "            #getting the closest t1-anatomical to the dat_scan date\n",
    "            closest_t1_anatomical = t1_anatomical_df.loc[(t1_anatomical_df['Acq Date'] - dat_scan_df['Acq Date'].iloc[0]).abs().idxmin()]\n",
    "            closest_t1_anatomical_df = closest_t1_anatomical.to_frame().T\n",
    "            closest_t1_anatomical_df.columns = filtered_t1_spect_df.columns\n",
    "            result_df = pd.concat([result_df, closest_t1_anatomical_df])\n",
    "    \n",
    "    return result_df   "
   ]
  },
  {
   "cell_type": "code",
   "execution_count": null,
   "metadata": {},
   "outputs": [],
   "source": [
    "filtered_single_t1_df = single_t1_records_wrt_spect(filtered_t1_spect_df, final_spect_df)\n",
    "filtered_single_t1_df.head()"
   ]
  },
  {
   "cell_type": "markdown",
   "metadata": {},
   "source": [
    "**Getting subjects with single T1 record originally**"
   ]
  },
  {
   "cell_type": "code",
   "execution_count": null,
   "metadata": {},
   "outputs": [],
   "source": [
    "# Identify subjects with more than two 't1-anatomical' values\n",
    "t1_counts = filtered_t1_spect_df[filtered_t1_spect_df['Description'] == 'T1-anatomical'].groupby('Subject').size()\n",
    "subjects_with_just_one_t1 = t1_counts[t1_counts == 1].index.tolist()\n",
    "\n",
    "# Filter and keep only the 't1-anatomical' records closer to the DaTSCAN date\n",
    "original_single_t1_df = pd.DataFrame()\n",
    "\n",
    "for subject in subjects_with_just_one_t1:\n",
    "    subject_df = filtered_t1_spect_df[filtered_t1_spect_df['Subject'] == subject]\n",
    "    \n",
    "    t1_anatomical_df = subject_df[subject_df['Description'] == 'T1-anatomical']    \n",
    "    original_single_t1_df = pd.concat([original_single_t1_df, t1_anatomical_df])\n",
    "    \n",
    "original_single_t1_df.head()   "
   ]
  },
  {
   "cell_type": "markdown",
   "metadata": {},
   "source": [
    "**Bulding the final PD dataframe with one record to T1 and Spect**"
   ]
  },
  {
   "cell_type": "code",
   "execution_count": null,
   "metadata": {},
   "outputs": [],
   "source": [
    "#indexes that we really need: \n",
    "# single spect record: original_single_spect_index\n",
    "# single t1 record: original_single_t1_index\n",
    "# filtered spect records (cases originally >2 records): filtered_single_spect_records_df\n",
    "# from above get the t1 single record (cases originally >2 records): filtered_single_t1_df\n",
    "\n",
    "final_pd_mri_spect_df = pd.concat([original_single_spect_df, filtered_single_spect_records_df,\n",
    "                         original_single_t1_df, filtered_single_t1_df])\n",
    "\n",
    "final_pd_mri_spect_df.groupby('Subject').value_counts()"
   ]
  },
  {
   "cell_type": "code",
   "execution_count": null,
   "metadata": {},
   "outputs": [],
   "source": [
    "final_pd_mri_spect_df[final_pd_mri_spect_df[\"Subject\"]==53060]"
   ]
  },
  {
   "cell_type": "code",
   "execution_count": null,
   "metadata": {},
   "outputs": [],
   "source": [
    "# Sort DataFrame by 'Subject_ID' and 'Date'\n",
    "df = final_pd_mri_spect_df.sort_values(by=['Subject', 'Acq Date'])\n",
    "\n",
    "# Group DataFrame by 'Subject_ID'\n",
    "grouped = final_pd_mri_spect_df.groupby('Subject')\n",
    "\n",
    "# Calculate date difference within each group\n",
    "df['Date_Difference'] = grouped['Acq Date'].diff().dt.days\n",
    "\n",
    "# Calculate average days difference\n",
    "average_days_difference = df['Date_Difference'].mean()\n",
    "\n",
    "print(\"Average days difference between subjects:\", average_days_difference)"
   ]
  },
  {
   "cell_type": "markdown",
   "metadata": {},
   "source": [
    "# Identifying the PD that were not used in the EMBC approach"
   ]
  },
  {
   "cell_type": "code",
   "execution_count": null,
   "metadata": {},
   "outputs": [],
   "source": [
    "pd_embc_subjects = []\n",
    "filtered_path = \"../../../../../../Datasets/Parkinson/radiological/PPMI/spect-mri/filtered\"\n",
    "splits = [\"test\", \"train\"]\n",
    "\n",
    "for split in splits:\n",
    "    split_path = os.path.join(filtered_path, split)\n",
    "    spect_pd_path = os.path.join(split_path, \"parkinson\", \"spect\")\n",
    "    cases = os.listdir(spect_pd_path)\n",
    "    pd_embc_subjects.extend(cases)\n",
    "    \n",
    "pd_embc_subjects = np.asarray(pd_embc_subjects)\n",
    "pd_embc_subjects = pd_embc_subjects.astype(int)\n",
    "print(\"total pd embc subjects: \", len(pd_embc_subjects))\n",
    "total_pd_mri_spect = final_pd_mri_spect_df[\"Subject\"].unique()\n",
    "print(\"total pd with mri and spect: \", len(total_pd_mri_spect))"
   ]
  },
  {
   "cell_type": "code",
   "execution_count": null,
   "metadata": {},
   "outputs": [],
   "source": [
    "print(\"subjects to be taken into account:\")\n",
    "pd_to_take = list(set(total_pd_mri_spect) - set(pd_embc_subjects))\n",
    "print(pd_to_take)\n",
    "print(len(pd_to_take))"
   ]
  },
  {
   "cell_type": "markdown",
   "metadata": {},
   "source": [
    "# Data moving"
   ]
  },
  {
   "cell_type": "code",
   "execution_count": null,
   "metadata": {},
   "outputs": [],
   "source": [
    "# in summary we have for control and pd subjects: final_ctrl_mri_spect_df and final_pd_mri_spect_df\n",
    "original_path = \"../../../../../../Datasets/Parkinson/radiological/PPMI/spect-mri/original\"\n",
    "save_path = \"../../../../../../Datasets/Parkinson/radiological/PPMI/spect-mri/filtered/\"\n",
    "\n",
    "ctrl_original = original_path + \"/controlMri-Spect/PPMI/\"\n",
    "pd_original = original_path + \"/pdMri-Spect/PPMI/\""
   ]
  },
  {
   "cell_type": "code",
   "execution_count": null,
   "metadata": {},
   "outputs": [],
   "source": [
    "ctrl_mri_spect_df[ctrl_mri_spect_df[\"Subject\"]==3104]"
   ]
  },
  {
   "cell_type": "code",
   "execution_count": null,
   "metadata": {},
   "outputs": [],
   "source": [
    "#for control set from the final_ctrl_mri_spect_df dataframe\n",
    "ctrl_subjects = sorted(final_ctrl_mri_spect_df[\"Subject\"].unique())\n",
    "\n",
    "for subject in ctrl_subjects:\n",
    "    print(\"subject: \", subject)\n",
    "    ctrl_subject_df = final_ctrl_mri_spect_df[final_ctrl_mri_spect_df[\"Subject\"]==subject]\n",
    "    \n",
    "    #getting the Spect and T1 modalities from the original path\n",
    "    ctrl_original_t1 = ctrl_original + str(subject) + \"/T1-anatomical/\"\n",
    "    t1_files = os.listdir(ctrl_original_t1)\n",
    "    \n",
    "    for t1 in t1_files:\n",
    "        original_date = t1.split(\"_\")\n",
    "        ctrl_subject_df[]\n",
    "        \n",
    "    \n",
    "    ctrl_original_spect = ctrl_original + str(subject) + \"/Reconstructed_DaTSCAN/\"    \n",
    "    \n",
    "    print(\"related files: \", os.listdir(ctrl_original_subject))\n",
    "\n"
   ]
  },
  {
   "cell_type": "markdown",
   "metadata": {},
   "source": [
    "## For extra PD patients that were not taken into account in the EMBC approach"
   ]
  },
  {
   "cell_type": "code",
   "execution_count": null,
   "metadata": {},
   "outputs": [],
   "source": [
    "# in summary we have for control and pd subjects: final_ctrl_mri_spect_df and final_pd_mri_spect_df\n",
    "original_path = \"../../../../../../Datasets/Parkinson/radiological/PPMI/spect-mri/original\"\n",
    "save_path = \"../../../../../../Datasets/Parkinson/radiological/PPMI/spect-mri/filtered/test2/parkinson\"\n",
    "\n",
    "ctrl_original = original_path + \"/controlMri-Spect/PPMI/\"\n",
    "pd_original = original_path + \"/pdMri-Spect/PPMI/\""
   ]
  },
  {
   "cell_type": "code",
   "execution_count": null,
   "metadata": {},
   "outputs": [],
   "source": [
    "def find_nii_file(path):\n",
    "    \"\"\"\n",
    "    Recursively search for a file with .nii extension in the given path.\n",
    "    \n",
    "    Args:\n",
    "    - path (str): The path to search in.\n",
    "    \n",
    "    Returns:\n",
    "    - str or None: The path of the first .nii file found, or None if no such file is found.\n",
    "    \"\"\"\n",
    "    for root, dirs, files in os.walk(path):\n",
    "        for file in files:\n",
    "            if file.endswith('.nii') or file.endswith('.dcm'):\n",
    "                return os.path.join(root, file)\n",
    "    return None"
   ]
  },
  {
   "cell_type": "code",
   "execution_count": null,
   "metadata": {},
   "outputs": [],
   "source": [
    "import shutil\n",
    "\n",
    "#for control set from the final_ctrl_mri_spect_df dataframe\n",
    "pd_subjects = sorted(pd_to_take)\n",
    "\n",
    "modality = \"SPECT\"\n",
    "\n",
    "for subject in pd_subjects:\n",
    "    print(\"subject: \", subject)\n",
    "    subject_df = final_pd_mri_spect_df[final_pd_mri_spect_df[\"Subject\"]==subject]\n",
    "    \n",
    "    #getting the Spect and T1 modalities from the original path\n",
    "    if modality == \"MRI\":\n",
    "        reference_date = subject_df[subject_df[\"Modality\"]==\"MRI\"][\"Acq Date\"].values[0]\n",
    "        source = pd_original + str(subject) + \"/T1-anatomical/\"\n",
    "        current_save_path = save_path + \"/mri/\" + str(subject)\n",
    "    else:\n",
    "        reference_date = subject_df[subject_df[\"Modality\"]==\"SPECT\"][\"Acq Date\"].values[0]\n",
    "        source = pd_original + str(subject) + \"/Reconstructed_DaTSCAN/\"\n",
    "        current_save_path = save_path + \"/spect/\" + str(subject) + \"/\"\n",
    "    \n",
    "    if not os.path.exists(current_save_path):\n",
    "        os.makedirs(current_save_path)\n",
    "    \n",
    "    reference_date = reference_date.astype('datetime64[D]')  \n",
    "    print(\"reference date: \", reference_date) \n",
    "    print(type(reference_date))  \n",
    "    files = os.listdir(source)\n",
    "    \n",
    "    for file in files:\n",
    "        \n",
    "        original_date = file.split(\"_\")[0]  \n",
    "        original_date = np.datetime64(original_date)   \n",
    "       \n",
    "        if original_date == reference_date:\n",
    "            print(\"original date: \", original_date)\n",
    "            current_source = source + file\n",
    "            current_file = find_nii_file(current_source)\n",
    "            print(\"original file: \", current_file)\n",
    "            print(\"moving to: \", current_save_path)\n",
    "            # Copy file to destination\n",
    "            shutil.copy2(current_file, current_save_path)\n",
    "            \n",
    "        else:\n",
    "            None"
   ]
  },
  {
   "cell_type": "markdown",
   "metadata": {},
   "source": [
    "## Moving the nii.gz converted files from the .dcm SPECT files"
   ]
  },
  {
   "cell_type": "code",
   "execution_count": null,
   "metadata": {},
   "outputs": [],
   "source": [
    "file1 = \"PPMI_3116_NM_Reconstructed_DaTSCAN_Br_20170503135214533_1_S561084_spect.nii\"\n",
    "string = \"3116\"\n",
    "\n",
    "if string in file1:\n",
    "    print(\"yes\")\n",
    "else:\n",
    "    print(\"no\")"
   ]
  },
  {
   "cell_type": "code",
   "execution_count": null,
   "metadata": {},
   "outputs": [],
   "source": [
    "root_path = \"../../../../../../Datasets/Parkinson/radiological/PPMI/spect-mri/filtered/test2/parkinson/spect/\"\n",
    "files = os.listdir(root_path)\n",
    "\n",
    "#for control set from the final_ctrl_mri_spect_df dataframe\n",
    "pd_subjects = sorted(pd_to_take)\n",
    "\n",
    "modality = \"SPECT\"\n",
    "\n",
    "for subject in pd_subjects:\n",
    "    print(\"subject: \", subject)\n",
    "    save_path = root_path + str(subject) + \"/\"\n",
    "    \n",
    "    for file in files:\n",
    "        file_path = root_path + file\n",
    "        if os.path.isdir(file_path):\n",
    "            None\n",
    "        else:\n",
    "            if str(subject) in file:\n",
    "                current_file_path = root_path + file\n",
    "                print(\"current file path: \", current_file_path)\n",
    "                print(\"moving to: \", save_path)\n",
    "                shutil.move(current_file_path, save_path)\n",
    "            else:\n",
    "                None           "
   ]
  },
  {
   "cell_type": "markdown",
   "metadata": {},
   "source": [
    "## Checking the SPECT preprocessing missing cases"
   ]
  },
  {
   "cell_type": "code",
   "execution_count": null,
   "metadata": {},
   "outputs": [],
   "source": [
    "base_path = \"../../../../../../Datasets/Parkinson/radiological/PPMI/spect-mri/filtered/test2/parkinson/spect\"\n",
    "cases = os.listdir(base_path)\n",
    "ref_can = 4\n",
    "ref_can2 = 1\n",
    "cases_to_resampled = []\n",
    "cases_to_registered = []\n",
    "other_cases = []\n",
    "\n",
    "for case in cases:\n",
    "    preprocessed_case_path = os.path.join(base_path, case, \"preprocessed\")\n",
    "    can = len(os.listdir(preprocessed_case_path))\n",
    "    if can != ref_can:\n",
    "        \n",
    "        if can == 0:\n",
    "            #if no files were found, the the resampling method needs to be executed\n",
    "            cases_to_resampled.append(case)\n",
    "        \n",
    "        #if only there is a one file maybe the registration process must be done\n",
    "        elif can == 1:\n",
    "            cases_to_registered.append(case)\n",
    "        \n",
    "        else:\n",
    "            other_cases.append(case)\n",
    "        \n",
    "print(\"cases that need resampled: \", len(cases_to_resampled))\n",
    "print(\"cases that need registration: \", len(cases_to_registered))\n",
    "print(\"cases that need others: \", len(other_cases))"
   ]
  },
  {
   "cell_type": "code",
   "execution_count": null,
   "metadata": {},
   "outputs": [],
   "source": [
    "sorted(cases_to_resampled)"
   ]
  },
  {
   "cell_type": "code",
   "execution_count": null,
   "metadata": {},
   "outputs": [],
   "source": [
    "new_pd_patients = sorted(os.listdir(base_path))\n",
    "print(new_pd_patients)"
   ]
  },
  {
   "cell_type": "code",
   "execution_count": null,
   "metadata": {},
   "outputs": [],
   "source": [
    "# open file\n",
    "with open('newPdPatients.txt', 'w+') as f:\n",
    "\t\n",
    "\t# write elements of list\n",
    "\tfor items in new_pd_patients:\n",
    "\t\tf.write('%s\\n' %items)\n",
    "\t\n",
    "\tprint(\"File written successfully\")\n",
    "# close the file\n",
    "f.close()"
   ]
  },
  {
   "cell_type": "code",
   "execution_count": null,
   "metadata": {},
   "outputs": [],
   "source": []
  }
 ],
 "metadata": {
  "kernelspec": {
   "display_name": "Python 3",
   "language": "python",
   "name": "python3"
  },
  "language_info": {
   "codemirror_mode": {
    "name": "ipython",
    "version": 3
   },
   "file_extension": ".py",
   "mimetype": "text/x-python",
   "name": "python",
   "nbconvert_exporter": "python",
   "pygments_lexer": "ipython3",
   "version": "3.8.10"
  },
  "orig_nbformat": 4
 },
 "nbformat": 4,
 "nbformat_minor": 2
}
