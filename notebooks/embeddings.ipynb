{
 "cells": [
  {
   "cell_type": "code",
   "execution_count": null,
   "metadata": {},
   "outputs": [],
   "source": [
    "import os\n",
    "os.environ[\"CUDA_DEVICE_ORDER\"] = \"PCI_BUS_ID\";\n",
    "os.environ[\"CUDA_VISIBLE_DEVICES\"] = \"0\"\n",
    "os.environ['TF_ENABLE_ONEDNN_OPTS'] = '0'"
   ]
  },
  {
   "cell_type": "markdown",
   "metadata": {},
   "source": [
    "# <font color='red'>**Loading trained networks**</font>\n",
    "## Useful functions"
   ]
  },
  {
   "cell_type": "code",
   "execution_count": null,
   "metadata": {},
   "outputs": [],
   "source": [
    "import numpy as np\n",
    "from tqdm import tqdm\n",
    "from tensorflow.keras.preprocessing.image import load_img\n",
    "from tensorflow.keras.preprocessing.image import img_to_array\n",
    "from numpy import asarray\n",
    "import tensorflow as tf\n",
    "AUTOTUNE = tf.data.AUTOTUNE\n",
    "import matplotlib.pyplot as plt\n",
    "from tensorflow.keras.models import Model\n",
    "from tensorflow.keras.layers import Conv2D\n",
    "import imageio\n",
    "import os\n",
    "import pandas as pd\n",
    "from tensorflow.keras.preprocessing.image import ImageDataGenerator\n",
    "from PIL import Image\n",
    "from sklearn.metrics import confusion_matrix, ConfusionMatrixDisplay\n",
    "from sklearn import metrics\n",
    "from sklearn.metrics import roc_curve, auc\n",
    "from sklearn.metrics import precision_recall_fscore_support as score\n",
    "from tensorflow.keras import layers\n",
    "from sklearn import preprocessing\n",
    "from tensorflow.keras.utils import plot_model"
   ]
  },
  {
   "cell_type": "code",
   "execution_count": null,
   "metadata": {},
   "outputs": [],
   "source": [
    "!pip install -q git+https://github.com/tensorflow/examples.git"
   ]
  },
  {
   "cell_type": "code",
   "execution_count": null,
   "metadata": {},
   "outputs": [],
   "source": [
    "from tensorflow_examples.models.pix2pix import pix2pix"
   ]
  },
  {
   "cell_type": "code",
   "execution_count": null,
   "metadata": {},
   "outputs": [],
   "source": [
    "gpus = tf.config.experimental.list_physical_devices('GPU')\n",
    "tf.config.experimental.set_memory_growth(gpus[0], True)"
   ]
  },
  {
   "cell_type": "code",
   "execution_count": null,
   "metadata": {},
   "outputs": [],
   "source": [
    "BUFFER_SIZE = 1000\n",
    "BATCH_SIZE = 1\n",
    "IMG_WIDTH = 256\n",
    "IMG_HEIGHT = 256\n",
    "OUTPUT_CHANNELS = 3"
   ]
  },
  {
   "cell_type": "markdown",
   "metadata": {},
   "source": [
    "### Import and reuse the Pix2Pix models"
   ]
  },
  {
   "cell_type": "code",
   "execution_count": null,
   "metadata": {},
   "outputs": [],
   "source": [
    "OUTPUT_CHANNELS = 3\n",
    "\n",
    "#generator_g = pix2pix.unet_generator(OUTPUT_CHANNELS, norm_type='instancenorm')\n",
    "#generator_f = pix2pix.unet_generator(OUTPUT_CHANNELS, norm_type='instancenorm')\n",
    "\n",
    "discriminator_x = pix2pix.discriminator(norm_type='instancenorm', target=False)\n",
    "discriminator_y = pix2pix.discriminator(norm_type='instancenorm', target=False)"
   ]
  },
  {
   "cell_type": "markdown",
   "metadata": {},
   "source": [
    "## Improving the Generator model\n",
    "### Basic utils"
   ]
  },
  {
   "cell_type": "code",
   "execution_count": null,
   "metadata": {},
   "outputs": [],
   "source": [
    "class InstanceNormalization(tf.keras.layers.Layer):\n",
    "  \"\"\"Instance Normalization Layer (https://arxiv.org/abs/1607.08022).\"\"\"\n",
    "\n",
    "  def __init__(self, epsilon=1e-5):\n",
    "    super(InstanceNormalization, self).__init__()\n",
    "    self.epsilon = epsilon\n",
    "\n",
    "  def build(self, input_shape):\n",
    "    self.scale = self.add_weight(\n",
    "        name='scale',\n",
    "        shape=input_shape[-1:],\n",
    "        initializer=tf.random_normal_initializer(1., 0.02),\n",
    "        trainable=True)\n",
    "\n",
    "    self.offset = self.add_weight(\n",
    "        name='offset',\n",
    "        shape=input_shape[-1:],\n",
    "        initializer='zeros',\n",
    "        trainable=True)\n",
    "\n",
    "  def call(self, x):\n",
    "    mean, variance = tf.nn.moments(x, axes=[1, 2], keepdims=True)\n",
    "    inv = tf.math.rsqrt(variance + self.epsilon)\n",
    "    normalized = (x - mean) * inv\n",
    "    return self.scale * normalized + self.offset"
   ]
  },
  {
   "cell_type": "code",
   "execution_count": null,
   "metadata": {},
   "outputs": [],
   "source": [
    "def downsample(filters, size, norm_type='batchnorm', apply_norm=True):\n",
    "  \"\"\"Downsamples an input.\n",
    "  Conv2D => Batchnorm => LeakyRelu\n",
    "  Args:\n",
    "    filters: number of filters\n",
    "    size: filter size\n",
    "    norm_type: Normalization type; either 'batchnorm' or 'instancenorm'.\n",
    "    apply_norm: If True, adds the batchnorm layer\n",
    "  Returns:\n",
    "    Downsample Sequential Model\n",
    "  \"\"\"\n",
    "  initializer = tf.random_normal_initializer(0., 0.02)\n",
    "\n",
    "  result = tf.keras.Sequential()\n",
    "  result.add(\n",
    "      tf.keras.layers.Conv2D(filters, size, strides=2, padding='same',\n",
    "                             kernel_initializer=initializer, use_bias=False))\n",
    "\n",
    "  if apply_norm:\n",
    "    if norm_type.lower() == 'batchnorm':\n",
    "      result.add(tf.keras.layers.BatchNormalization())\n",
    "    elif norm_type.lower() == 'instancenorm':\n",
    "      result.add(InstanceNormalization())\n",
    "\n",
    "  result.add(tf.keras.layers.LeakyReLU())\n",
    "\n",
    "  return result"
   ]
  },
  {
   "cell_type": "code",
   "execution_count": null,
   "metadata": {},
   "outputs": [],
   "source": [
    "def upsample(filters, size, norm_type='batchnorm', apply_dropout=False):\n",
    "  \"\"\"Upsamples an input.\n",
    "  Conv2DTranspose => Batchnorm => Dropout => Relu\n",
    "  Args:\n",
    "    filters: number of filters\n",
    "    size: filter size\n",
    "    norm_type: Normalization type; either 'batchnorm' or 'instancenorm'.\n",
    "    apply_dropout: If True, adds the dropout layer\n",
    "  Returns:\n",
    "    Upsample Sequential Model\n",
    "  \"\"\"\n",
    "\n",
    "  initializer = tf.random_normal_initializer(0., 0.02)\n",
    "\n",
    "  result = tf.keras.Sequential()\n",
    "  result.add(\n",
    "      tf.keras.layers.Conv2DTranspose(filters, size, strides=2,\n",
    "                                      padding='same',\n",
    "                                      kernel_initializer=initializer,\n",
    "                                      use_bias=False))\n",
    "\n",
    "  if norm_type.lower() == 'batchnorm':\n",
    "    result.add(tf.keras.layers.BatchNormalization())\n",
    "  elif norm_type.lower() == 'instancenorm':\n",
    "    result.add(InstanceNormalization())\n",
    "\n",
    "  if apply_dropout:\n",
    "    result.add(tf.keras.layers.Dropout(0.5))\n",
    "\n",
    "  result.add(tf.keras.layers.ReLU())\n",
    "\n",
    "  return result"
   ]
  },
  {
   "cell_type": "markdown",
   "metadata": {},
   "source": [
    "### Generators"
   ]
  },
  {
   "cell_type": "code",
   "execution_count": null,
   "metadata": {},
   "outputs": [],
   "source": [
    "def unet_generator(img_width, img_high, output_channels, norm_type='instancenorm'):\n",
    "  \"\"\"Modified u-net generator model (https://arxiv.org/abs/1611.07004).\n",
    "  Args:\n",
    "    output_channels: Output channels\n",
    "    norm_type: Type of normalization. Either 'batchnorm' or 'instancenorm'.\n",
    "  Returns:\n",
    "    Generator model\n",
    "  \"\"\"\n",
    "\n",
    "  down_stack = [\n",
    "      downsample(64, 4, norm_type, apply_norm=False),  # (bs, 128, 128, 64)\n",
    "      downsample(128, 4, norm_type),  # (bs, 64, 64, 128)\n",
    "      downsample(256, 4, norm_type),  # (bs, 32, 32, 256)\n",
    "      downsample(512, 4, norm_type),  # (bs, 16, 16, 512)\n",
    "      downsample(512, 4, norm_type),  # (bs, 8, 8, 512)\n",
    "      downsample(512, 4, norm_type),  # (bs, 4, 4, 512)\n",
    "      downsample(512, 4, norm_type),  # (bs, 2, 2, 512)\n",
    "      downsample(512, 4, norm_type),  # (bs, 1, 1, 512)\n",
    "  ]\n",
    "\n",
    "  up_stack = [\n",
    "      upsample(512, 4, norm_type, apply_dropout=True),  # (bs, 2, 2, 1024)\n",
    "      upsample(512, 4, norm_type, apply_dropout=True),  # (bs, 4, 4, 1024)\n",
    "      upsample(512, 4, norm_type, apply_dropout=True),  # (bs, 8, 8, 1024)\n",
    "      upsample(512, 4, norm_type),  # (bs, 16, 16, 1024)\n",
    "      upsample(256, 4, norm_type),  # (bs, 32, 32, 512)\n",
    "      upsample(128, 4, norm_type),  # (bs, 64, 64, 256)\n",
    "      upsample(64, 4, norm_type),  # (bs, 128, 128, 128)\n",
    "  ]\n",
    "\n",
    "  initializer = tf.random_normal_initializer(0., 0.02)\n",
    "  last = tf.keras.layers.Conv2DTranspose(output_channels, 4, strides=2,\n",
    "                                         padding='same', kernel_initializer=initializer,\n",
    "                                         activation='tanh')  # (bs, 256, 256, 3)\n",
    "\n",
    "  img_input = tf.keras.layers.Input(shape=[img_width, img_high, 3])\n",
    "\n",
    "  x = img_input\n",
    "\n",
    "  # Downsampling through the model\n",
    "  skips = []\n",
    "  for down in down_stack:\n",
    "    x = down(x)\n",
    "    skips.append(x)\n",
    "\n",
    "  skips = reversed(skips[:-1])\n",
    "\n",
    "  # Upsampling and establishing the skip connections\n",
    "  for up, skip in zip(up_stack, skips):\n",
    "    x = up(x)\n",
    "    #x = concat([x, skip])\n",
    "    x = tf.keras.layers.Concatenate()([x, skip])\n",
    "\n",
    "  x = last(x)\n",
    "\n",
    "  return tf.keras.Model(inputs=img_input, outputs=x) #tf.keras.Model(inputs=[img_input, input_label], outputs=x)"
   ]
  },
  {
   "cell_type": "code",
   "execution_count": null,
   "metadata": {},
   "outputs": [],
   "source": [
    "OUTPUT_CHANNELS = 3\n",
    "generator_g = unet_generator(img_width=IMG_WIDTH, img_high=IMG_HEIGHT, output_channels=OUTPUT_CHANNELS)\n",
    "generator_f = unet_generator(img_width=IMG_WIDTH, img_high=IMG_HEIGHT, output_channels=OUTPUT_CHANNELS)"
   ]
  },
  {
   "cell_type": "markdown",
   "metadata": {},
   "source": [
    "## Until here"
   ]
  },
  {
   "cell_type": "markdown",
   "metadata": {},
   "source": [
    "### Initializing optimizers, generatos and discriminators"
   ]
  },
  {
   "cell_type": "code",
   "execution_count": null,
   "metadata": {},
   "outputs": [],
   "source": [
    "generator_g_optimizer = tf.keras.optimizers.Adam(2e-4, beta_1=0.5)\n",
    "generator_f_optimizer = tf.keras.optimizers.Adam(2e-4, beta_1=0.5)\n",
    "\n",
    "discriminator_x_optimizer = tf.keras.optimizers.Adam(2e-4, beta_1=0.5)\n",
    "discriminator_y_optimizer = tf.keras.optimizers.Adam(2e-4, beta_1=0.5)"
   ]
  },
  {
   "cell_type": "code",
   "execution_count": null,
   "metadata": {},
   "outputs": [],
   "source": [
    "checkpoint_path = \"../models/cyclegan/preprocessed/mri_to_spect/\" \n",
    "\n",
    "ckpt = tf.train.Checkpoint(generator_g=generator_g,\n",
    "                           generator_f=generator_f,\n",
    "                        #    discriminator_x=discriminator_x,\n",
    "                        #    discriminator_y=discriminator_y,\n",
    "                           generator_g_optimizer=generator_g_optimizer,\n",
    "                           generator_f_optimizer=generator_f_optimizer,\n",
    "                           discriminator_x_optimizer=discriminator_x_optimizer,\n",
    "                           discriminator_y_optimizer=discriminator_y_optimizer)\n",
    "\n",
    "ckpt_manager = tf.train.CheckpointManager(ckpt, checkpoint_path, max_to_keep=5)\n",
    "\n",
    "# if a checkpoint exists, restore the latest checkpoint.\n",
    "if ckpt_manager.latest_checkpoint:\n",
    "    ckpt.restore(ckpt_manager.latest_checkpoint)\n",
    "    print ('Latest checkpoint restored!!')\n",
    "\n",
    "ckpt.restore(ckpt_manager.latest_checkpoint)\n",
    "if ckpt_manager.latest_checkpoint:\n",
    "    print(\"Restored from {}\".format(ckpt_manager.latest_checkpoint))\n",
    "else:\n",
    "    print(\"Initializing from scratch.\")"
   ]
  },
  {
   "cell_type": "markdown",
   "metadata": {},
   "source": [
    "# Making net test"
   ]
  },
  {
   "cell_type": "code",
   "execution_count": null,
   "metadata": {},
   "outputs": [],
   "source": [
    "for layer in generator_g.layers:\n",
    "    print(\"layer.name: \", layer.name)\n",
    "    try:\n",
    "        print(\"output shape: \", layer.output_shape)\n",
    "    except:\n",
    "        print(\"no output shape\")"
   ]
  },
  {
   "cell_type": "code",
   "execution_count": null,
   "metadata": {},
   "outputs": [],
   "source": [
    "initializer = tf.keras.initializers.Constant(1.)\n",
    "l1 = generator_g.get_layer(name='concatenate')\n",
    "print(l1.output_shape)\n",
    "output = l1.output #l1.get_input_at(0)[0]\n",
    "print(output.shape)\n",
    "x = layers.Conv2D(filters=output.shape[-1], kernel_size=(2,2), kernel_initializer=initializer)(output)\n",
    "x = layers.Reshape((output.shape[-1],))(x)\n",
    "emb2 = Model(inputs=generator_g.input, outputs=x)\n",
    "emb2.summary()"
   ]
  },
  {
   "cell_type": "markdown",
   "metadata": {},
   "source": [
    "# until here"
   ]
  },
  {
   "cell_type": "markdown",
   "metadata": {},
   "source": [
    "# <font color='red'>**Load and preprocess data**</font>"
   ]
  },
  {
   "cell_type": "code",
   "execution_count": null,
   "metadata": {},
   "outputs": [],
   "source": [
    "str2idx = {\n",
    "    'control': 0,\n",
    "    'parkinson': 1\n",
    "}\n",
    "\n",
    "idx2str = {\n",
    "    0: 'control',\n",
    "    1: 'parkinson'\n",
    "}"
   ]
  },
  {
   "cell_type": "markdown",
   "metadata": {},
   "source": [
    "## Helper functions"
   ]
  },
  {
   "cell_type": "code",
   "execution_count": null,
   "metadata": {},
   "outputs": [],
   "source": [
    "def ohe_class(index):\n",
    "    \"\"\"\n",
    "    One-Hot Encoding for Classification Task\n",
    "\n",
    "    This function takes an integer 'index' representing the class label and performs\n",
    "    one-hot encoding for a classification task. One-hot encoding is a technique used\n",
    "    to convert categorical data (class labels) into a binary vector representation,\n",
    "    where the index of the class label is marked with 1 and all other elements are 0.\n",
    "\n",
    "    Parameters:\n",
    "        index (int): An integer representing the class label that needs to be one-hot encoded.\n",
    "                     It must be a non-negative integer less than the number of classes.\n",
    "\n",
    "    Returns:\n",
    "        numpy.ndarray: A NumPy array representing the one-hot encoded label. The length of\n",
    "                       the array is equal to the number of classes, and the element at the\n",
    "                       specified 'index' is set to 1, while all other elements are set to 0.\n",
    "\n",
    "    Example:\n",
    "        Suppose there are three classes: 0, 1, and 2. To one-hot encode class 1, use:\n",
    "        >>> class_index = 1\n",
    "        >>> encoded_label = ohe_class(class_index)\n",
    "        >>> print(encoded_label)\n",
    "        Output: [0 1 0]\n",
    "\n",
    "    Note:\n",
    "        The function assumes that the number of classes is fixed to 3, as the length of\n",
    "        the one-hot encoded label is hard-coded to 3. If your classification task involves\n",
    "        a different number of classes, you will need to modify the function accordingly.\n",
    "    \"\"\"\n",
    "    # Create an array of zeros with length 3 and integer data type\n",
    "    ohe_label = np.zeros(2, dtype=int)\n",
    "    \n",
    "    # Set the element at 'index' to 1 to represent the one-hot encoding\n",
    "    ohe_label[index] = 1\n",
    "    \n",
    "    # Return the one-hot encoded label as an array\n",
    "    return ohe_label\n"
   ]
  },
  {
   "cell_type": "code",
   "execution_count": null,
   "metadata": {},
   "outputs": [],
   "source": [
    "# scaling the images to [-1, 1]\n",
    "def normalize(image):\n",
    "    image = tf.cast(image, tf.float32)\n",
    "    image = (image / 127.5) - 1\n",
    "    return image\n",
    "\n",
    "def preprocess_image(image):\n",
    "    image = normalize(image)\n",
    "    return image"
   ]
  },
  {
   "cell_type": "code",
   "execution_count": null,
   "metadata": {},
   "outputs": [],
   "source": [
    "def load_images(path, size=(256, 256)):\n",
    "    \"\"\"\n",
    "    Load Images and Corresponding Labels from a Directory into Memory.\n",
    "\n",
    "    This function loads all images from a specified directory and their corresponding\n",
    "    labels (assumed to be encoded in the image filenames) into memory. The images are\n",
    "    loaded, resized to the specified dimensions, and converted into numpy arrays.\n",
    "    Labels are extracted from the filenames and converted into one-hot encoded vectors.\n",
    "\n",
    "    Parameters:\n",
    "        path (str): The path to the directory containing the images.\n",
    "        size (tuple, optional): A tuple (width, height) specifying the target size\n",
    "                                for resizing the images. Default is (256, 256).\n",
    "        rgb (bool, optional): Set to True to load images in RGB color mode,\n",
    "                              False to load in grayscale mode. Default is False.\n",
    "\n",
    "    Returns:\n",
    "        numpy.ndarray: A NumPy array containing the image data. Each element in the\n",
    "                       array is an image represented as a numpy array.\n",
    "        list: A list of one-hot encoded labels corresponding to each image in the\n",
    "              same order as the image data. Each label is represented as a NumPy\n",
    "              array of length equal to the number of classes.\n",
    "\n",
    "    Note:\n",
    "        The function uses Keras' 'load_img' and 'img_to_array' functions to load\n",
    "        and convert the images. Ensure that Keras or an appropriate library is\n",
    "        installed before using this function.\n",
    "\n",
    "    Example:\n",
    "        >>> data_path = \"/path/to/images/\"\n",
    "        >>> image_data, labels = load_images(data_path, size=(128, 128), rgb=True)\n",
    "        >>> print(image_data.shape)\n",
    "        Output: (num_images, 128, 128, 3)  # Assuming num_images is the total number of images.\n",
    "        >>> print(len(labels))\n",
    "        Output: num_images  # Number of images, each with a corresponding one-hot encoded label.\n",
    "    \"\"\"\n",
    "\n",
    "    data_list = list()\n",
    "    label_list = list()\n",
    "\n",
    "    # Enumerate filenames in the directory, assuming all are images\n",
    "    for filename in tqdm(os.listdir(path)):\n",
    "        # Load and resize the image\n",
    "        pixels = load_img(os.path.join(path, filename), target_size=size, color_mode=\"rgb\")\n",
    "        # Convert to numpy array\n",
    "        pixels = img_to_array(pixels)\n",
    "\n",
    "        # Store the image data\n",
    "        data_list.append(pixels)\n",
    "\n",
    "        # For labels control: control_case_3811_slice_081.png\n",
    "        group = filename.split('_')[0]\n",
    "        # Assuming 'str2idx' is a dictionary mapping class names to their respective indices\n",
    "        indx = str2idx[group]\n",
    "        # Get one-hot encoding from the index\n",
    "        ohe_label = ohe_class(indx)\n",
    "        label_list.append(ohe_label)\n",
    "\n",
    "    return np.asarray(data_list), label_list\n"
   ]
  },
  {
   "cell_type": "code",
   "execution_count": null,
   "metadata": {},
   "outputs": [],
   "source": [
    "def saving_emb(split, group, embeddings, labels, modality=None):\n",
    "    \"\"\"\n",
    "    Save Embeddings, Labels, and Videos to Files.\n",
    "\n",
    "    This function takes embeddings, labels, and videos obtained from a model and\n",
    "    saves them to separate files for later use. The data is saved as NumPy arrays.\n",
    "\n",
    "    Parameters:\n",
    "        split (str): Indicates the data split, either 'train' or 'test', to determine\n",
    "                     the destination directory for saving the files.\n",
    "        clase (str): The class name or identifier to be included in the file names\n",
    "                     for better organization.\n",
    "        embeddings (list): A list of embeddings (feature vectors) obtained from a model.\n",
    "        labels (list): A list of one-hot encoded labels corresponding to the embeddings.\n",
    "        videos (list): A list of video data associated with the embeddings (optional).\n",
    "\n",
    "    Note:\n",
    "        The function converts the input lists 'embeddings', 'labels', and 'videos'\n",
    "        into NumPy arrays before saving them. Ensure that the data is properly formatted\n",
    "        before calling this function.\n",
    "    \"\"\"\n",
    "    # Convert the input lists to NumPy arrays\n",
    "    embeddings_arr = np.array(embeddings)\n",
    "    labels_arr = np.array(labels)\n",
    "\n",
    "    print(\"emb dimension: \", embeddings_arr.shape)\n",
    "    print(\"label dimension: \", labels_arr.shape)\n",
    "\n",
    "    # Create the file path based on the split and class name\n",
    "    if split == 'train':        \n",
    "        #file_name = \"../embeddings/cyclegan/mri_to_spect/train_\" + group + \"/\"# + clase + '/'\n",
    "        file_name = \"../embeddings/cyclegan/spect_to_mri/train_\" + modality + \"/\"# + clase + '/'\n",
    "    else:\n",
    "        file_name = \"../embeddings/cyclegan/spect_to_mri/test_\" + modality + \"/\"# + clase + '/'\n",
    "\n",
    "    print(\"saving on: \", file_name)\n",
    "\n",
    "    # Create the directory if it does not exist\n",
    "    if not os.path.exists(file_name):\n",
    "        os.makedirs(file_name)\n",
    "\n",
    "    # Save the embeddings, labels, and videos (if provided) as separate files\n",
    "    np.save(file_name + \"Embeddings\", embeddings_arr)\n",
    "    np.save(file_name + \"Labels\", labels_arr)"
   ]
  },
  {
   "cell_type": "code",
   "execution_count": null,
   "metadata": {},
   "outputs": [],
   "source": [
    "def toDataSet(path_origen):\n",
    "    \"\"\"\n",
    "    Convert Images and Labels to TensorFlow Dataset.\n",
    "\n",
    "    This function loads images and corresponding labels from a specified directory,\n",
    "    converts them into TensorFlow datasets, applies preprocessing to the images,\n",
    "    and returns a combined dataset containing the image and label pairs.\n",
    "\n",
    "    Parameters:\n",
    "        path_origen (str): The path to the directory containing the images.\n",
    "\n",
    "    Returns:\n",
    "        tf.data.Dataset: A TensorFlow dataset containing image and label pairs.\n",
    "                        The images are preprocessed and batched, and the labels\n",
    "                        are cast to int64 data type.\n",
    "\n",
    "    Note:\n",
    "        This function assumes that the 'load_images' function is defined and returns\n",
    "        a list of image data and labels. It also assumes the availability of 'BATCH_SIZE',\n",
    "        'AUTOTUNE', and 'BUFFER_SIZE' variables for data preprocessing.\n",
    "\n",
    "    \"\"\"\n",
    "    # Load images and labels using the 'load_images' function\n",
    "    data, labels = load_images(path_origen)\n",
    "\n",
    "    # Convert the data to NumPy array\n",
    "    data_array = np.asarray(data)\n",
    "\n",
    "    # Create a TensorFlow dataset for the image data\n",
    "    data_ds = tf.data.Dataset.from_tensor_slices(data_array)\n",
    "\n",
    "    # Create a TensorFlow dataset for the labels and batch them\n",
    "    labels_ds = tf.data.Dataset.from_tensor_slices(tf.cast(labels, tf.int64)).batch(BATCH_SIZE)\n",
    "\n",
    "    # Apply image preprocessing, cache, shuffle, and batch the image dataset\n",
    "    data_ds = data_ds.map(preprocess_image, num_parallel_calls=AUTOTUNE).cache().shuffle(BUFFER_SIZE).batch(BATCH_SIZE)\n",
    "\n",
    "    # Combine the image and label datasets\n",
    "    data_label_ds = tf.data.Dataset.zip((data_ds, labels_ds))\n",
    "\n",
    "    return data_label_ds"
   ]
  },
  {
   "cell_type": "markdown",
   "metadata": {},
   "source": [
    "# <font color='red'>**Generator embeddings**</font>"
   ]
  },
  {
   "cell_type": "code",
   "execution_count": null,
   "metadata": {},
   "outputs": [],
   "source": [
    "def load_emb_model(generator):\n",
    "    \"\"\"\n",
    "    Load Embedding Model from a Generator Model.\n",
    "\n",
    "    This function takes a generator model, extracts the intermediate embedding layer,\n",
    "    and creates a new model (embedding model) that outputs the embeddings obtained\n",
    "    from the intermediate layer. The function returns this new embedding model.\n",
    "\n",
    "    Parameters:\n",
    "        generator_g (tf.keras.Model): The generator model from which to extract\n",
    "                                      the intermediate embedding layer.\n",
    "\n",
    "    Returns:\n",
    "        tf.keras.Model: A new TensorFlow model (embedding model) that takes the same\n",
    "                        input as the generator model and outputs the embeddings.\n",
    "\n",
    "    Note:\n",
    "        This function assumes that the generator model has a layer named 'concatenate'\n",
    "        representing the intermediate embedding layer.\n",
    "\n",
    "    \"\"\"\n",
    "    print(\"making emb model\")\n",
    "\n",
    "    initializer = tf.keras.initializers.Constant(1.)\n",
    "\n",
    "\n",
    "    if generator == \"generator_g\":\n",
    "        print(\"generator_g\")\n",
    "        generator = generator_g\n",
    "        l1 = generator.get_layer(name='concatenate')\n",
    "        output = l1.output #l1.get_input_at(0)[0]\n",
    "        x = layers.Conv2D(filters=output.shape[-1], kernel_size=(2,2), kernel_initializer=initializer)(output)\n",
    "        x = layers.Reshape((output.shape[-1],))(x)\n",
    "        emb2 = Model(inputs=generator.input, outputs=x)\n",
    "    else:\n",
    "        print(\"generator_f\")\n",
    "        generator = generator_f\n",
    "        l1 = generator.get_layer(name='concatenate_7')\n",
    "        output = l1.output #l1.get_input_at(0)[0]\n",
    "        x = layers.Conv2D(filters=output.shape[-1], kernel_size=(2,2), kernel_initializer=initializer)(output)\n",
    "        x = layers.Reshape((output.shape[-1],))(x)\n",
    "        emb2 = Model(inputs=generator.input, outputs=x)\n",
    "    \n",
    "    return emb2"
   ]
  },
  {
   "cell_type": "markdown",
   "metadata": {},
   "source": [
    "## Generating embeddings"
   ]
  },
  {
   "cell_type": "code",
   "execution_count": null,
   "metadata": {},
   "outputs": [],
   "source": [
    "split = 'train'\n",
    "group = 'control'\n",
    "modality = \"spect\"\n",
    "task = \"mri_to_spect\"\n",
    "\n",
    "if task != \"mri_to_spect\":\n",
    "     gen_path = '../data/full_rois/mri/' + split + '_' + group + '/'\n",
    "     clase = group\n",
    "else:\n",
    "     clase = modality\n",
    "     gen_path = '../data/preprocessed/full_rois/mri_to_spect/' + split + '_' + modality + '/'\n",
    "\n",
    "#print(\"gen_path: \", gen_path)\n",
    "generator = 'generator_f'\n",
    "\n",
    "#loading embedding model\n",
    "emb2 = load_emb_model(generator)\n",
    "data_ds = toDataSet(gen_path)\n",
    "can = len(data_ds)\n",
    "print(\"cantidad: \", can)\n",
    "embeddings, labels = [], []\n",
    "# label = [clase]*can\n",
    "# labels.extend(label)\n",
    "for img, label in tqdm(data_ds):\n",
    "     out = emb2(img)#emb2([img])#\n",
    "     embeddings.extend(out)\n",
    "     current_label = idx2str[np.argmax(label[0])]\n",
    "     labels.append(current_label)\n",
    "saving_emb(split, group, embeddings, labels, modality)"
   ]
  },
  {
   "cell_type": "code",
   "execution_count": null,
   "metadata": {},
   "outputs": [],
   "source": [
    "import numpy as np\n",
    "data_path = \"../embeddings/cyclegan/mri_to_spect/raw/test_mri/Embeddings.npy\"\n",
    "labels_path = \"../embeddings/cyclegan/mri_to_spect/raw/test_mri/Labels.npy\"\n",
    "\n",
    "data = np.load(data_path)\n",
    "labels = np.load(labels_path)\n",
    "print(data.shape)\n",
    "print(len(labels))"
   ]
  },
  {
   "cell_type": "code",
   "execution_count": null,
   "metadata": {},
   "outputs": [],
   "source": [
    "data.min()"
   ]
  },
  {
   "cell_type": "code",
   "execution_count": null,
   "metadata": {},
   "outputs": [],
   "source": [
    "data.max()"
   ]
  },
  {
   "cell_type": "code",
   "execution_count": null,
   "metadata": {},
   "outputs": [],
   "source": [
    "type(labels)"
   ]
  },
  {
   "cell_type": "code",
   "execution_count": null,
   "metadata": {},
   "outputs": [],
   "source": [
    "labels"
   ]
  },
  {
   "cell_type": "code",
   "execution_count": null,
   "metadata": {},
   "outputs": [],
   "source": [
    "np.count_nonzero(labels == \"control\")"
   ]
  },
  {
   "cell_type": "code",
   "execution_count": null,
   "metadata": {},
   "outputs": [],
   "source": [
    "986*2"
   ]
  },
  {
   "cell_type": "code",
   "execution_count": null,
   "metadata": {},
   "outputs": [],
   "source": []
  }
 ],
 "metadata": {
  "kernelspec": {
   "display_name": "Python 3",
   "language": "python",
   "name": "python3"
  },
  "language_info": {
   "codemirror_mode": {
    "name": "ipython",
    "version": 3
   },
   "file_extension": ".py",
   "mimetype": "text/x-python",
   "name": "python",
   "nbconvert_exporter": "python",
   "pygments_lexer": "ipython3",
   "version": "3.8.10"
  }
 },
 "nbformat": 4,
 "nbformat_minor": 2
}
