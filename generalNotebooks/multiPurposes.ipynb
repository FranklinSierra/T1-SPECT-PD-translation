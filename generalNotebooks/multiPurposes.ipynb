{
 "cells": [
  {
   "cell_type": "code",
   "execution_count": 1,
   "metadata": {},
   "outputs": [],
   "source": [
    "import os\n",
    "import pandas as pd"
   ]
  },
  {
   "cell_type": "markdown",
   "metadata": {},
   "source": [
    "## Just checking the amount of PD and control subjects"
   ]
  },
  {
   "cell_type": "code",
   "execution_count": 3,
   "metadata": {},
   "outputs": [
    {
     "name": "stdout",
     "output_type": "stream",
     "text": [
      "clase:  controlMri-Spect\n",
      "subjects:  239\n",
      "clase:  pdMri-Spect\n",
      "subjects:  1271\n"
     ]
    }
   ],
   "source": [
    "data_path = \"/home/Data/Datasets/Parkinson/radiological/PPMI/spect-mri/original\"\n",
    "clases = os.listdir(data_path)\n",
    "\n",
    "for clase in clases:\n",
    "    clase_path = os.path.join(data_path, clase, \"PPMI\")\n",
    "    subjects = os.listdir(clase_path)\n",
    "    print(\"clase: \", clase)\n",
    "    print(\"subjects: \", len(subjects))"
   ]
  },
  {
   "cell_type": "markdown",
   "metadata": {},
   "source": [
    "# Reading the corresponding patients information"
   ]
  },
  {
   "cell_type": "markdown",
   "metadata": {},
   "source": [
    "**Regarding particular patients of interest**"
   ]
  },
  {
   "cell_type": "code",
   "execution_count": 2,
   "metadata": {},
   "outputs": [],
   "source": [
    "gen_path = \"../../../../../../Datasets/Parkinson/radiological/PPMI/spect-mri/filtered\"\n",
    "splits = [\"test\", \"train\"]\n",
    "groups = [\"control\", \"parkinson\"]\n",
    "train_control_cases, train_parkinson_cases, test_control_cases, test_parkinson_cases = [], [], [], []\n",
    "\n",
    "for split in splits:\n",
    "    for group in groups:\n",
    "        cases = gen_path + \"/\" + split + \"/\" + group + \"/\" + \"parcellation/preprocessed/full_rois/mri_png\"\n",
    "\n",
    "        if group == \"control\" and split == \"train\":\n",
    "            train_control_cases = os.listdir(cases)\n",
    "        elif group == \"control\" and split == \"test\":\n",
    "            test_control_cases = os.listdir(cases)\n",
    "        elif group == \"parkinson\" and split == \"train\":\n",
    "            train_parkinson_cases = os.listdir(cases)\n",
    "        else:\n",
    "            test_parkinson_cases = os.listdir(cases)\n",
    "            \n",
    "train_control_cases = list(map(int, train_control_cases))\n",
    "test_control_cases = list(map(int, test_control_cases))\n",
    "train_parkinson_cases = list(map(int, train_parkinson_cases))\n",
    "test_parkinson_cases = list(map(int, test_parkinson_cases))"
   ]
  },
  {
   "cell_type": "code",
   "execution_count": 3,
   "metadata": {},
   "outputs": [
    {
     "name": "stdout",
     "output_type": "stream",
     "text": [
      "====== control ======\n",
      "[3817, 4010, 4067, 3390, 3852, 3572, 3169, 3114, 3804, 3389, 3310, 3151, 3355, 3765, 3768, 4004, 3750, 3554, 3300, 3851, 3571, 3807, 3369, 3813, 3370, 3854, 3353, 3769, 3316, 3361, 3555, 3165, 3805, 3115, 3756, 3171, 3106, 3816, 3853, 3857, 3779, 3812, 3191, 4139, 3350, 3188, 3368, 3318, 3161, 3551, 3806, 3357, 3767, 3563, 3301, 4018, 3172, 3850]\n",
      "/n\n",
      "[3565, 3759, 3104, 3160, 4032, 3358, 3803, 3855, 3320, 3569, 3570, 3859, 3811, 3157, 3112]\n",
      "====== parkinson ======\n",
      "[3105, 3392, 3124, 3789, 4001, 4006, 3556, 3111, 3166, 41486, 3760, 3564, 3102, 3818, 3577, 53060, 3134, 40781, 3354, 3323, 3780, 3552, 3181, 4005, 3830, 3120, 4024, 3307, 3174, 4026, 3314, 3167, 3800, 3557, 4035, 3832, 51632, 3128, 3586, 3321, 3364, 3826, 3863, 3814, 4019, 3867, 3575, 3822, 3771, 4025, 3113, 3360, 3328, 3322, 3585, 3383, 3309, 3107]\n",
      "/n\n",
      "[50028, 4069, 3753, 3380, 51731, 3366, 3311, 3764, 4030, 3127, 3815, 3178, 4034, 3327, 3108]\n"
     ]
    }
   ],
   "source": [
    "print(\"====== control ======\")\n",
    "print(train_control_cases)\n",
    "print(\"/n\")\n",
    "print(test_control_cases)\n",
    "print(\"====== parkinson ======\")\n",
    "print(train_parkinson_cases)\n",
    "print(\"/n\")\n",
    "print(test_parkinson_cases)"
   ]
  },
  {
   "cell_type": "markdown",
   "metadata": {},
   "source": [
    "## General information"
   ]
  },
  {
   "cell_type": "code",
   "execution_count": 6,
   "metadata": {},
   "outputs": [
    {
     "data": {
      "text/html": [
       "<div>\n",
       "<style scoped>\n",
       "    .dataframe tbody tr th:only-of-type {\n",
       "        vertical-align: middle;\n",
       "    }\n",
       "\n",
       "    .dataframe tbody tr th {\n",
       "        vertical-align: top;\n",
       "    }\n",
       "\n",
       "    .dataframe thead th {\n",
       "        text-align: right;\n",
       "    }\n",
       "</style>\n",
       "<table border=\"1\" class=\"dataframe\">\n",
       "  <thead>\n",
       "    <tr style=\"text-align: right;\">\n",
       "      <th></th>\n",
       "      <th>REC_ID</th>\n",
       "      <th>PATNO</th>\n",
       "      <th>EVENT_ID</th>\n",
       "      <th>PAG_NAME</th>\n",
       "      <th>INFODT</th>\n",
       "      <th>PDTRTMNT</th>\n",
       "      <th>PDSTATE</th>\n",
       "      <th>HRPOSTMED</th>\n",
       "      <th>HRDBSON</th>\n",
       "      <th>HRDBSOFF</th>\n",
       "      <th>...</th>\n",
       "      <th>NP3RTARL</th>\n",
       "      <th>NP3RTALL</th>\n",
       "      <th>NP3RTALJ</th>\n",
       "      <th>NP3RTCON</th>\n",
       "      <th>NP3TOT</th>\n",
       "      <th>DYSKPRES</th>\n",
       "      <th>DYSKIRAT</th>\n",
       "      <th>NHY</th>\n",
       "      <th>ORIG_ENTRY</th>\n",
       "      <th>LAST_UPDATE</th>\n",
       "    </tr>\n",
       "  </thead>\n",
       "  <tbody>\n",
       "    <tr>\n",
       "      <th>0</th>\n",
       "      <td>272451901</td>\n",
       "      <td>3000</td>\n",
       "      <td>BL</td>\n",
       "      <td>NUPDRS3</td>\n",
       "      <td>02/2011</td>\n",
       "      <td>NaN</td>\n",
       "      <td>NaN</td>\n",
       "      <td>NaN</td>\n",
       "      <td>NaN</td>\n",
       "      <td>NaN</td>\n",
       "      <td>...</td>\n",
       "      <td>0.0</td>\n",
       "      <td>0.0</td>\n",
       "      <td>0.0</td>\n",
       "      <td>0.0</td>\n",
       "      <td>4.0</td>\n",
       "      <td>0.0</td>\n",
       "      <td>NaN</td>\n",
       "      <td>0.0</td>\n",
       "      <td>02/2011</td>\n",
       "      <td>2020-06-25 16:02:19.0</td>\n",
       "    </tr>\n",
       "    <tr>\n",
       "      <th>1</th>\n",
       "      <td>338703101</td>\n",
       "      <td>3000</td>\n",
       "      <td>V04</td>\n",
       "      <td>NUPDRS3</td>\n",
       "      <td>03/2012</td>\n",
       "      <td>NaN</td>\n",
       "      <td>NaN</td>\n",
       "      <td>NaN</td>\n",
       "      <td>NaN</td>\n",
       "      <td>NaN</td>\n",
       "      <td>...</td>\n",
       "      <td>0.0</td>\n",
       "      <td>0.0</td>\n",
       "      <td>0.0</td>\n",
       "      <td>0.0</td>\n",
       "      <td>1.0</td>\n",
       "      <td>0.0</td>\n",
       "      <td>NaN</td>\n",
       "      <td>0.0</td>\n",
       "      <td>03/2012</td>\n",
       "      <td>2020-06-25 16:02:22.0</td>\n",
       "    </tr>\n",
       "    <tr>\n",
       "      <th>2</th>\n",
       "      <td>385009801</td>\n",
       "      <td>3000</td>\n",
       "      <td>V06</td>\n",
       "      <td>NUPDRS3</td>\n",
       "      <td>02/2013</td>\n",
       "      <td>NaN</td>\n",
       "      <td>NaN</td>\n",
       "      <td>NaN</td>\n",
       "      <td>NaN</td>\n",
       "      <td>NaN</td>\n",
       "      <td>...</td>\n",
       "      <td>0.0</td>\n",
       "      <td>0.0</td>\n",
       "      <td>0.0</td>\n",
       "      <td>0.0</td>\n",
       "      <td>4.0</td>\n",
       "      <td>0.0</td>\n",
       "      <td>NaN</td>\n",
       "      <td>0.0</td>\n",
       "      <td>02/2013</td>\n",
       "      <td>2020-06-25 16:02:22.0</td>\n",
       "    </tr>\n",
       "    <tr>\n",
       "      <th>3</th>\n",
       "      <td>437131401</td>\n",
       "      <td>3000</td>\n",
       "      <td>V08</td>\n",
       "      <td>NUPDRS3</td>\n",
       "      <td>03/2014</td>\n",
       "      <td>NaN</td>\n",
       "      <td>NaN</td>\n",
       "      <td>NaN</td>\n",
       "      <td>NaN</td>\n",
       "      <td>NaN</td>\n",
       "      <td>...</td>\n",
       "      <td>0.0</td>\n",
       "      <td>0.0</td>\n",
       "      <td>0.0</td>\n",
       "      <td>0.0</td>\n",
       "      <td>2.0</td>\n",
       "      <td>0.0</td>\n",
       "      <td>NaN</td>\n",
       "      <td>0.0</td>\n",
       "      <td>05/2014</td>\n",
       "      <td>2020-06-25 16:02:22.0</td>\n",
       "    </tr>\n",
       "    <tr>\n",
       "      <th>4</th>\n",
       "      <td>512469901</td>\n",
       "      <td>3000</td>\n",
       "      <td>V10</td>\n",
       "      <td>NUPDRS3</td>\n",
       "      <td>03/2015</td>\n",
       "      <td>NaN</td>\n",
       "      <td>NaN</td>\n",
       "      <td>NaN</td>\n",
       "      <td>NaN</td>\n",
       "      <td>NaN</td>\n",
       "      <td>...</td>\n",
       "      <td>0.0</td>\n",
       "      <td>0.0</td>\n",
       "      <td>0.0</td>\n",
       "      <td>0.0</td>\n",
       "      <td>19.0</td>\n",
       "      <td>0.0</td>\n",
       "      <td>NaN</td>\n",
       "      <td>0.0</td>\n",
       "      <td>03/2015</td>\n",
       "      <td>2020-06-25 16:02:23.0</td>\n",
       "    </tr>\n",
       "  </tbody>\n",
       "</table>\n",
       "<p>5 rows × 62 columns</p>\n",
       "</div>"
      ],
      "text/plain": [
       "      REC_ID  PATNO EVENT_ID PAG_NAME   INFODT  PDTRTMNT PDSTATE  HRPOSTMED  \\\n",
       "0  272451901   3000       BL  NUPDRS3  02/2011       NaN     NaN        NaN   \n",
       "1  338703101   3000      V04  NUPDRS3  03/2012       NaN     NaN        NaN   \n",
       "2  385009801   3000      V06  NUPDRS3  02/2013       NaN     NaN        NaN   \n",
       "3  437131401   3000      V08  NUPDRS3  03/2014       NaN     NaN        NaN   \n",
       "4  512469901   3000      V10  NUPDRS3  03/2015       NaN     NaN        NaN   \n",
       "\n",
       "   HRDBSON  HRDBSOFF  ...  NP3RTARL  NP3RTALL  NP3RTALJ  NP3RTCON  NP3TOT  \\\n",
       "0      NaN       NaN  ...       0.0       0.0       0.0       0.0     4.0   \n",
       "1      NaN       NaN  ...       0.0       0.0       0.0       0.0     1.0   \n",
       "2      NaN       NaN  ...       0.0       0.0       0.0       0.0     4.0   \n",
       "3      NaN       NaN  ...       0.0       0.0       0.0       0.0     2.0   \n",
       "4      NaN       NaN  ...       0.0       0.0       0.0       0.0    19.0   \n",
       "\n",
       "  DYSKPRES  DYSKIRAT  NHY ORIG_ENTRY            LAST_UPDATE  \n",
       "0      0.0       NaN  0.0    02/2011  2020-06-25 16:02:19.0  \n",
       "1      0.0       NaN  0.0    03/2012  2020-06-25 16:02:22.0  \n",
       "2      0.0       NaN  0.0    02/2013  2020-06-25 16:02:22.0  \n",
       "3      0.0       NaN  0.0    05/2014  2020-06-25 16:02:22.0  \n",
       "4      0.0       NaN  0.0    03/2015  2020-06-25 16:02:23.0  \n",
       "\n",
       "[5 rows x 62 columns]"
      ]
     },
     "execution_count": 6,
     "metadata": {},
     "output_type": "execute_result"
    }
   ],
   "source": [
    "general_path = \"../../../../../../Datasets/Parkinson/radiological/PPMI/spect-mri/\"\n",
    "file_path = general_path  + \"MDS-UPDRS_Part_III_14Feb2024.csv\"\n",
    "updrs3_df = pd.read_csv(file_path)\n",
    "updrs3_df.head()"
   ]
  },
  {
   "cell_type": "code",
   "execution_count": 7,
   "metadata": {},
   "outputs": [
    {
     "name": "stdout",
     "output_type": "stream",
     "text": [
      "Index(['REC_ID', 'PATNO', 'EVENT_ID', 'PAG_NAME', 'INFODT', 'PDTRTMNT',\n",
      "       'PDSTATE', 'HRPOSTMED', 'HRDBSON', 'HRDBSOFF', 'PDMEDYN', 'DBSYN',\n",
      "       'ONOFFORDER', 'OFFEXAM', 'OFFNORSN', 'DBSOFFTM', 'ONEXAM', 'ONNORSN',\n",
      "       'DBSONTM', 'PDMEDDT', 'PDMEDTM', 'EXAMDT', 'EXAMTM', 'NP3SPCH',\n",
      "       'NP3FACXP', 'NP3RIGN', 'NP3RIGRU', 'NP3RIGLU', 'NP3RIGRL', 'NP3RIGLL',\n",
      "       'NP3FTAPR', 'NP3FTAPL', 'NP3HMOVR', 'NP3HMOVL', 'NP3PRSPR', 'NP3PRSPL',\n",
      "       'NP3TTAPR', 'NP3TTAPL', 'NP3LGAGR', 'NP3LGAGL', 'NP3RISNG', 'NP3GAIT',\n",
      "       'NP3FRZGT', 'NP3PSTBL', 'NP3POSTR', 'NP3BRADY', 'NP3PTRMR', 'NP3PTRML',\n",
      "       'NP3KTRMR', 'NP3KTRML', 'NP3RTARU', 'NP3RTALU', 'NP3RTARL', 'NP3RTALL',\n",
      "       'NP3RTALJ', 'NP3RTCON', 'NP3TOT', 'DYSKPRES', 'DYSKIRAT', 'NHY',\n",
      "       'ORIG_ENTRY', 'LAST_UPDATE'],\n",
      "      dtype='object')\n"
     ]
    }
   ],
   "source": [
    "print(updrs3_df.columns)"
   ]
  },
  {
   "cell_type": "markdown",
   "metadata": {},
   "source": [
    "## UPDRS information"
   ]
  },
  {
   "cell_type": "code",
   "execution_count": 8,
   "metadata": {},
   "outputs": [
    {
     "name": "stdout",
     "output_type": "stream",
     "text": [
      "UPDRS questionnarie PART I\n",
      "Index(['REC_ID', 'PATNO', 'EVENT_ID', 'PAG_NAME', 'INFODT', 'NUPSOURC',\n",
      "       'NP1SLPN', 'NP1SLPD', 'NP1PAIN', 'NP1URIN', 'NP1CNST', 'NP1LTHD',\n",
      "       'NP1FATG', 'NP1PTOT', 'ORIG_ENTRY', 'LAST_UPDATE'],\n",
      "      dtype='object')\n",
      "UPDRS questionnarie PART II\n",
      "Index(['REC_ID', 'PATNO', 'EVENT_ID', 'PAG_NAME', 'INFODT', 'NUPSOURC',\n",
      "       'NP2SPCH', 'NP2SALV', 'NP2SWAL', 'NP2EAT', 'NP2DRES', 'NP2HYGN',\n",
      "       'NP2HWRT', 'NP2HOBB', 'NP2TURN', 'NP2TRMR', 'NP2RISE', 'NP2WALK',\n",
      "       'NP2FREZ', 'NP2PTOT', 'ORIG_ENTRY', 'LAST_UPDATE'],\n",
      "      dtype='object')\n",
      "UPDRS questionnarie PART IV\n",
      "Index(['REC_ID', 'PATNO', 'EVENT_ID', 'PAG_NAME', 'INFODT', 'NP4WDYSK',\n",
      "       'NP4WDYSKDEN', 'NP4WDYSKNUM', 'NP4WDYSKPCT', 'NP4DYSKI', 'NP4OFF',\n",
      "       'NP4OFFDEN', 'NP4OFFNUM', 'NP4OFFPCT', 'NP4FLCTI', 'NP4FLCTX',\n",
      "       'NP4DYSTN', 'NP4DYSTNDEN', 'NP4DYSTNNUM', 'NP4DYSTNPCT', 'NP4TOT',\n",
      "       'ORIG_ENTRY', 'LAST_UPDATE'],\n",
      "      dtype='object')\n"
     ]
    }
   ],
   "source": [
    "general_path = \"../../../../../../Datasets/Parkinson/radiological/PPMI/spect-mri/\"\n",
    "\n",
    "print(\"UPDRS questionnarie PART I\")\n",
    "file_path1 = general_path  + \"MDS-UPDRS_Part_I_Patient_Questionnaire_29Jan2024.csv\"\n",
    "updrs1_df = pd.read_csv(file_path1)\n",
    "print(updrs1_df.columns)\n",
    "\n",
    "print(\"UPDRS questionnarie PART II\")\n",
    "file_path2 = general_path  + \"MDS_UPDRS_Part_II__Patient_Questionnaire_29Jan2024.csv\"\n",
    "updrs2_df = pd.read_csv(file_path2)\n",
    "print(updrs2_df.columns)\n",
    "\n",
    "print(\"UPDRS questionnarie PART IV\")\n",
    "file_path4 = general_path  + \"MDS-UPDRS_Part_IV__Motor_Complications_29Jan2024.csv\"\n",
    "updrs4_df = pd.read_csv(file_path4)\n",
    "print(updrs4_df.columns)"
   ]
  },
  {
   "cell_type": "markdown",
   "metadata": {},
   "source": [
    "## Patients information"
   ]
  },
  {
   "cell_type": "code",
   "execution_count": 23,
   "metadata": {},
   "outputs": [],
   "source": [
    "ctrl_test_df = updrs3_df[updrs3_df[\"PATNO\"].isin(test_control_cases)]\n",
    "ctrl_train_df = updrs3_df[updrs3_df[\"PATNO\"].isin(train_control_cases)]\n",
    "pd_test_df = updrs3_df[updrs3_df[\"PATNO\"].isin(test_parkinson_cases)]\n",
    "pd_train_df = updrs3_df[updrs3_df[\"PATNO\"].isin(train_parkinson_cases)]"
   ]
  },
  {
   "cell_type": "markdown",
   "metadata": {},
   "source": [
    "### UPDRS and H&Y scales"
   ]
  },
  {
   "cell_type": "code",
   "execution_count": 25,
   "metadata": {},
   "outputs": [
    {
     "data": {
      "text/html": [
       "<div>\n",
       "<style scoped>\n",
       "    .dataframe tbody tr th:only-of-type {\n",
       "        vertical-align: middle;\n",
       "    }\n",
       "\n",
       "    .dataframe tbody tr th {\n",
       "        vertical-align: top;\n",
       "    }\n",
       "\n",
       "    .dataframe thead th {\n",
       "        text-align: right;\n",
       "    }\n",
       "</style>\n",
       "<table border=\"1\" class=\"dataframe\">\n",
       "  <thead>\n",
       "    <tr style=\"text-align: right;\">\n",
       "      <th></th>\n",
       "      <th>REC_ID</th>\n",
       "      <th>EVENT_ID</th>\n",
       "      <th>PAG_NAME</th>\n",
       "      <th>INFODT</th>\n",
       "      <th>PDTRTMNT</th>\n",
       "      <th>PDSTATE</th>\n",
       "      <th>HRPOSTMED</th>\n",
       "      <th>HRDBSON</th>\n",
       "      <th>HRDBSOFF</th>\n",
       "      <th>PDMEDYN</th>\n",
       "      <th>...</th>\n",
       "      <th>NP3RTARL</th>\n",
       "      <th>NP3RTALL</th>\n",
       "      <th>NP3RTALJ</th>\n",
       "      <th>NP3RTCON</th>\n",
       "      <th>NP3TOT</th>\n",
       "      <th>DYSKPRES</th>\n",
       "      <th>DYSKIRAT</th>\n",
       "      <th>NHY</th>\n",
       "      <th>ORIG_ENTRY</th>\n",
       "      <th>LAST_UPDATE</th>\n",
       "    </tr>\n",
       "    <tr>\n",
       "      <th>PATNO</th>\n",
       "      <th></th>\n",
       "      <th></th>\n",
       "      <th></th>\n",
       "      <th></th>\n",
       "      <th></th>\n",
       "      <th></th>\n",
       "      <th></th>\n",
       "      <th></th>\n",
       "      <th></th>\n",
       "      <th></th>\n",
       "      <th></th>\n",
       "      <th></th>\n",
       "      <th></th>\n",
       "      <th></th>\n",
       "      <th></th>\n",
       "      <th></th>\n",
       "      <th></th>\n",
       "      <th></th>\n",
       "      <th></th>\n",
       "      <th></th>\n",
       "      <th></th>\n",
       "    </tr>\n",
       "  </thead>\n",
       "  <tbody>\n",
       "    <tr>\n",
       "      <th>3104</th>\n",
       "      <td>3</td>\n",
       "      <td>3</td>\n",
       "      <td>3</td>\n",
       "      <td>3</td>\n",
       "      <td>0</td>\n",
       "      <td>0</td>\n",
       "      <td>0</td>\n",
       "      <td>0</td>\n",
       "      <td>0</td>\n",
       "      <td>0</td>\n",
       "      <td>...</td>\n",
       "      <td>3</td>\n",
       "      <td>3</td>\n",
       "      <td>3</td>\n",
       "      <td>3</td>\n",
       "      <td>3</td>\n",
       "      <td>3</td>\n",
       "      <td>0</td>\n",
       "      <td>3</td>\n",
       "      <td>3</td>\n",
       "      <td>3</td>\n",
       "    </tr>\n",
       "    <tr>\n",
       "      <th>3112</th>\n",
       "      <td>10</td>\n",
       "      <td>10</td>\n",
       "      <td>10</td>\n",
       "      <td>10</td>\n",
       "      <td>4</td>\n",
       "      <td>0</td>\n",
       "      <td>0</td>\n",
       "      <td>0</td>\n",
       "      <td>0</td>\n",
       "      <td>3</td>\n",
       "      <td>...</td>\n",
       "      <td>10</td>\n",
       "      <td>10</td>\n",
       "      <td>10</td>\n",
       "      <td>10</td>\n",
       "      <td>8</td>\n",
       "      <td>10</td>\n",
       "      <td>1</td>\n",
       "      <td>10</td>\n",
       "      <td>10</td>\n",
       "      <td>10</td>\n",
       "    </tr>\n",
       "    <tr>\n",
       "      <th>3157</th>\n",
       "      <td>13</td>\n",
       "      <td>13</td>\n",
       "      <td>13</td>\n",
       "      <td>13</td>\n",
       "      <td>6</td>\n",
       "      <td>0</td>\n",
       "      <td>0</td>\n",
       "      <td>0</td>\n",
       "      <td>0</td>\n",
       "      <td>2</td>\n",
       "      <td>...</td>\n",
       "      <td>13</td>\n",
       "      <td>13</td>\n",
       "      <td>13</td>\n",
       "      <td>13</td>\n",
       "      <td>10</td>\n",
       "      <td>13</td>\n",
       "      <td>4</td>\n",
       "      <td>13</td>\n",
       "      <td>13</td>\n",
       "      <td>13</td>\n",
       "    </tr>\n",
       "    <tr>\n",
       "      <th>3160</th>\n",
       "      <td>7</td>\n",
       "      <td>7</td>\n",
       "      <td>7</td>\n",
       "      <td>7</td>\n",
       "      <td>0</td>\n",
       "      <td>0</td>\n",
       "      <td>0</td>\n",
       "      <td>0</td>\n",
       "      <td>0</td>\n",
       "      <td>0</td>\n",
       "      <td>...</td>\n",
       "      <td>7</td>\n",
       "      <td>7</td>\n",
       "      <td>7</td>\n",
       "      <td>7</td>\n",
       "      <td>7</td>\n",
       "      <td>7</td>\n",
       "      <td>0</td>\n",
       "      <td>7</td>\n",
       "      <td>7</td>\n",
       "      <td>7</td>\n",
       "    </tr>\n",
       "    <tr>\n",
       "      <th>3320</th>\n",
       "      <td>7</td>\n",
       "      <td>7</td>\n",
       "      <td>7</td>\n",
       "      <td>7</td>\n",
       "      <td>1</td>\n",
       "      <td>0</td>\n",
       "      <td>0</td>\n",
       "      <td>0</td>\n",
       "      <td>0</td>\n",
       "      <td>1</td>\n",
       "      <td>...</td>\n",
       "      <td>7</td>\n",
       "      <td>7</td>\n",
       "      <td>7</td>\n",
       "      <td>7</td>\n",
       "      <td>7</td>\n",
       "      <td>7</td>\n",
       "      <td>1</td>\n",
       "      <td>7</td>\n",
       "      <td>7</td>\n",
       "      <td>7</td>\n",
       "    </tr>\n",
       "  </tbody>\n",
       "</table>\n",
       "<p>5 rows × 61 columns</p>\n",
       "</div>"
      ],
      "text/plain": [
       "       REC_ID  EVENT_ID  PAG_NAME  INFODT  PDTRTMNT  PDSTATE  HRPOSTMED  \\\n",
       "PATNO                                                                     \n",
       "3104        3         3         3       3         0        0          0   \n",
       "3112       10        10        10      10         4        0          0   \n",
       "3157       13        13        13      13         6        0          0   \n",
       "3160        7         7         7       7         0        0          0   \n",
       "3320        7         7         7       7         1        0          0   \n",
       "\n",
       "       HRDBSON  HRDBSOFF  PDMEDYN  ...  NP3RTARL  NP3RTALL  NP3RTALJ  \\\n",
       "PATNO                              ...                                 \n",
       "3104         0         0        0  ...         3         3         3   \n",
       "3112         0         0        3  ...        10        10        10   \n",
       "3157         0         0        2  ...        13        13        13   \n",
       "3160         0         0        0  ...         7         7         7   \n",
       "3320         0         0        1  ...         7         7         7   \n",
       "\n",
       "       NP3RTCON  NP3TOT  DYSKPRES  DYSKIRAT  NHY  ORIG_ENTRY  LAST_UPDATE  \n",
       "PATNO                                                                      \n",
       "3104          3       3         3         0    3           3            3  \n",
       "3112         10       8        10         1   10          10           10  \n",
       "3157         13      10        13         4   13          13           13  \n",
       "3160          7       7         7         0    7           7            7  \n",
       "3320          7       7         7         1    7           7            7  \n",
       "\n",
       "[5 rows x 61 columns]"
      ]
     },
     "execution_count": 25,
     "metadata": {},
     "output_type": "execute_result"
    }
   ],
   "source": [
    "filtered_ctrl_test_df = ctrl_test_df.groupby(\"PATNO\").count()\n",
    "filtered_ctrl_test_df.head()"
   ]
  },
  {
   "cell_type": "code",
   "execution_count": 26,
   "metadata": {},
   "outputs": [
    {
     "data": {
      "text/plain": [
       "PATNO\n",
       "3104     3\n",
       "3112    10\n",
       "3157    13\n",
       "3160     7\n",
       "3320     7\n",
       "3358     4\n",
       "3565    12\n",
       "3569     4\n",
       "3570    14\n",
       "3759    11\n",
       "3803     7\n",
       "3811    12\n",
       "3855     7\n",
       "3859    10\n",
       "4032     7\n",
       "Name: NHY, dtype: int64"
      ]
     },
     "execution_count": 26,
     "metadata": {},
     "output_type": "execute_result"
    }
   ],
   "source": [
    "filtered_ctrl_test_df[\"NHY\"]"
   ]
  },
  {
   "cell_type": "markdown",
   "metadata": {},
   "source": [
    "**Angel estadio**"
   ]
  },
  {
   "cell_type": "code",
   "execution_count": 20,
   "metadata": {},
   "outputs": [
    {
     "data": {
      "text/html": [
       "<div>\n",
       "<style scoped>\n",
       "    .dataframe tbody tr th:only-of-type {\n",
       "        vertical-align: middle;\n",
       "    }\n",
       "\n",
       "    .dataframe tbody tr th {\n",
       "        vertical-align: top;\n",
       "    }\n",
       "\n",
       "    .dataframe thead th {\n",
       "        text-align: right;\n",
       "    }\n",
       "</style>\n",
       "<table border=\"1\" class=\"dataframe\">\n",
       "  <thead>\n",
       "    <tr style=\"text-align: right;\">\n",
       "      <th></th>\n",
       "      <th>NHY</th>\n",
       "      <th>INFODT</th>\n",
       "    </tr>\n",
       "    <tr>\n",
       "      <th>PATNO</th>\n",
       "      <th></th>\n",
       "      <th></th>\n",
       "    </tr>\n",
       "  </thead>\n",
       "  <tbody>\n",
       "    <tr>\n",
       "      <th>3001</th>\n",
       "      <td>24</td>\n",
       "      <td>26</td>\n",
       "    </tr>\n",
       "    <tr>\n",
       "      <th>3002</th>\n",
       "      <td>25</td>\n",
       "      <td>26</td>\n",
       "    </tr>\n",
       "    <tr>\n",
       "      <th>3003</th>\n",
       "      <td>20</td>\n",
       "      <td>22</td>\n",
       "    </tr>\n",
       "    <tr>\n",
       "      <th>3006</th>\n",
       "      <td>7</td>\n",
       "      <td>7</td>\n",
       "    </tr>\n",
       "    <tr>\n",
       "      <th>3010</th>\n",
       "      <td>24</td>\n",
       "      <td>29</td>\n",
       "    </tr>\n",
       "    <tr>\n",
       "      <th>...</th>\n",
       "      <td>...</td>\n",
       "      <td>...</td>\n",
       "    </tr>\n",
       "    <tr>\n",
       "      <th>238548</th>\n",
       "      <td>2</td>\n",
       "      <td>2</td>\n",
       "    </tr>\n",
       "    <tr>\n",
       "      <th>238720</th>\n",
       "      <td>1</td>\n",
       "      <td>1</td>\n",
       "    </tr>\n",
       "    <tr>\n",
       "      <th>238871</th>\n",
       "      <td>2</td>\n",
       "      <td>2</td>\n",
       "    </tr>\n",
       "    <tr>\n",
       "      <th>238896</th>\n",
       "      <td>1</td>\n",
       "      <td>1</td>\n",
       "    </tr>\n",
       "    <tr>\n",
       "      <th>240385</th>\n",
       "      <td>1</td>\n",
       "      <td>1</td>\n",
       "    </tr>\n",
       "  </tbody>\n",
       "</table>\n",
       "<p>1080 rows × 2 columns</p>\n",
       "</div>"
      ],
      "text/plain": [
       "        NHY  INFODT\n",
       "PATNO              \n",
       "3001     24      26\n",
       "3002     25      26\n",
       "3003     20      22\n",
       "3006      7       7\n",
       "3010     24      29\n",
       "...     ...     ...\n",
       "238548    2       2\n",
       "238720    1       1\n",
       "238871    2       2\n",
       "238896    1       1\n",
       "240385    1       1\n",
       "\n",
       "[1080 rows x 2 columns]"
      ]
     },
     "execution_count": 20,
     "metadata": {},
     "output_type": "execute_result"
    }
   ],
   "source": [
    "df = pd.read_csv(general_path + \"estadio.csv\")\n",
    "df.groupby(\"PATNO\").count()"
   ]
  },
  {
   "cell_type": "markdown",
   "metadata": {},
   "source": [
    "### Demografic info"
   ]
  },
  {
   "cell_type": "code",
   "execution_count": 10,
   "metadata": {},
   "outputs": [
    {
     "name": "stdout",
     "output_type": "stream",
     "text": [
      "========== Train population ==========\n",
      "==== control: ====\n"
     ]
    },
    {
     "ename": "KeyError",
     "evalue": "'ENROLL_AGE'",
     "output_type": "error",
     "traceback": [
      "\u001b[0;31m---------------------------------------------------------------------------\u001b[0m",
      "\u001b[0;31mKeyError\u001b[0m                                  Traceback (most recent call last)",
      "File \u001b[0;32m/usr/local/lib/python3.8/dist-packages/pandas/core/indexes/base.py:3653\u001b[0m, in \u001b[0;36mIndex.get_loc\u001b[0;34m(self, key)\u001b[0m\n\u001b[1;32m   3652\u001b[0m \u001b[39mtry\u001b[39;00m:\n\u001b[0;32m-> 3653\u001b[0m     \u001b[39mreturn\u001b[39;00m \u001b[39mself\u001b[39;49m\u001b[39m.\u001b[39;49m_engine\u001b[39m.\u001b[39;49mget_loc(casted_key)\n\u001b[1;32m   3654\u001b[0m \u001b[39mexcept\u001b[39;00m \u001b[39mKeyError\u001b[39;00m \u001b[39mas\u001b[39;00m err:\n",
      "File \u001b[0;32m/usr/local/lib/python3.8/dist-packages/pandas/_libs/index.pyx:147\u001b[0m, in \u001b[0;36mpandas._libs.index.IndexEngine.get_loc\u001b[0;34m()\u001b[0m\n",
      "File \u001b[0;32m/usr/local/lib/python3.8/dist-packages/pandas/_libs/index.pyx:176\u001b[0m, in \u001b[0;36mpandas._libs.index.IndexEngine.get_loc\u001b[0;34m()\u001b[0m\n",
      "File \u001b[0;32mpandas/_libs/hashtable_class_helper.pxi:7080\u001b[0m, in \u001b[0;36mpandas._libs.hashtable.PyObjectHashTable.get_item\u001b[0;34m()\u001b[0m\n",
      "File \u001b[0;32mpandas/_libs/hashtable_class_helper.pxi:7088\u001b[0m, in \u001b[0;36mpandas._libs.hashtable.PyObjectHashTable.get_item\u001b[0;34m()\u001b[0m\n",
      "\u001b[0;31mKeyError\u001b[0m: 'ENROLL_AGE'",
      "\nThe above exception was the direct cause of the following exception:\n",
      "\u001b[0;31mKeyError\u001b[0m                                  Traceback (most recent call last)",
      "\u001b[1;32m/home/Data/franklin/Doctorado/parkinson/projects/parcellation_translation/generalNotebooks/multiPurposes.ipynb Cell 13\u001b[0m line \u001b[0;36m3\n\u001b[1;32m      <a href='vscode-notebook-cell://attached-container%2B7b22636f6e7461696e65724e616d65223a222f627261696e5f64617461222c2273657474696e6773223a7b22686f7374223a22756e69783a2f2f2f72756e2f757365722f313030312f646f636b65722e736f636b227d7d/home/Data/franklin/Doctorado/parkinson/projects/parcellation_translation/generalNotebooks/multiPurposes.ipynb#X16sdnNjb2RlLXJlbW90ZQ%3D%3D?line=0'>1</a>\u001b[0m \u001b[39mprint\u001b[39m(\u001b[39m\"\u001b[39m\u001b[39m========== Train population ==========\u001b[39m\u001b[39m\"\u001b[39m)\n\u001b[1;32m      <a href='vscode-notebook-cell://attached-container%2B7b22636f6e7461696e65724e616d65223a222f627261696e5f64617461222c2273657474696e6773223a7b22686f7374223a22756e69783a2f2f2f72756e2f757365722f313030312f646f636b65722e736f636b227d7d/home/Data/franklin/Doctorado/parkinson/projects/parcellation_translation/generalNotebooks/multiPurposes.ipynb#X16sdnNjb2RlLXJlbW90ZQ%3D%3D?line=1'>2</a>\u001b[0m \u001b[39mprint\u001b[39m(\u001b[39m\"\u001b[39m\u001b[39m==== control: ====\u001b[39m\u001b[39m\"\u001b[39m)\n\u001b[0;32m----> <a href='vscode-notebook-cell://attached-container%2B7b22636f6e7461696e65724e616d65223a222f627261696e5f64617461222c2273657474696e6773223a7b22686f7374223a22756e69783a2f2f2f72756e2f757365722f313030312f646f636b65722e736f636b227d7d/home/Data/franklin/Doctorado/parkinson/projects/parcellation_translation/generalNotebooks/multiPurposes.ipynb#X16sdnNjb2RlLXJlbW90ZQ%3D%3D?line=2'>3</a>\u001b[0m train_ctrl_age_mean \u001b[39m=\u001b[39m ctrl_train_df[\u001b[39m\"\u001b[39;49m\u001b[39mENROLL_AGE\u001b[39;49m\u001b[39m\"\u001b[39;49m]\u001b[39m.\u001b[39mmean()\n\u001b[1;32m      <a href='vscode-notebook-cell://attached-container%2B7b22636f6e7461696e65724e616d65223a222f627261696e5f64617461222c2273657474696e6773223a7b22686f7374223a22756e69783a2f2f2f72756e2f757365722f313030312f646f636b65722e736f636b227d7d/home/Data/franklin/Doctorado/parkinson/projects/parcellation_translation/generalNotebooks/multiPurposes.ipynb#X16sdnNjb2RlLXJlbW90ZQ%3D%3D?line=3'>4</a>\u001b[0m train_ctrl_age_std \u001b[39m=\u001b[39m ctrl_train_df[\u001b[39m\"\u001b[39m\u001b[39mENROLL_AGE\u001b[39m\u001b[39m\"\u001b[39m]\u001b[39m.\u001b[39mstd()\n\u001b[1;32m      <a href='vscode-notebook-cell://attached-container%2B7b22636f6e7461696e65724e616d65223a222f627261696e5f64617461222c2273657474696e6773223a7b22686f7374223a22756e69783a2f2f2f72756e2f757365722f313030312f646f636b65722e736f636b227d7d/home/Data/franklin/Doctorado/parkinson/projects/parcellation_translation/generalNotebooks/multiPurposes.ipynb#X16sdnNjb2RlLXJlbW90ZQ%3D%3D?line=4'>5</a>\u001b[0m \u001b[39mprint\u001b[39m(\u001b[39m\"\u001b[39m\u001b[39m==== parkinson: ====\u001b[39m\u001b[39m\"\u001b[39m)\n",
      "File \u001b[0;32m/usr/local/lib/python3.8/dist-packages/pandas/core/frame.py:3761\u001b[0m, in \u001b[0;36mDataFrame.__getitem__\u001b[0;34m(self, key)\u001b[0m\n\u001b[1;32m   3759\u001b[0m \u001b[39mif\u001b[39;00m \u001b[39mself\u001b[39m\u001b[39m.\u001b[39mcolumns\u001b[39m.\u001b[39mnlevels \u001b[39m>\u001b[39m \u001b[39m1\u001b[39m:\n\u001b[1;32m   3760\u001b[0m     \u001b[39mreturn\u001b[39;00m \u001b[39mself\u001b[39m\u001b[39m.\u001b[39m_getitem_multilevel(key)\n\u001b[0;32m-> 3761\u001b[0m indexer \u001b[39m=\u001b[39m \u001b[39mself\u001b[39;49m\u001b[39m.\u001b[39;49mcolumns\u001b[39m.\u001b[39;49mget_loc(key)\n\u001b[1;32m   3762\u001b[0m \u001b[39mif\u001b[39;00m is_integer(indexer):\n\u001b[1;32m   3763\u001b[0m     indexer \u001b[39m=\u001b[39m [indexer]\n",
      "File \u001b[0;32m/usr/local/lib/python3.8/dist-packages/pandas/core/indexes/base.py:3655\u001b[0m, in \u001b[0;36mIndex.get_loc\u001b[0;34m(self, key)\u001b[0m\n\u001b[1;32m   3653\u001b[0m     \u001b[39mreturn\u001b[39;00m \u001b[39mself\u001b[39m\u001b[39m.\u001b[39m_engine\u001b[39m.\u001b[39mget_loc(casted_key)\n\u001b[1;32m   3654\u001b[0m \u001b[39mexcept\u001b[39;00m \u001b[39mKeyError\u001b[39;00m \u001b[39mas\u001b[39;00m err:\n\u001b[0;32m-> 3655\u001b[0m     \u001b[39mraise\u001b[39;00m \u001b[39mKeyError\u001b[39;00m(key) \u001b[39mfrom\u001b[39;00m \u001b[39merr\u001b[39;00m\n\u001b[1;32m   3656\u001b[0m \u001b[39mexcept\u001b[39;00m \u001b[39mTypeError\u001b[39;00m:\n\u001b[1;32m   3657\u001b[0m     \u001b[39m# If we have a listlike key, _check_indexing_error will raise\u001b[39;00m\n\u001b[1;32m   3658\u001b[0m     \u001b[39m#  InvalidIndexError. Otherwise we fall through and re-raise\u001b[39;00m\n\u001b[1;32m   3659\u001b[0m     \u001b[39m#  the TypeError.\u001b[39;00m\n\u001b[1;32m   3660\u001b[0m     \u001b[39mself\u001b[39m\u001b[39m.\u001b[39m_check_indexing_error(key)\n",
      "\u001b[0;31mKeyError\u001b[0m: 'ENROLL_AGE'"
     ]
    }
   ],
   "source": [
    "print(\"========== Train population ==========\")\n",
    "print(\"==== control: ====\")\n",
    "train_ctrl_age_mean = ctrl_train_df[\"ENROLL_AGE\"].mean()\n",
    "train_ctrl_age_std = ctrl_train_df[\"ENROLL_AGE\"].std()\n",
    "print(\"==== parkinson: ====\")\n",
    "train_pd_age_mean = pd_train_df[\"ENROLL_AGE\"].mean()\n",
    "train_pd_age_std = pd_train_df[\"ENROLL_AGE\"].std()\n",
    "\n",
    "print(\"control age: \", train_ctrl_age_mean, train_ctrl_age_std)\n",
    "print(\"parkinson age: \", train_pd_age_mean, train_pd_age_std)\n",
    "\n",
    "print(\"========== Test population ==========\")\n",
    "print(\"==== control: ====\")\n",
    "test_ctrl_age_mean = ctrl_test_df[\"ENROLL_AGE\"].mean()\n",
    "test_ctrl_age_std = ctrl_test_df[\"ENROLL_AGE\"].std()\n",
    "print(\"==== parkinson: ====\")\n",
    "test_pd_age_mean = pd_test_df[\"ENROLL_AGE\"].mean()\n",
    "test_pd_age_std = pd_test_df[\"ENROLL_AGE\"].std()\n",
    "\n",
    "print(\"control age: \", test_ctrl_age_mean, test_ctrl_age_std)\n",
    "print(\"parkinson age: \", test_pd_age_mean, test_pd_age_std)"
   ]
  },
  {
   "cell_type": "markdown",
   "metadata": {},
   "source": [
    "**This notebook is for many brain parcellations translation purposes** "
   ]
  },
  {
   "cell_type": "markdown",
   "metadata": {},
   "source": [
    "# CycleGan data moving\n",
    "\n",
    "We have 58 subjects for the control and the parkinson groups, respectively. We want to train:\n",
    "* **========== experiment 1: ==========** \n",
    "* Control to parkinson translation\n",
    "* Domain A: control\n",
    "* Domain B: parkinson\n",
    "For the training of this net, we need (by experience) around 1800 frames by each domain. In this sense, each subject has 182 slices, so we will work in this dataframe interval:\n",
    "\n",
    "* low_rate = 91-15\n",
    "* up_rate = 91+15\n",
    "\n",
    "The above results in 1798 slices over each domain where each suject is represented by the 31 central slices\n",
    "\n",
    "* **========== experiment 2: ==========** \n",
    "* MRI to SPECT domain translation\n",
    "In this case we want to get 900 mri images for control and the same amount for parkinson subjects. So, as we have 58 subjects in each group, we must to have the following:\n",
    "\n",
    "900/58 = 16 images for mri control and parkinson, respectively. So, at the end we will have \n",
    "\n",
    "* Domain A and B (MRI, Spect, respectively): 928 mri and spect images for control and the same amount for parkinson in each domain."
   ]
  },
  {
   "cell_type": "code",
   "execution_count": null,
   "metadata": {},
   "outputs": [],
   "source": [
    "split = \"test\"\n",
    "group = \"parkinson\"\n",
    "modality = \"mri_png\"\n",
    "experiment = \"full_rois\"\n",
    "technique = \"raw\"\n",
    "\n",
    "source_path = \"../../../../../../Datasets/Parkinson/radiological/PPMI/spect-mri/filtered/\"\n",
    "current_root_path = os.path.join(source_path, split, group, \"parcellation\", technique, experiment, modality)\n",
    "cases = sorted(os.listdir(current_root_path))\n",
    "print(\"Number of cases: \", len(cases))\n",
    "\n",
    "\n",
    "if experiment == \"full_rois\":\n",
    "    save_path = \"../data/\" + technique + \"/\" + experiment + \"/mri_spect/\" + split + \"_\" + modality.split(\"_\")[0]  \n",
    "else:\n",
    "    save_path = \"../data/\" + technique + \"/\" + experiment + \"/mri_to_spect/\" + split + \"_\" + modality.split(\"_\")[0] \n",
    "    \n",
    "print(\"Saving to: \", save_path)"
   ]
  },
  {
   "cell_type": "code",
   "execution_count": null,
   "metadata": {},
   "outputs": [],
   "source": [
    "for case in cases:\n",
    "    print(\"Case: \", case)\n",
    "    case_path = os.path.join(current_root_path, case)\n",
    "    files = sorted(os.listdir(case_path))\n",
    "    can_files = len(files)\n",
    "    print(\"Number of files: \", can_files)\n",
    "    \n",
    "    if modality == \"mri_png\":\n",
    "        half_frame = 145\n",
    "        low_rate = half_frame - 8\n",
    "        up_rate = half_frame + 8\n",
    "    else:\n",
    "        half_frame = 45\n",
    "        low_rate = half_frame - 8\n",
    "        up_rate = half_frame + 8\n",
    "        \n",
    "    \n",
    "    for file in files[low_rate-1:up_rate]:\n",
    "        file_path = os.path.join(case_path, file)\n",
    "        if not os.path.exists(save_path):\n",
    "            os.makedirs(save_path)            \n",
    "        os.system(\"cp \" + file_path + \" \" + save_path) \n",
    "        \n",
    "print(\"Done!\")"
   ]
  },
  {
   "cell_type": "code",
   "execution_count": null,
   "metadata": {},
   "outputs": [],
   "source": [
    "half_frame"
   ]
  },
  {
   "cell_type": "markdown",
   "metadata": {},
   "source": [
    "# Classifier data setting\n",
    "In this part we will create the csv file for the T1 and spect modalities\n",
    "* **For T1 images:**"
   ]
  },
  {
   "cell_type": "code",
   "execution_count": null,
   "metadata": {},
   "outputs": [],
   "source": [
    "import os\n",
    "import pandas as pd"
   ]
  },
  {
   "cell_type": "code",
   "execution_count": null,
   "metadata": {},
   "outputs": [],
   "source": [
    "root_path = \"../../../../../../Datasets/Parkinson/radiological/PPMI/spect-mri/filtered/\"\n",
    "split = \"train\"\n",
    "experiment = \"full_rois\"\n",
    "modality = \"mri_png\"\n",
    "clases = os.listdir(os.path.join(root_path, split))"
   ]
  },
  {
   "cell_type": "code",
   "execution_count": null,
   "metadata": {},
   "outputs": [],
   "source": [
    "file_csv2 = open(root_path + \"/raw_control_pd_MRI_fullRois_TRAIN.csv\", '+w')\n",
    "for clase in clases:\n",
    "    cases_path = os.path.join(root_path, split, clase, \"parcellation/raw\", experiment, modality)\n",
    "    cases = sorted(os.listdir(cases_path))\n",
    "    for case in cases:\n",
    "        case_path = os.path.join(cases_path, case)\n",
    "        images = sorted(os.listdir(case_path))\n",
    "        for image in images:\n",
    "            image_path = os.path.join(case_path, image)\n",
    "            col_name = ',' + clase + \"\\n\"\n",
    "            #print(image_path + col_name)\n",
    "            file_csv2.write(image_path + col_name)\n",
    "file_csv2.close()"
   ]
  },
  {
   "cell_type": "code",
   "execution_count": null,
   "metadata": {},
   "outputs": [],
   "source": [
    "df = pd.read_csv(root_path + \"/raw_control_pd_SPECT_fullRois_TEST.csv\", header=None)\n",
    "df.columns = [\"path\", \"label\"]\n",
    "df.groupby(\"label\").count()"
   ]
  },
  {
   "cell_type": "markdown",
   "metadata": {},
   "source": [
    "**For synthetic images**"
   ]
  },
  {
   "cell_type": "code",
   "execution_count": null,
   "metadata": {},
   "outputs": [],
   "source": [
    "root_path = \"../imgs_results/full_rois/preprocessed/mri_to_spect/mri_filtered_slices/\"\n",
    "#modality = \"test_mri\"\n",
    "\n",
    "#cases = os.listdir(root_path + modality)\n",
    "cases = os.listdir(root_path)\n",
    "\n",
    "#file_csv2 = open(root_path + modality + \"_fullRois.csv\", '+w')\n",
    "file_csv2 = open(root_path + \"mri_to_spect_filtered.csv\", '+w')\n",
    "for case in cases:\n",
    "    #case_path = os.path.join(root_path, modality, case)\n",
    "    case_path = os.path.join(root_path, case)\n",
    "    imgs = sorted(os.listdir(case_path))\n",
    "    for img in imgs:\n",
    "        image_path = os.path.join(case_path, img)\n",
    "        clase = img.split(\"_\")[0]\n",
    "        col_name = ',' + clase + \"\\n\"\n",
    "        #print(image_path+col_name)\n",
    "        file_csv2.write(image_path + col_name)\n",
    "file_csv2.close()"
   ]
  },
  {
   "cell_type": "markdown",
   "metadata": {},
   "source": [
    "**Full train and test synthetic versions**"
   ]
  },
  {
   "cell_type": "code",
   "execution_count": null,
   "metadata": {},
   "outputs": [],
   "source": [
    "import os\n",
    "import pandas as pd\n",
    "\n",
    "root_path = \"../imgs_results/full_rois/preprocessed/mri_to_spect/\"\n",
    "split = \"train\"\n",
    "folder_path = os.path.join(root_path, \"full_\"+split+\"_mri_png\")\n",
    "\n",
    "imgs = os.listdir(folder_path)\n",
    "\n",
    "file_csv2 = open(root_path + \"full_\"+split + \"_mriSpectFullRois.csv\", '+w')\n",
    "#print(root_path + \"full_\"+split + \"_fullRois.csv\")\n",
    "for img in imgs:\n",
    "    image_path = os.path.join(folder_path, img)\n",
    "    clase = img.split(\"_\")[0]\n",
    "    col_name = ',' + clase + \"\\n\"\n",
    "    #print(image_path+col_name)\n",
    "    file_csv2.write(image_path + col_name)\n",
    "file_csv2.close()"
   ]
  },
  {
   "cell_type": "code",
   "execution_count": null,
   "metadata": {},
   "outputs": [],
   "source": [
    "df = pd.read_csv(root_path + \"full_\"+split+ \"_mriSpectFullRois.csv\", header=None)\n",
    "df.columns = [\"path\", \"label\"]\n",
    "df.groupby(\"label\").count()"
   ]
  },
  {
   "cell_type": "markdown",
   "metadata": {},
   "source": [
    "### **For cycleGan**\n",
    "#### Test_control mri"
   ]
  },
  {
   "cell_type": "code",
   "execution_count": null,
   "metadata": {},
   "outputs": [],
   "source": [
    "path = \"../data/preprocessed/full_rois/mri_to_spect/\"\n",
    "set = \"test\"\n",
    "group = \"mri\"#\"control\"\n",
    "\n",
    "images = os.listdir(path + set + \"_\" + group)\n",
    "\n",
    "file_csv2 = open(path + set + \"_\" + group + \".csv\", '+w')\n",
    "for image in images:\n",
    "    image_path = os.path.join(path, set + \"_\" + group, image)\n",
    "    clase = image.split(\"_\")[0]\n",
    "    col_name = ',' + clase + \"\\n\"\n",
    "    #print(image_path+col_name)\n",
    "    file_csv2.write(image_path + col_name)\n",
    "file_csv2.close()"
   ]
  },
  {
   "cell_type": "markdown",
   "metadata": {},
   "source": [
    "#### MRI filtered slices"
   ]
  },
  {
   "cell_type": "code",
   "execution_count": null,
   "metadata": {},
   "outputs": [],
   "source": [
    "path = \"../imgs_results/full_rois/mri_to_spect/mri_filtered_slices/\"\n",
    "groups = os.listdir(path)\n",
    "\n",
    "file_csv2 = open(path + \"mri_filtered_slices.csv\", '+w')\n",
    "for group in groups:\n",
    "    \n",
    "    images = os.listdir(path + group)\n",
    "    \n",
    "    for image in images:\n",
    "        image_path = os.path.join(path, group, image)\n",
    "        clase = image.split(\"_\")[0]\n",
    "        col_name = ',' + clase + \"\\n\"\n",
    "        file_csv2.write(image_path + col_name)\n",
    "file_csv2.close()"
   ]
  },
  {
   "cell_type": "code",
   "execution_count": null,
   "metadata": {},
   "outputs": [],
   "source": [
    "import pandas as pd\n",
    "\n",
    "df = pd.read_csv(path + \"mri_filtered_slices.csv\", header=None)\n",
    "df.columns = [\"path\", \"label\"]\n",
    "df.groupby(\"label\").count()"
   ]
  },
  {
   "cell_type": "markdown",
   "metadata": {},
   "source": [
    "## Moving preprocessed files \n",
    "The aim of this section is move all the preprocessing steps into a folder "
   ]
  },
  {
   "cell_type": "code",
   "execution_count": null,
   "metadata": {},
   "outputs": [],
   "source": [
    "root_path = \"../../../../../../Datasets/Parkinson/radiological/PPMI/spect-mri/filtered\"\n",
    "split = \"test\"\n",
    "group = \"control\"\n",
    "modality = \"mri\"\n",
    "current_root_path = os.path.join(root_path, split, group, modality)\n",
    "cases = sorted(os.listdir(current_root_path))"
   ]
  },
  {
   "cell_type": "code",
   "execution_count": null,
   "metadata": {},
   "outputs": [],
   "source": [
    "for case in cases[:2]:\n",
    "    preprocessed_path = os.path.join(current_root_path, case, \"preprocessed\")\n",
    "    files = sorted(os.listdir(preprocessed_path))\n",
    "    nii_files = [file for file in files if file.endswith(\".nii\")]\n",
    "    print(\"nii files: \", nii_files)\n",
    "    print(\"amount of nii: \", len(nii_files))"
   ]
  },
  {
   "cell_type": "markdown",
   "metadata": {},
   "source": [
    "**Until here**"
   ]
  },
  {
   "cell_type": "code",
   "execution_count": null,
   "metadata": {},
   "outputs": [],
   "source": []
  }
 ],
 "metadata": {
  "kernelspec": {
   "display_name": "Python 3",
   "language": "python",
   "name": "python3"
  },
  "language_info": {
   "codemirror_mode": {
    "name": "ipython",
    "version": 3
   },
   "file_extension": ".py",
   "mimetype": "text/x-python",
   "name": "python",
   "nbconvert_exporter": "python",
   "pygments_lexer": "ipython3",
   "version": "3.8.10"
  },
  "orig_nbformat": 4
 },
 "nbformat": 4,
 "nbformat_minor": 2
}
