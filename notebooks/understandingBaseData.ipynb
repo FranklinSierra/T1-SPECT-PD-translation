{
 "cells": [
  {
   "cell_type": "code",
   "execution_count": 23,
   "metadata": {},
   "outputs": [],
   "source": [
    "import pandas as pd\n",
    "import numpy as np\n",
    "import matplotlib.pyplot as plt\n",
    "import os"
   ]
  },
  {
   "cell_type": "markdown",
   "metadata": {},
   "source": [
    "# Loading and know the most relevant features of the baseline data"
   ]
  },
  {
   "cell_type": "code",
   "execution_count": 56,
   "metadata": {},
   "outputs": [],
   "source": [
    "path = \"/home/Data/Datasets/Parkinson/radiological/spect_paper\"\n",
    "test_df = pd.read_csv(path + \"/pdControlSpectTEST.csv\") \n",
    "train_df = pd.read_csv(path + \"/pdControlSpectTRAIN.csv\") \n",
    "columns = [\"path\", \"label\"]\n",
    "test_df.columns = columns\n",
    "train_df.columns = columns"
   ]
  },
  {
   "cell_type": "code",
   "execution_count": 57,
   "metadata": {},
   "outputs": [
    {
     "data": {
      "text/html": [
       "<div>\n",
       "<style scoped>\n",
       "    .dataframe tbody tr th:only-of-type {\n",
       "        vertical-align: middle;\n",
       "    }\n",
       "\n",
       "    .dataframe tbody tr th {\n",
       "        vertical-align: top;\n",
       "    }\n",
       "\n",
       "    .dataframe thead th {\n",
       "        text-align: right;\n",
       "    }\n",
       "</style>\n",
       "<table border=\"1\" class=\"dataframe\">\n",
       "  <thead>\n",
       "    <tr style=\"text-align: right;\">\n",
       "      <th></th>\n",
       "      <th>path</th>\n",
       "    </tr>\n",
       "    <tr>\n",
       "      <th>label</th>\n",
       "      <th></th>\n",
       "    </tr>\n",
       "  </thead>\n",
       "  <tbody>\n",
       "    <tr>\n",
       "      <th>HC</th>\n",
       "      <td>61</td>\n",
       "    </tr>\n",
       "    <tr>\n",
       "      <th>PD</th>\n",
       "      <td>131</td>\n",
       "    </tr>\n",
       "  </tbody>\n",
       "</table>\n",
       "</div>"
      ],
      "text/plain": [
       "       path\n",
       "label      \n",
       "HC       61\n",
       "PD      131"
      ]
     },
     "execution_count": 57,
     "metadata": {},
     "output_type": "execute_result"
    }
   ],
   "source": [
    "test_df.groupby(\"label\").count()\n"
   ]
  },
  {
   "cell_type": "code",
   "execution_count": 58,
   "metadata": {},
   "outputs": [
    {
     "data": {
      "text/html": [
       "<div>\n",
       "<style scoped>\n",
       "    .dataframe tbody tr th:only-of-type {\n",
       "        vertical-align: middle;\n",
       "    }\n",
       "\n",
       "    .dataframe tbody tr th {\n",
       "        vertical-align: top;\n",
       "    }\n",
       "\n",
       "    .dataframe thead th {\n",
       "        text-align: right;\n",
       "    }\n",
       "</style>\n",
       "<table border=\"1\" class=\"dataframe\">\n",
       "  <thead>\n",
       "    <tr style=\"text-align: right;\">\n",
       "      <th></th>\n",
       "      <th>path</th>\n",
       "    </tr>\n",
       "    <tr>\n",
       "      <th>label</th>\n",
       "      <th></th>\n",
       "    </tr>\n",
       "  </thead>\n",
       "  <tbody>\n",
       "    <tr>\n",
       "      <th>HC</th>\n",
       "      <td>351</td>\n",
       "    </tr>\n",
       "    <tr>\n",
       "      <th>PD</th>\n",
       "      <td>745</td>\n",
       "    </tr>\n",
       "  </tbody>\n",
       "</table>\n",
       "</div>"
      ],
      "text/plain": [
       "       path\n",
       "label      \n",
       "HC      351\n",
       "PD      745"
      ]
     },
     "execution_count": 58,
     "metadata": {},
     "output_type": "execute_result"
    }
   ],
   "source": [
    "train_df.groupby(\"label\").count()"
   ]
  },
  {
   "cell_type": "code",
   "execution_count": 61,
   "metadata": {},
   "outputs": [],
   "source": [
    "def dataframeFeatures(train_df, test_df):\n",
    "    sets = [train_df, test_df]\n",
    "    for df in sets:\n",
    "        if df.equals(train_df):\n",
    "            split = \"train\"\n",
    "            print(f\"======== {split} ========\")\n",
    "        else:\n",
    "            split = \"test\"\n",
    "            print(f\"======== {split} ========\")\n",
    "        gloabl_min, gloabl_max, gloabl_mean, dimensions = [], [], [], []\n",
    "        for i in range(df.shape[0]):\n",
    "            path = df.loc[i, \"path\"]\n",
    "            img = plt.imread(path)\n",
    "            current_min = np.min(img)\n",
    "            current_max = np.max(img)\n",
    "            current_mean = np.mean(img)\n",
    "            current_dimensions = img.shape\n",
    "            gloabl_min.append(current_min)\n",
    "            gloabl_max.append(current_max)\n",
    "            gloabl_mean.append(current_mean)\n",
    "            dimensions.append(current_dimensions)\n",
    "        print(f\"Statistics for: {split}\")\n",
    "        print(f\"Min: {np.mean(gloabl_min)}\")\n",
    "        print(f\"Max: {np.mean(gloabl_max)}\")\n",
    "        print(f\"Mean: {np.mean(gloabl_mean)}\")\n",
    "        print(f\"Dimensions: {dimensions[0]}\")"
   ]
  },
  {
   "cell_type": "code",
   "execution_count": 62,
   "metadata": {},
   "outputs": [
    {
     "name": "stdout",
     "output_type": "stream",
     "text": [
      "======== train ========\n",
      "Statistics for: train\n",
      "Min: 0.0018892231164500117\n",
      "Max: 0.26206526160240173\n",
      "Mean: 0.06923998147249222\n",
      "Dimensions: (109, 91)\n",
      "======== test ========\n",
      "Statistics for: test\n",
      "Min: 0.0017565361922606826\n",
      "Max: 0.2679330110549927\n",
      "Mean: 0.06942873448133469\n",
      "Dimensions: (109, 91)\n"
     ]
    }
   ],
   "source": [
    "dataframeFeatures(train_df, test_df)"
   ]
  },
  {
   "cell_type": "markdown",
   "metadata": {},
   "source": [
    "# Loading and know the most relevant features for own data version"
   ]
  },
  {
   "cell_type": "code",
   "execution_count": 63,
   "metadata": {},
   "outputs": [
    {
     "name": "stdout",
     "output_type": "stream",
     "text": [
      "amount of train samples: 10626\n",
      "amount of test samples: 2638\n"
     ]
    }
   ],
   "source": [
    "path2 = \"/home/Data/Datasets/Parkinson/radiological/PPMI/spect-mri/filtered/stratifying_stages/\"\n",
    "test_df2 = pd.read_csv(path2 + \"/pdControlSpectTEST.csv\")\n",
    "train_df2 = pd.read_csv(path2 + \"/pdControlSpectTRAIN.csv\")\n",
    "columns = [\"path\", \"label\"]\n",
    "test_df2.columns = columns\n",
    "train_df2.columns = columns\n",
    "\n",
    "print(f\"amount of train samples: {len(train_df2)}\")\n",
    "print(f\"amount of test samples: {len(test_df2)}\")"
   ]
  },
  {
   "cell_type": "code",
   "execution_count": 64,
   "metadata": {},
   "outputs": [
    {
     "data": {
      "text/html": [
       "<div>\n",
       "<style scoped>\n",
       "    .dataframe tbody tr th:only-of-type {\n",
       "        vertical-align: middle;\n",
       "    }\n",
       "\n",
       "    .dataframe tbody tr th {\n",
       "        vertical-align: top;\n",
       "    }\n",
       "\n",
       "    .dataframe thead th {\n",
       "        text-align: right;\n",
       "    }\n",
       "</style>\n",
       "<table border=\"1\" class=\"dataframe\">\n",
       "  <thead>\n",
       "    <tr style=\"text-align: right;\">\n",
       "      <th></th>\n",
       "      <th>path</th>\n",
       "    </tr>\n",
       "    <tr>\n",
       "      <th>label</th>\n",
       "      <th></th>\n",
       "    </tr>\n",
       "  </thead>\n",
       "  <tbody>\n",
       "    <tr>\n",
       "      <th>control</th>\n",
       "      <td>5277</td>\n",
       "    </tr>\n",
       "    <tr>\n",
       "      <th>parkinson</th>\n",
       "      <td>5349</td>\n",
       "    </tr>\n",
       "  </tbody>\n",
       "</table>\n",
       "</div>"
      ],
      "text/plain": [
       "           path\n",
       "label          \n",
       "control    5277\n",
       "parkinson  5349"
      ]
     },
     "execution_count": 64,
     "metadata": {},
     "output_type": "execute_result"
    }
   ],
   "source": [
    "train_df2.groupby(\"label\").count()"
   ]
  },
  {
   "cell_type": "code",
   "execution_count": 65,
   "metadata": {},
   "outputs": [
    {
     "data": {
      "text/html": [
       "<div>\n",
       "<style scoped>\n",
       "    .dataframe tbody tr th:only-of-type {\n",
       "        vertical-align: middle;\n",
       "    }\n",
       "\n",
       "    .dataframe tbody tr th {\n",
       "        vertical-align: top;\n",
       "    }\n",
       "\n",
       "    .dataframe thead th {\n",
       "        text-align: right;\n",
       "    }\n",
       "</style>\n",
       "<table border=\"1\" class=\"dataframe\">\n",
       "  <thead>\n",
       "    <tr style=\"text-align: right;\">\n",
       "      <th></th>\n",
       "      <th>path</th>\n",
       "    </tr>\n",
       "    <tr>\n",
       "      <th>label</th>\n",
       "      <th></th>\n",
       "    </tr>\n",
       "  </thead>\n",
       "  <tbody>\n",
       "    <tr>\n",
       "      <th>control</th>\n",
       "      <td>1364</td>\n",
       "    </tr>\n",
       "    <tr>\n",
       "      <th>parkinson</th>\n",
       "      <td>1274</td>\n",
       "    </tr>\n",
       "  </tbody>\n",
       "</table>\n",
       "</div>"
      ],
      "text/plain": [
       "           path\n",
       "label          \n",
       "control    1364\n",
       "parkinson  1274"
      ]
     },
     "execution_count": 65,
     "metadata": {},
     "output_type": "execute_result"
    }
   ],
   "source": [
    "test_df2.groupby(\"label\").count()"
   ]
  },
  {
   "cell_type": "code",
   "execution_count": 66,
   "metadata": {},
   "outputs": [
    {
     "name": "stdout",
     "output_type": "stream",
     "text": [
      "======== train ========\n",
      "Statistics for: train\n",
      "Min: 0.0\n",
      "Max: 1.0\n",
      "Mean: 0.3509591221809387\n",
      "Dimensions: (109, 91)\n",
      "======== test ========\n",
      "Statistics for: test\n",
      "Min: 0.0\n",
      "Max: 0.9996209144592285\n",
      "Mean: 0.35169294476509094\n",
      "Dimensions: (109, 91)\n"
     ]
    }
   ],
   "source": [
    "dataframeFeatures(train_df2, test_df2)"
   ]
  },
  {
   "cell_type": "code",
   "execution_count": 67,
   "metadata": {},
   "outputs": [
    {
     "name": "stdout",
     "output_type": "stream",
     "text": [
      "0.0\n",
      "1.0\n"
     ]
    }
   ],
   "source": [
    "#reading a single image and get the min and max values\n",
    "img = plt.imread(test_df2.loc[0, \"path\"])\n",
    "print(np.min(img))\n",
    "print(np.max(img))"
   ]
  },
  {
   "cell_type": "code",
   "execution_count": 42,
   "metadata": {},
   "outputs": [
    {
     "name": "stdout",
     "output_type": "stream",
     "text": [
      "amount of test samples:  2639\n",
      "amount of train samples:  10627\n"
     ]
    }
   ],
   "source": [
    "#cuentas\n",
    "# 1. test---> 15*91 imgs (control), 14*91 imgs (parkinson)\n",
    "# 2. train---> 58*91 imgs (control), 58*91 + 162 imgs (parkinson)\n",
    "print(\"amount of test samples: \", 15*91 + 14*91)\n",
    "print(\"amount of train samples: \", 58*91 + 57*91+162)"
   ]
  },
  {
   "cell_type": "code",
   "execution_count": null,
   "metadata": {},
   "outputs": [],
   "source": []
  }
 ],
 "metadata": {
  "kernelspec": {
   "display_name": "Python 3 (ipykernel)",
   "language": "python",
   "name": "python3"
  }
 },
 "nbformat": 4,
 "nbformat_minor": 2
}
