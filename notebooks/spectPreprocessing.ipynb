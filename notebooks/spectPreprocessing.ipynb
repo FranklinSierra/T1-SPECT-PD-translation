{
 "cells": [
  {
   "cell_type": "code",
   "execution_count": 1,
   "metadata": {},
   "outputs": [],
   "source": [
    "import nibabel as nib\n",
    "import numpy as np\n",
    "from scipy.ndimage import gaussian_filter\n",
    "from scipy.signal import butter, filtfilt\n",
    "import os"
   ]
  },
  {
   "cell_type": "markdown",
   "metadata": {},
   "source": [
    "# Notebook for the SPECT preprocessing steps\n",
    "## 1. Gaussian isotropic filter"
   ]
  },
  {
   "cell_type": "code",
   "execution_count": 2,
   "metadata": {},
   "outputs": [],
   "source": [
    "def apply_gaussian_filter(input_file, output_dir):\n",
    "    fwhm_mm = 18\n",
    "    # Load the NIfTI file\n",
    "    img = nib.load(input_file)\n",
    "    data = img.get_fdata()\n",
    "\n",
    "    # Get voxel dimensions\n",
    "    voxel_sizes = img.header.get_zooms()\n",
    "    #print(\"voxel_sizes: \", voxel_sizes)\n",
    "\n",
    "    # Convert FWHM from mm to voxel units\n",
    "    fwhm_voxel = fwhm_mm / np.array(voxel_sizes)\n",
    "\n",
    "    # Apply Gaussian filter\n",
    "    filtered_data = gaussian_filter(data, sigma=fwhm_voxel / (2*np.sqrt(2*np.log(2))))\n",
    "\n",
    "    # Save the filtered data to a new NIfTI file\n",
    "    filtered_img = nib.Nifti1Image(filtered_data, img.affine, img.header)\n",
    "    # check if the output dir exists\n",
    "    if not os.path.exists(output_dir):\n",
    "        os.makedirs(output_dir)\n",
    "    \n",
    "    sufix = \"_gaussian.nii.gz\"\n",
    "    original_name = input_file.split(\"/\")[-1]\n",
    "    current_original_name = original_name.split(\".\")[-3]\n",
    "    prefixed_name = f\"{current_original_name}{sufix}\"\n",
    "    output_file = output_dir + \"/\" + prefixed_name\n",
    "    print(\"output_file: \", output_file)\n",
    "    nib.save(filtered_img, output_file)\n",
    "    \n",
    "    return output_file\n",
    "\n",
    "# # Example usage\n",
    "# input_file = \"/home/Data/Datasets/Parkinson/radiological/PPMI/spect-mri/filtered/test/control/spect/3104/preprocessed/PPMI_3104_NM_Reconstructed_DaTSCAN_Br_20121011134355542_1_S117556_spect_resampled.nii.gz\"\n",
    "# output_file = '/home/Data/Datasets/Parkinson/radiological/PPMI/spect-mri/filtered/test/control/spect/3104/preprocessed2/filtered_output_gaussian.nii'\n",
    "# apply_gaussian_filter(input_file, output_file, fwhm_mm)"
   ]
  },
  {
   "cell_type": "markdown",
   "metadata": {},
   "source": [
    "## 2. Reconstruction algorithms\n",
    "a) Butterworth filter of 5th order with a cutoff frequency of 0.6 cycles/pixel "
   ]
  },
  {
   "cell_type": "code",
   "execution_count": 3,
   "metadata": {},
   "outputs": [],
   "source": [
    "def butterworth_filter(input_file, output_dir, order=5, cutoff=0.1):\n",
    "    # Load the NIfTI file\n",
    "    img = nib.load(input_file)\n",
    "    data = img.get_fdata()\n",
    "\n",
    "    # Get voxel dimensions\n",
    "    voxel_sizes = img.header.get_zooms()[:3]  # Extract voxel dimensions\n",
    "    \n",
    "    # Calculate sampling rate based on voxel dimensions\n",
    "    sampling_rate = 1 / min(voxel_sizes)\n",
    "\n",
    "    # Calculate Nyquist frequency\n",
    "    nyquist_freq = 0.5 * sampling_rate  # Nyquist frequency\n",
    "\n",
    "    #print(\"Nyquist Frequency:\", nyquist_freq)  # Debugging statement\n",
    "\n",
    "    # Normalize cutoff frequency\n",
    "    normalized_cutoff = cutoff / nyquist_freq\n",
    "\n",
    "    #print(\"Normalized Cutoff Frequency:\", normalized_cutoff)  # Debugging statement\n",
    "\n",
    "    # Check if normalized cutoff is within valid range\n",
    "    if normalized_cutoff >= 1:\n",
    "        raise ValueError(\"Cutoff frequency exceeds Nyquist frequency.\")\n",
    "\n",
    "    # Design Butterworth filter\n",
    "    b, a = butter(order, normalized_cutoff, btype='low', analog=False)\n",
    "\n",
    "    # Apply filter to each slice of the data\n",
    "    filtered_data = np.zeros_like(data)\n",
    "    for i in range(data.shape[-1]):\n",
    "        filtered_data[..., i] = filtfilt(b, a, data[..., i], axis=0)\n",
    "        \n",
    "    # check if the output dir exists\n",
    "    if not os.path.exists(output_dir):\n",
    "        os.makedirs(output_dir)\n",
    "    \n",
    "    sufix = \"_butterworth.nii.gz\"\n",
    "    original_name = input_file.split(\"/\")[-1]\n",
    "    current_original_name = original_name.split(\".\")[-3]\n",
    "    prefixed_name = f\"{current_original_name}{sufix}\"\n",
    "    output_file = output_dir + \"/\" + prefixed_name\n",
    "    # Save the filtered data back to a nii file\n",
    "    filtered_nii = nib.Nifti1Image(filtered_data, affine=img.affine)\n",
    "    nib.save(filtered_nii, output_file)\n",
    "\n",
    "    return output_file"
   ]
  },
  {
   "cell_type": "markdown",
   "metadata": {},
   "source": [
    "a.1) Uniform post-reconstruction attenuation correction according to Chang (mu=0.12/cm), no scatter correction"
   ]
  },
  {
   "cell_type": "code",
   "execution_count": 4,
   "metadata": {},
   "outputs": [],
   "source": [
    "def apply_attenuation_correction(input_file, output_dir, attenuation_coefficient=0.12):\n",
    "    # Load the SPECT NIfTI file\n",
    "    img = nib.load(input_file)\n",
    "    # Extract image data from the NIfTI file\n",
    "    spect_data = img.get_fdata()\n",
    "    \n",
    "    \n",
    "    # Apply attenuation correction using Chang's method\n",
    "    corrected_data = spect_data * np.exp(-attenuation_coefficient)\n",
    "    \n",
    "    # check if the output dir exists\n",
    "    if not os.path.exists(output_dir):\n",
    "        os.makedirs(output_dir)\n",
    "    \n",
    "    sufix = \"_attenuated.nii.gz\"\n",
    "    original_name = input_file.split(\"/\")[-1]\n",
    "    current_original_name = original_name.split(\".\")[-3]\n",
    "    prefixed_name = f\"{current_original_name}{sufix}\"\n",
    "    output_file = output_dir + \"/\" + prefixed_name\n",
    "    # Save the filtered data back to a nii file\n",
    "    filtered_nii = nib.Nifti1Image(corrected_data, affine=img.affine)\n",
    "    nib.save(filtered_nii, output_file)\n",
    "    \n",
    "    return output_file"
   ]
  },
  {
   "cell_type": "markdown",
   "metadata": {},
   "source": [
    "**Main**\n",
    "* For Parkinson and Control groups"
   ]
  },
  {
   "cell_type": "code",
   "execution_count": null,
   "metadata": {},
   "outputs": [],
   "source": [
    "#getting all the related cases\n",
    "root_path = \"/home/Data/Datasets/Parkinson/radiological/PPMI/spect-mri/filtered\"\n",
    "split = \"train\"\n",
    "group = \"parkinson\"\n",
    "modality = \"spect\"\n",
    "current_path = root_path + \"/\" + split + \"/\" + group + \"/\" + modality\n",
    "cases = sorted(os.listdir(current_path))\n",
    "print(len(cases))"
   ]
  },
  {
   "cell_type": "markdown",
   "metadata": {},
   "source": [
    "* For SWEDD group"
   ]
  },
  {
   "cell_type": "code",
   "execution_count": 7,
   "metadata": {},
   "outputs": [
    {
     "name": "stdout",
     "output_type": "stream",
     "text": [
      "39\n"
     ]
    }
   ],
   "source": [
    "#getting all the related cases\n",
    "root_path = \"/home/Data/Datasets/Parkinson/radiological/PPMI/spect-mri/filtered\"\n",
    "group = \"swedd\"\n",
    "modality = \"spect\"\n",
    "current_path = root_path + \"/\" + group + \"/\" + modality\n",
    "cases = sorted(os.listdir(current_path))\n",
    "print(len(cases))"
   ]
  },
  {
   "cell_type": "code",
   "execution_count": 9,
   "metadata": {},
   "outputs": [
    {
     "name": "stdout",
     "output_type": "stream",
     "text": [
      "3183\n",
      "output_file:  /home/Data/Datasets/Parkinson/radiological/PPMI/spect-mri/filtered/swedd/spect/3183/preprocessed2/3183_swedd_spect_mri_Reconstructed_DaTSCAN_20141007134635_2_resampled_gaussian.nii.gz\n",
      "3189\n",
      "output_file:  /home/Data/Datasets/Parkinson/radiological/PPMI/spect-mri/filtered/swedd/spect/3189/preprocessed2/3189_swedd_spect_mri_Reconstructed_DaTSCAN_20150731131250_2_resampled_gaussian.nii.gz\n",
      "3304\n",
      "output_file:  /home/Data/Datasets/Parkinson/radiological/PPMI/spect-mri/filtered/swedd/spect/3304/preprocessed2/3304_swedd_spect_mri_Reconstructed_DaTSCAN_20140515125029_2_resampled_gaussian.nii.gz\n",
      "3319\n",
      "output_file:  /home/Data/Datasets/Parkinson/radiological/PPMI/spect-mri/filtered/swedd/spect/3319/preprocessed2/3319_swedd_spect_mri_Reconstructed_DaTSCAN_20140625154145_2_resampled_gaussian.nii.gz\n",
      "3324\n",
      "output_file:  /home/Data/Datasets/Parkinson/radiological/PPMI/spect-mri/filtered/swedd/spect/3324/preprocessed2/3324_swedd_spect_mri_Reconstructed_DaTSCAN_20141119140110_2_resampled_gaussian.nii.gz\n",
      "3326\n",
      "output_file:  /home/Data/Datasets/Parkinson/radiological/PPMI/spect-mri/filtered/swedd/spect/3326/preprocessed2/3326_swedd_spect_mri_Reconstructed_DaTSCAN_20150205141256_3_resampled_gaussian.nii.gz\n",
      "3356\n",
      "output_file:  /home/Data/Datasets/Parkinson/radiological/PPMI/spect-mri/filtered/swedd/spect/3356/preprocessed2/3356_swedd_spect_mri_Reconstructed_DaTSCAN_20130619131608_3_resampled_gaussian.nii.gz\n",
      "3379\n",
      "output_file:  /home/Data/Datasets/Parkinson/radiological/PPMI/spect-mri/filtered/swedd/spect/3379/preprocessed2/3379_swedd_spect_mri_Reconstructed_DaTSCAN_20120718150752_1_resampled_gaussian.nii.gz\n",
      "3381\n",
      "output_file:  /home/Data/Datasets/Parkinson/radiological/PPMI/spect-mri/filtered/swedd/spect/3381/preprocessed2/3381_swedd_spect_mri_Reconstructed_DaTSCAN_20120801144656_1_resampled_gaussian.nii.gz\n",
      "3384\n",
      "output_file:  /home/Data/Datasets/Parkinson/radiological/PPMI/spect-mri/filtered/swedd/spect/3384/preprocessed2/3384_swedd_spect_mri_Reconstructed_DaTSCAN_20150211150455_2_resampled_gaussian.nii.gz\n",
      "3550\n",
      "output_file:  /home/Data/Datasets/Parkinson/radiological/PPMI/spect-mri/filtered/swedd/spect/3550/preprocessed2/3550_swedd_spect_mri_Reconstructed_DaTSCAN_20140304135714_2_resampled_gaussian.nii.gz\n",
      "3566\n",
      "output_file:  /home/Data/Datasets/Parkinson/radiological/PPMI/spect-mri/filtered/swedd/spect/3566/preprocessed2/3566_swedd_spect_mri_Reconstructed_DaTSCAN_20140403144121_2_resampled_gaussian.nii.gz\n",
      "3573\n",
      "output_file:  /home/Data/Datasets/Parkinson/radiological/PPMI/spect-mri/filtered/swedd/spect/3573/preprocessed2/3573_swedd_spect_mri_Reconstructed_DaTSCAN_20140318115928_2_resampled_gaussian.nii.gz\n",
      "3580\n",
      "output_file:  /home/Data/Datasets/Parkinson/radiological/PPMI/spect-mri/filtered/swedd/spect/3580/preprocessed2/3580_swedd_spect_mri_Reconstructed_DaTSCAN_20140312114758_2_resampled_gaussian.nii.gz\n",
      "3581\n",
      "output_file:  /home/Data/Datasets/Parkinson/radiological/PPMI/spect-mri/filtered/swedd/spect/3581/preprocessed2/3581_swedd_spect_mri_Reconstructed_DaTSCAN_20140314121113_2_resampled_gaussian.nii.gz\n",
      "3582\n",
      "output_file:  /home/Data/Datasets/Parkinson/radiological/PPMI/spect-mri/filtered/swedd/spect/3582/preprocessed2/3582_swedd_spect_mri_Reconstructed_DaTSCAN_20140603081803_2_resampled_gaussian.nii.gz\n",
      "3751\n",
      "output_file:  /home/Data/Datasets/Parkinson/radiological/PPMI/spect-mri/filtered/swedd/spect/3751/preprocessed2/3751_swedd_spect_mri_Reconstructed_DaTSCAN_20130619134707_2_resampled_gaussian.nii.gz\n",
      "3755\n",
      "output_file:  /home/Data/Datasets/Parkinson/radiological/PPMI/spect-mri/filtered/swedd/spect/3755/preprocessed2/3755_swedd_spect_mri_Reconstructed_DaTSCAN_20130918143428_2_resampled_gaussian.nii.gz\n",
      "3782\n",
      "output_file:  /home/Data/Datasets/Parkinson/radiological/PPMI/spect-mri/filtered/swedd/spect/3782/preprocessed2/3782_swedd_spect_mri_Reconstructed_DaTSCAN_20120704135233_1_resampled_gaussian.nii.gz\n",
      "3783\n",
      "output_file:  /home/Data/Datasets/Parkinson/radiological/PPMI/spect-mri/filtered/swedd/spect/3783/preprocessed2/3783_swedd_spect_mri_Reconstructed_DaTSCAN_20141105145559_1_resampled_gaussian.nii.gz\n",
      "3784\n",
      "output_file:  /home/Data/Datasets/Parkinson/radiological/PPMI/spect-mri/filtered/swedd/spect/3784/preprocessed2/3784_swedd_spect_mri_Reconstructed_DaTSCAN_20141022150708_2_resampled_gaussian.nii.gz\n",
      "3790\n",
      "output_file:  /home/Data/Datasets/Parkinson/radiological/PPMI/spect-mri/filtered/swedd/spect/3790/preprocessed2/3790_swedd_spect_mri_Reconstructed_DaTSCAN_20150128141309_2_resampled_gaussian.nii.gz\n",
      "3801\n",
      "output_file:  /home/Data/Datasets/Parkinson/radiological/PPMI/spect-mri/filtered/swedd/spect/3801/preprocessed2/3801_swedd_spect_mri_Reconstructed_DaTSCAN_20110524125728_1000_resampled_gaussian.nii.gz\n",
      "3820\n",
      "output_file:  /home/Data/Datasets/Parkinson/radiological/PPMI/spect-mri/filtered/swedd/spect/3820/preprocessed2/3820_swedd_spect_mri_Reconstructed_DaTSCAN_20140513142201_2_resampled_gaussian.nii.gz\n",
      "3821\n",
      "output_file:  /home/Data/Datasets/Parkinson/radiological/PPMI/spect-mri/filtered/swedd/spect/3821/preprocessed2/3821_swedd_spect_mri_Reconstructed_DaTSCAN_20140506130158_2_resampled_gaussian.nii.gz\n",
      "3836\n",
      "output_file:  /home/Data/Datasets/Parkinson/radiological/PPMI/spect-mri/filtered/swedd/spect/3836/preprocessed2/3836_swedd_spect_mri_Reconstructed_DaTSCAN_20150210142640_2_resampled_gaussian.nii.gz\n",
      "3860\n",
      "output_file:  /home/Data/Datasets/Parkinson/radiological/PPMI/spect-mri/filtered/swedd/spect/3860/preprocessed2/3860_swedd_spect_mri_Reconstructed_DaTSCAN_20140207141751_1_resampled_gaussian.nii.gz\n",
      "3861\n",
      "output_file:  /home/Data/Datasets/Parkinson/radiological/PPMI/spect-mri/filtered/swedd/spect/3861/preprocessed2/3861_swedd_spect_mri_Reconstructed_DaTSCAN_20151104152830_2_resampled_gaussian.nii.gz\n",
      "3862\n",
      "output_file:  /home/Data/Datasets/Parkinson/radiological/PPMI/spect-mri/filtered/swedd/spect/3862/preprocessed2/3862_swedd_spect_mri_Reconstructed_DaTSCAN_20140903143807_2_resampled_gaussian.nii.gz\n",
      "3865\n",
      "output_file:  /home/Data/Datasets/Parkinson/radiological/PPMI/spect-mri/filtered/swedd/spect/3865/preprocessed2/3865_swedd_spect_mri_Reconstructed_DaTSCAN_20140425141536_2_resampled_gaussian.nii.gz\n",
      "3871\n",
      "output_file:  /home/Data/Datasets/Parkinson/radiological/PPMI/spect-mri/filtered/swedd/spect/3871/preprocessed2/3871_swedd_spect_mri_Reconstructed_DaTSCAN_20140418111401_2_resampled_gaussian.nii.gz\n",
      "4023\n",
      "output_file:  /home/Data/Datasets/Parkinson/radiological/PPMI/spect-mri/filtered/swedd/spect/4023/preprocessed2/4023_swedd_spect_mri_Reconstructed_DaTSCAN_20140610123406_1_resampled_gaussian.nii.gz\n",
      "4031\n",
      "output_file:  /home/Data/Datasets/Parkinson/radiological/PPMI/spect-mri/filtered/swedd/spect/4031/preprocessed2/4031_swedd_spect_mri_Reconstructed_DaTSCAN_20150121125955_3_resampled_gaussian.nii.gz\n",
      "4036\n",
      "output_file:  /home/Data/Datasets/Parkinson/radiological/PPMI/spect-mri/filtered/swedd/spect/4036/preprocessed2/4036_swedd_spect_mri_Reconstructed_DaTSCAN_20130212121820_1_resampled_gaussian.nii.gz\n",
      "4060\n",
      "output_file:  /home/Data/Datasets/Parkinson/radiological/PPMI/spect-mri/filtered/swedd/spect/4060/preprocessed2/4060_swedd_spect_mri_Reconstructed_DaTSCAN_20120405125555_1_resampled_gaussian.nii.gz\n",
      "4064\n",
      "output_file:  /home/Data/Datasets/Parkinson/radiological/PPMI/spect-mri/filtered/swedd/spect/4064/preprocessed2/4064_swedd_spect_mri_Reconstructed_DaTSCAN_20141209141835_2_resampled_gaussian.nii.gz\n",
      "4066\n",
      "output_file:  /home/Data/Datasets/Parkinson/radiological/PPMI/spect-mri/filtered/swedd/spect/4066/preprocessed2/4066_swedd_spect_mri_Reconstructed_DaTSCAN_20121227083448_1000_resampled_gaussian.nii.gz\n",
      "done!\n"
     ]
    }
   ],
   "source": [
    "for case in cases[2:]:\n",
    "    print(case)\n",
    "    preprocessed_case_path = current_path + \"/\" + case + \"/\" + \"preprocessed\"\n",
    "    output_dir = current_path + \"/\" + case + \"/\" + \"preprocessed2\"\n",
    "    files = os.listdir(preprocessed_case_path)\n",
    "    nii_file = [file for file in files if file.endswith(\"_resampled.nii.gz\")][0] \n",
    "    #step 1 to preprocess (apply gaussian filter)\n",
    "    nii_file_path = preprocessed_case_path + \"/\" + nii_file\n",
    "    input_file = nii_file_path\n",
    "    output_file = apply_gaussian_filter(input_file, output_dir)\n",
    "    #step 2 to preprocess (apply Butterworth reconstruction filter)\n",
    "    output_file = butterworth_filter(input_file=output_file, output_dir=output_dir, order=5, cutoff=0.1)\n",
    "    #step 3 to preprocess (attenuation correction)\n",
    "    corrected_data = apply_attenuation_correction(output_file, output_dir, attenuation_coefficient=0.12) # Assuming linear attenuation coefficient of 0.12/cm\n",
    "    \n",
    "print(\"done!\")\n",
    "    "
   ]
  },
  {
   "cell_type": "code",
   "execution_count": null,
   "metadata": {},
   "outputs": [],
   "source": []
  }
 ],
 "metadata": {
  "kernelspec": {
   "display_name": "Python 3",
   "language": "python",
   "name": "python3"
  },
  "language_info": {
   "codemirror_mode": {
    "name": "ipython",
    "version": 3
   },
   "file_extension": ".py",
   "mimetype": "text/x-python",
   "name": "python",
   "nbconvert_exporter": "python",
   "pygments_lexer": "ipython3",
   "version": "3.8.10"
  }
 },
 "nbformat": 4,
 "nbformat_minor": 2
}
