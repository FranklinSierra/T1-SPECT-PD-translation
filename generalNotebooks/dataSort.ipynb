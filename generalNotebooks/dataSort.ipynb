{
 "cells": [
  {
   "cell_type": "code",
   "execution_count": 1,
   "metadata": {},
   "outputs": [],
   "source": [
    "import os\n",
    "import pandas as pd\n",
    "import numpy as np\n",
    "from datetime import datetime"
   ]
  },
  {
   "cell_type": "markdown",
   "metadata": {},
   "source": [
    "# Utils"
   ]
  },
  {
   "cell_type": "code",
   "execution_count": 2,
   "metadata": {},
   "outputs": [
    {
     "name": "stdout",
     "output_type": "stream",
     "text": [
      "698\n",
      "4229\n"
     ]
    }
   ],
   "source": [
    "ctrl_mri_spect_df = pd.read_csv(\"../../../../../../Datasets/Parkinson/radiological/PPMI/spect-mri/controlMri-Spect12_01_2023.csv\")\n",
    "ctrl_mri_spect_df['Acq Date'] = pd.to_datetime(ctrl_mri_spect_df['Acq Date'])\n",
    "\n",
    "pd_mri_spect_df = pd.read_csv(\"../../../../../../Datasets/Parkinson/radiological/PPMI/spect-mri/pdMriSpect_12_01_2023.csv\")\n",
    "pd_mri_spect_df['Acq Date'] = pd.to_datetime(pd_mri_spect_df['Acq Date'])\n",
    "\n",
    "print(len(ctrl_mri_spect_df))\n",
    "print(len(pd_mri_spect_df))"
   ]
  },
  {
   "cell_type": "code",
   "execution_count": 3,
   "metadata": {},
   "outputs": [],
   "source": [
    "def count_t1_types(df):\n",
    "    print(\"T2 in corrected EPI: \", len(df[df[\"Description\"].str.startswith(\"T2 in corrected EPI\")]))\n",
    "    print(\"T2 in T1: \", len(df[df[\"Description\"].str.startswith(\"T2 in T1\")]))\n",
    "    print(\"T1-anatomical: \", len(df[df[\"Description\"].str.startswith(\"T1-anatomical\")]))"
   ]
  },
  {
   "cell_type": "code",
   "execution_count": 4,
   "metadata": {},
   "outputs": [],
   "source": [
    "def count_t1_types_with_spect(df):\n",
    "\n",
    "    #================= to know subjects with T1-anatomical and spect modality =================\n",
    "    filtered_mri = df[(df['Modality'] == 'MRI') & df['Description'].str.startswith('T1-anatomical')]\n",
    "    filtered_spect = df[(df['Modality'] == 'SPECT') & df['Description'].str.contains('DaTSCAN')]\n",
    "\n",
    "    mri_subjects = sorted(filtered_mri['Subject'].tolist())\n",
    "    spect_subjects = sorted(filtered_spect['Subject'].tolist())\n",
    "\n",
    "    print(\"total t1-anatomical subjects: \", len(mri_subjects))\n",
    "    print(\"total spect subjects: \", len(spect_subjects))\n",
    "\n",
    "    #sujetos con T1-anatomical y DaTSCAN\n",
    "    t1_anat_spect_subjects = sorted(list(set(mri_subjects) & set(spect_subjects)))\n",
    "    print(\"total subjects with T1-anatomical and DaTSCAN: \", len(t1_anat_spect_subjects))\n",
    "\n",
    "    #================= to know subjects with T2-in T1 and spect modality =================\n",
    "    filtered_mri = df[(df['Modality'] == 'MRI') & df['Description'].str.startswith('T2 in T1')]\n",
    "\n",
    "    mri_subjects_t2_in_t1 = sorted(filtered_mri['Subject'].tolist())\n",
    "\n",
    "    print(\"total t2 in t1 subjects: \", len(mri_subjects_t2_in_t1))\n",
    "    print(\"total spect subjects: \", len(spect_subjects))\n",
    "\n",
    "    #sujetos con T2 in T1 y DaTSCAN\n",
    "    t2_in_t1_spect_subjects = sorted(list(set(mri_subjects_t2_in_t1) & set(spect_subjects)))\n",
    "    print(\"total subjects with T1-anatomical and DaTSCAN: \", len(t2_in_t1_spect_subjects))\n",
    "\n",
    "    #================= to know subjects with T2 in corrected EPI and spect modality =================\n",
    "    filtered_mri = df[(df['Modality'] == 'MRI') & df['Description'].str.startswith('T2 in corrected EPI')]\n",
    "\n",
    "    mri_subjects_t2_in_epi = sorted(filtered_mri['Subject'].tolist())\n",
    "\n",
    "    print(\"total t2 in epi subjects: \", len(mri_subjects_t2_in_epi))\n",
    "    print(\"total spect subjects: \", len(spect_subjects))\n",
    "\n",
    "    #sujetos con T2 in corrected EPI y DaTSCAN\n",
    "    t2_in_epi_spect_subjects = sorted(list(set(mri_subjects_t2_in_epi) & set(spect_subjects)))\n",
    "    print(\"total subjects with T2 in corrected EPI and DaTSCAN: \", len(t2_in_epi_spect_subjects))\n",
    "\n",
    "    return t1_anat_spect_subjects"
   ]
  },
  {
   "cell_type": "code",
   "execution_count": 5,
   "metadata": {},
   "outputs": [],
   "source": [
    "def cases_t1_spect(df, t1_anat_spect_subjects):\n",
    "    #================= to know subjects with T1 and spect modality =================\n",
    "    filtered_df = df[df['Description'].str.contains('DaTSCAN|^T1-anatomical')]\n",
    "\n",
    "    filtered_t1_spect_df = filtered_df[filtered_df['Subject'].isin(t1_anat_spect_subjects)]\n",
    "    filtered_t1_spect_df = filtered_t1_spect_df.reset_index(drop=True)\n",
    "    return filtered_t1_spect_df\n"
   ]
  },
  {
   "cell_type": "code",
   "execution_count": 6,
   "metadata": {},
   "outputs": [],
   "source": [
    "def cases_with_more_than_one_t1_spect(df):\n",
    "\n",
    "    # Count the occurrences of 't1-anatomical' for each subject\n",
    "    t1_counts = df[df['Description'] == 'T1-anatomical'].groupby('Subject').size()\n",
    "\n",
    "    # Filter subjects with more than two 't1-anatomical' values\n",
    "    subjects_with_more_than_one_t1 = t1_counts[t1_counts > 1].index.tolist()\n",
    "\n",
    "    print(\"Subjects with more than one 't1-anatomical' values:\", subjects_with_more_than_one_t1)\n",
    "    print(\"amount of subjects with more than one t1-anatomical: \", len(subjects_with_more_than_one_t1))\n",
    "\n",
    "    #=================================================================================================\n",
    "\n",
    "    # Filter subjects with more than two 'Reconstructed DaTSCAN\t' values\n",
    "    spect_counts = df[df['Description'] == 'Reconstructed DaTSCAN'].groupby('Subject').size()\n",
    "\n",
    "    # Filter subjects with more than two 't1-anatomical' values\n",
    "    subjects_with_more_than_one_spects = spect_counts[spect_counts > 1].index.tolist()\n",
    "\n",
    "    print(\"Subjects with more than one 'Reconstructed DaTSCAN:\", subjects_with_more_than_one_spects)\n",
    "    print(\"amount of subjects with more than one Reconstructed DaTSCAN: \", len(subjects_with_more_than_one_spects))\n",
    "    \n",
    "    return subjects_with_more_than_one_t1, subjects_with_more_than_one_spects"
   ]
  },
  {
   "cell_type": "code",
   "execution_count": 7,
   "metadata": {},
   "outputs": [],
   "source": [
    "def filter_single_t1_records(df):\n",
    "\n",
    "    # Identify subjects with more than two 't1-anatomical' values\n",
    "    t1_counts = df[df['Description'] == 'T1-anatomical'].groupby('Subject').size()\n",
    "    subjects_with_more_than_one_t1 = t1_counts[t1_counts > 1].index.tolist()\n",
    "\n",
    "    # Filter and keep only the 't1-anatomical' records closer to the DaTSCAN date\n",
    "    result_df = pd.DataFrame()\n",
    "\n",
    "    for subject in subjects_with_more_than_one_t1:\n",
    "        subject_df = df[df['Subject'] == subject]\n",
    "        \n",
    "        t1_anatomical_df = subject_df[subject_df['Description'] == 'T1-anatomical']\n",
    "        dat_scan_df = subject_df[subject_df['Description'] == 'Reconstructed DaTSCAN']\n",
    "        \n",
    "        if not t1_anatomical_df.empty and not dat_scan_df.empty:\n",
    "            #getting the closest t1-anatomical to the dat_scan date\n",
    "            closest_t1_anatomical = t1_anatomical_df.loc[(t1_anatomical_df['Acq Date'] - dat_scan_df['Acq Date'].iloc[0]).abs().idxmin()]\n",
    "            closest_t1_anatomical_df = closest_t1_anatomical.to_frame().T\n",
    "            closest_t1_anatomical_df.columns = df.columns\n",
    "            result_df = pd.concat([result_df, closest_t1_anatomical_df])\n",
    "\n",
    "    return result_df"
   ]
  },
  {
   "cell_type": "code",
   "execution_count": 8,
   "metadata": {},
   "outputs": [],
   "source": [
    "def filter_single_spect_records(df):\n",
    "    #filtering spect cases with more than one record\n",
    "    spect_counts = df[df['Description'] == 'Reconstructed DaTSCAN'].groupby('Subject').size()\n",
    "    subjects_with_more_than_one_spect = spect_counts[spect_counts > 1].index.tolist()\n",
    "\n",
    "    # Filter and keep only the 't1-anatomical' records closer to the DaTSCAN date\n",
    "    result_df = pd.DataFrame()\n",
    "\n",
    "    for subject in subjects_with_more_than_one_spect:\n",
    "        subject_df = df[df['Subject'] == subject]\n",
    "        \n",
    "        dat_scan_df = subject_df[subject_df['Description'] == 'Reconstructed DaTSCAN']\n",
    "        dat_scan_df = dat_scan_df.sort_values(by=['Acq Date'], ascending=False).head(1)\n",
    "\n",
    "        result_df = pd.concat([result_df, dat_scan_df])\n",
    "\n",
    "    return result_df"
   ]
  },
  {
   "cell_type": "code",
   "execution_count": 9,
   "metadata": {},
   "outputs": [],
   "source": [
    "def index_to_drop(result_df, filtered_t1_spect_df):\n",
    "\n",
    "    #getting the index of the T1 to be saved (over subjects with more than one T1)\n",
    "    t1_save_index = result_df.index\n",
    "    t1_save_index = sorted(t1_save_index.tolist())\n",
    "    print(len(t1_save_index))\n",
    "    print(\"t1_save_index: \", t1_save_index)\n",
    "\n",
    "\n",
    "    # getting the index of the T1 to be saved (over subjects with just one T1)\n",
    "    single_t1_index = []\n",
    "    t1_counts = filtered_t1_spect_df[filtered_t1_spect_df['Description'] == 'T1-anatomical'].groupby('Subject').size()\n",
    "    subjects_with_just_one_t1 = t1_counts[t1_counts == 1].index.tolist()\n",
    "    for subject in subjects_with_just_one_t1:\n",
    "        idx = filtered_t1_spect_df[filtered_t1_spect_df['Subject'] == subject].index.tolist()\n",
    "        single_t1_index.extend(idx)\n",
    "    print(len(single_t1_index))\n",
    "    print(\"single_t1_index: \", single_t1_index)\n",
    "\n",
    "\n",
    "    #getting the index of the spect to be saved\n",
    "    spect_save_index = filtered_t1_spect_df[filtered_t1_spect_df[\"Description\"]==\"Reconstructed DaTSCAN\"].index\n",
    "    spect_save_index = sorted(spect_save_index.tolist())\n",
    "    print(len(spect_save_index))\n",
    "    print(\"spect_save_index: \", spect_save_index)\n",
    "\n",
    "\n",
    "    #getting all the index from the filtered_t1_spect_df\n",
    "    total_indexes = filtered_t1_spect_df.index\n",
    "    total_indexes = sorted(total_indexes.tolist())\n",
    "    print(\"total_indexes: \", len(total_indexes))\n",
    "    print(total_indexes)\n",
    "\n",
    "    #getting the difference between the total_t1_index and the single_t1_index\n",
    "    spect_and_2t1_index = list(set(total_indexes) - set(single_t1_index))\n",
    "\n",
    "    #spect_and_2t1_index difference with spect_save_index\n",
    "    _2t1_index= list(set(spect_and_2t1_index) - set(spect_save_index))\n",
    "\n",
    "    #the current drop indexes (_2t1_index - t1_save_index)\n",
    "    current_delete_index = sorted(list(set(_2t1_index) - set(t1_save_index)))\n",
    "\n",
    "    return current_delete_index"
   ]
  },
  {
   "cell_type": "markdown",
   "metadata": {},
   "source": [
    "## Control analysis"
   ]
  },
  {
   "cell_type": "code",
   "execution_count": null,
   "metadata": {},
   "outputs": [],
   "source": [
    "count_t1_types(ctrl_mri_spect_df)\n",
    "print(\"=============================================\")\n",
    "t1_anat_spect_subjects = count_t1_types_with_spect(ctrl_mri_spect_df)\n",
    "print(\"================== cases with T1 and spect =========================\")\n",
    "filtered_t1_spect_df = cases_t1_spect(ctrl_mri_spect_df, t1_anat_spect_subjects)\n",
    "filtered_t1_spect_df"
   ]
  },
  {
   "cell_type": "markdown",
   "metadata": {},
   "source": [
    "**Identitying more than one case per modality**"
   ]
  },
  {
   "cell_type": "code",
   "execution_count": null,
   "metadata": {},
   "outputs": [],
   "source": [
    "cases_with_more_than_one_t1_spect(filtered_t1_spect_df)"
   ]
  },
  {
   "cell_type": "markdown",
   "metadata": {},
   "source": [
    "### Getting the T1 cases that we really need"
   ]
  },
  {
   "cell_type": "code",
   "execution_count": null,
   "metadata": {},
   "outputs": [],
   "source": [
    "result_df = filter_single_t1_records(filtered_t1_spect_df)\n",
    "result_df.head()"
   ]
  },
  {
   "cell_type": "markdown",
   "metadata": {},
   "source": [
    "### Getting the indexes to be dropped"
   ]
  },
  {
   "cell_type": "code",
   "execution_count": null,
   "metadata": {},
   "outputs": [],
   "source": [
    "current_delete_index = index_to_drop(result_df, filtered_t1_spect_df)\n",
    "print(\"current_delete_index: \", current_delete_index)"
   ]
  },
  {
   "cell_type": "markdown",
   "metadata": {},
   "source": [
    "**Just for checking**"
   ]
  },
  {
   "cell_type": "code",
   "execution_count": null,
   "metadata": {},
   "outputs": [],
   "source": [
    "filtered_t1_spect_df.iloc[6]"
   ]
  },
  {
   "cell_type": "code",
   "execution_count": null,
   "metadata": {},
   "outputs": [],
   "source": [
    "filtered_t1_spect_df[filtered_t1_spect_df[\"Subject\"]==4032]"
   ]
  },
  {
   "cell_type": "markdown",
   "metadata": {},
   "source": [
    "**Dropping the index that we do not need**"
   ]
  },
  {
   "cell_type": "code",
   "execution_count": null,
   "metadata": {},
   "outputs": [],
   "source": [
    "final_ctrl_mri_spect_df = filtered_t1_spect_df.drop(current_delete_index)\n",
    "final_ctrl_mri_spect_df = final_ctrl_mri_spect_df.reset_index(drop=True)\n",
    "final_ctrl_mri_spect_df"
   ]
  },
  {
   "cell_type": "code",
   "execution_count": null,
   "metadata": {},
   "outputs": [],
   "source": [
    "final_ctrl_mri_spect_df.groupby('Subject').value_counts()"
   ]
  },
  {
   "cell_type": "code",
   "execution_count": null,
   "metadata": {},
   "outputs": [],
   "source": [
    "# Sort DataFrame by 'Subject_ID' and 'Date'\n",
    "df = final_ctrl_mri_spect_df.sort_values(by=['Subject', 'Acq Date'])\n",
    "\n",
    "# Group DataFrame by 'Subject_ID'\n",
    "grouped = final_ctrl_mri_spect_df.groupby('Subject')\n",
    "\n",
    "# Calculate date difference within each group\n",
    "df['Date_Difference'] = grouped['Acq Date'].diff().dt.days\n",
    "\n",
    "# Calculate average days difference\n",
    "average_days_difference = df['Date_Difference'].mean()\n",
    "\n",
    "print(\"Average days difference between subjects:\", average_days_difference)"
   ]
  },
  {
   "cell_type": "markdown",
   "metadata": {},
   "source": [
    "## Parkinson analysis"
   ]
  },
  {
   "cell_type": "code",
   "execution_count": 10,
   "metadata": {},
   "outputs": [
    {
     "name": "stdout",
     "output_type": "stream",
     "text": [
      "T2 in corrected EPI:  617\n",
      "T2 in T1:  544\n",
      "T1-anatomical:  544\n",
      "=============================================\n",
      "total t1-anatomical subjects:  544\n",
      "total spect subjects:  2524\n",
      "total subjects with T1-anatomical and DaTSCAN:  187\n",
      "total t2 in t1 subjects:  544\n",
      "total spect subjects:  2524\n",
      "total subjects with T1-anatomical and DaTSCAN:  187\n",
      "total t2 in epi subjects:  617\n",
      "total spect subjects:  2524\n",
      "total subjects with T2 in corrected EPI and DaTSCAN:  187\n",
      "================== cases with T1 and spect =========================\n",
      "amount of cases with T1 and spect:  1114\n"
     ]
    },
    {
     "data": {
      "text/html": [
       "<div>\n",
       "<style scoped>\n",
       "    .dataframe tbody tr th:only-of-type {\n",
       "        vertical-align: middle;\n",
       "    }\n",
       "\n",
       "    .dataframe tbody tr th {\n",
       "        vertical-align: top;\n",
       "    }\n",
       "\n",
       "    .dataframe thead th {\n",
       "        text-align: right;\n",
       "    }\n",
       "</style>\n",
       "<table border=\"1\" class=\"dataframe\">\n",
       "  <thead>\n",
       "    <tr style=\"text-align: right;\">\n",
       "      <th></th>\n",
       "      <th>Image Data ID</th>\n",
       "      <th>Subject</th>\n",
       "      <th>Group</th>\n",
       "      <th>Sex</th>\n",
       "      <th>Age</th>\n",
       "      <th>Visit</th>\n",
       "      <th>Modality</th>\n",
       "      <th>Description</th>\n",
       "      <th>Type</th>\n",
       "      <th>Acq Date</th>\n",
       "      <th>Format</th>\n",
       "      <th>Downloaded</th>\n",
       "    </tr>\n",
       "  </thead>\n",
       "  <tbody>\n",
       "    <tr>\n",
       "      <th>0</th>\n",
       "      <td>I994024</td>\n",
       "      <td>57037</td>\n",
       "      <td>PD</td>\n",
       "      <td>F</td>\n",
       "      <td>54</td>\n",
       "      <td>BL</td>\n",
       "      <td>MRI</td>\n",
       "      <td>T1-anatomical</td>\n",
       "      <td>Processed</td>\n",
       "      <td>2017-02-22</td>\n",
       "      <td>NiFTI</td>\n",
       "      <td>11/30/2023</td>\n",
       "    </tr>\n",
       "    <tr>\n",
       "      <th>1</th>\n",
       "      <td>I846226</td>\n",
       "      <td>57037</td>\n",
       "      <td>PD</td>\n",
       "      <td>F</td>\n",
       "      <td>54</td>\n",
       "      <td>SC</td>\n",
       "      <td>SPECT</td>\n",
       "      <td>Reconstructed DaTSCAN</td>\n",
       "      <td>Processed</td>\n",
       "      <td>2017-02-22</td>\n",
       "      <td>DCM</td>\n",
       "      <td>11/30/2023</td>\n",
       "    </tr>\n",
       "    <tr>\n",
       "      <th>2</th>\n",
       "      <td>I993964</td>\n",
       "      <td>55395</td>\n",
       "      <td>PD</td>\n",
       "      <td>F</td>\n",
       "      <td>67</td>\n",
       "      <td>BL</td>\n",
       "      <td>MRI</td>\n",
       "      <td>T1-anatomical</td>\n",
       "      <td>Processed</td>\n",
       "      <td>2017-01-05</td>\n",
       "      <td>NiFTI</td>\n",
       "      <td>11/30/2023</td>\n",
       "    </tr>\n",
       "    <tr>\n",
       "      <th>3</th>\n",
       "      <td>I1298216</td>\n",
       "      <td>55395</td>\n",
       "      <td>PD</td>\n",
       "      <td>F</td>\n",
       "      <td>69</td>\n",
       "      <td>V06</td>\n",
       "      <td>SPECT</td>\n",
       "      <td>Reconstructed DaTSCAN</td>\n",
       "      <td>Processed</td>\n",
       "      <td>2019-01-31</td>\n",
       "      <td>DCM</td>\n",
       "      <td>11/30/2023</td>\n",
       "    </tr>\n",
       "    <tr>\n",
       "      <th>4</th>\n",
       "      <td>I846221</td>\n",
       "      <td>55395</td>\n",
       "      <td>PD</td>\n",
       "      <td>F</td>\n",
       "      <td>67</td>\n",
       "      <td>SC</td>\n",
       "      <td>SPECT</td>\n",
       "      <td>Reconstructed DaTSCAN</td>\n",
       "      <td>Processed</td>\n",
       "      <td>2016-12-01</td>\n",
       "      <td>DCM</td>\n",
       "      <td>11/30/2023</td>\n",
       "    </tr>\n",
       "    <tr>\n",
       "      <th>...</th>\n",
       "      <td>...</td>\n",
       "      <td>...</td>\n",
       "      <td>...</td>\n",
       "      <td>...</td>\n",
       "      <td>...</td>\n",
       "      <td>...</td>\n",
       "      <td>...</td>\n",
       "      <td>...</td>\n",
       "      <td>...</td>\n",
       "      <td>...</td>\n",
       "      <td>...</td>\n",
       "      <td>...</td>\n",
       "    </tr>\n",
       "    <tr>\n",
       "      <th>1109</th>\n",
       "      <td>I406748</td>\n",
       "      <td>3102</td>\n",
       "      <td>PD</td>\n",
       "      <td>M</td>\n",
       "      <td>66</td>\n",
       "      <td>V06</td>\n",
       "      <td>MRI</td>\n",
       "      <td>T1-anatomical</td>\n",
       "      <td>Processed</td>\n",
       "      <td>2013-02-06</td>\n",
       "      <td>NiFTI</td>\n",
       "      <td>11/30/2023</td>\n",
       "    </tr>\n",
       "    <tr>\n",
       "      <th>1110</th>\n",
       "      <td>I418336</td>\n",
       "      <td>3102</td>\n",
       "      <td>PD</td>\n",
       "      <td>M</td>\n",
       "      <td>65</td>\n",
       "      <td>V04</td>\n",
       "      <td>SPECT</td>\n",
       "      <td>Reconstructed DaTSCAN</td>\n",
       "      <td>Processed</td>\n",
       "      <td>2012-05-23</td>\n",
       "      <td>DCM</td>\n",
       "      <td>11/30/2023</td>\n",
       "    </tr>\n",
       "    <tr>\n",
       "      <th>1111</th>\n",
       "      <td>I333354</td>\n",
       "      <td>3102</td>\n",
       "      <td>PD</td>\n",
       "      <td>M</td>\n",
       "      <td>64</td>\n",
       "      <td>BL</td>\n",
       "      <td>MRI</td>\n",
       "      <td>T1-anatomical</td>\n",
       "      <td>Processed</td>\n",
       "      <td>2010-11-23</td>\n",
       "      <td>NiFTI</td>\n",
       "      <td>11/30/2023</td>\n",
       "    </tr>\n",
       "    <tr>\n",
       "      <th>1112</th>\n",
       "      <td>I504836</td>\n",
       "      <td>3102</td>\n",
       "      <td>PD</td>\n",
       "      <td>M</td>\n",
       "      <td>68</td>\n",
       "      <td>V10</td>\n",
       "      <td>SPECT</td>\n",
       "      <td>Reconstructed DaTSCAN</td>\n",
       "      <td>Processed</td>\n",
       "      <td>2014-11-11</td>\n",
       "      <td>DCM</td>\n",
       "      <td>11/30/2023</td>\n",
       "    </tr>\n",
       "    <tr>\n",
       "      <th>1113</th>\n",
       "      <td>I418886</td>\n",
       "      <td>3102</td>\n",
       "      <td>PD</td>\n",
       "      <td>M</td>\n",
       "      <td>66</td>\n",
       "      <td>V06</td>\n",
       "      <td>SPECT</td>\n",
       "      <td>Reconstructed DaTSCAN</td>\n",
       "      <td>Processed</td>\n",
       "      <td>2013-02-07</td>\n",
       "      <td>DCM</td>\n",
       "      <td>11/30/2023</td>\n",
       "    </tr>\n",
       "  </tbody>\n",
       "</table>\n",
       "<p>1114 rows × 12 columns</p>\n",
       "</div>"
      ],
      "text/plain": [
       "     Image Data ID  Subject Group Sex  Age Visit Modality  \\\n",
       "0          I994024    57037    PD   F   54    BL      MRI   \n",
       "1          I846226    57037    PD   F   54    SC    SPECT   \n",
       "2          I993964    55395    PD   F   67    BL      MRI   \n",
       "3         I1298216    55395    PD   F   69   V06    SPECT   \n",
       "4          I846221    55395    PD   F   67    SC    SPECT   \n",
       "...            ...      ...   ...  ..  ...   ...      ...   \n",
       "1109       I406748     3102    PD   M   66   V06      MRI   \n",
       "1110       I418336     3102    PD   M   65   V04    SPECT   \n",
       "1111       I333354     3102    PD   M   64    BL      MRI   \n",
       "1112       I504836     3102    PD   M   68   V10    SPECT   \n",
       "1113       I418886     3102    PD   M   66   V06    SPECT   \n",
       "\n",
       "                Description       Type   Acq Date Format  Downloaded  \n",
       "0             T1-anatomical  Processed 2017-02-22  NiFTI  11/30/2023  \n",
       "1     Reconstructed DaTSCAN  Processed 2017-02-22    DCM  11/30/2023  \n",
       "2             T1-anatomical  Processed 2017-01-05  NiFTI  11/30/2023  \n",
       "3     Reconstructed DaTSCAN  Processed 2019-01-31    DCM  11/30/2023  \n",
       "4     Reconstructed DaTSCAN  Processed 2016-12-01    DCM  11/30/2023  \n",
       "...                     ...        ...        ...    ...         ...  \n",
       "1109          T1-anatomical  Processed 2013-02-06  NiFTI  11/30/2023  \n",
       "1110  Reconstructed DaTSCAN  Processed 2012-05-23    DCM  11/30/2023  \n",
       "1111          T1-anatomical  Processed 2010-11-23  NiFTI  11/30/2023  \n",
       "1112  Reconstructed DaTSCAN  Processed 2014-11-11    DCM  11/30/2023  \n",
       "1113  Reconstructed DaTSCAN  Processed 2013-02-07    DCM  11/30/2023  \n",
       "\n",
       "[1114 rows x 12 columns]"
      ]
     },
     "execution_count": 10,
     "metadata": {},
     "output_type": "execute_result"
    }
   ],
   "source": [
    "count_t1_types(pd_mri_spect_df)\n",
    "print(\"=============================================\")\n",
    "t1_anat_spect_subjects = count_t1_types_with_spect(pd_mri_spect_df)\n",
    "print(\"================== cases with T1 and spect =========================\")\n",
    "filtered_t1_spect_df = cases_t1_spect(pd_mri_spect_df, t1_anat_spect_subjects)\n",
    "print(\"amount of cases with T1 and spect: \", len(filtered_t1_spect_df))\n",
    "filtered_t1_spect_df"
   ]
  },
  {
   "cell_type": "code",
   "execution_count": 11,
   "metadata": {},
   "outputs": [
    {
     "name": "stdout",
     "output_type": "stream",
     "text": [
      "amount of subjects with T1 and spect:  187\n"
     ]
    }
   ],
   "source": [
    "filtered = sorted(filtered_t1_spect_df[\"Subject\"].unique())\n",
    "print(\"amount of subjects with T1 and spect: \", len(filtered))"
   ]
  },
  {
   "cell_type": "markdown",
   "metadata": {},
   "source": [
    "**Identitying more than one case per modality**"
   ]
  },
  {
   "cell_type": "code",
   "execution_count": 12,
   "metadata": {},
   "outputs": [
    {
     "name": "stdout",
     "output_type": "stream",
     "text": [
      "Subjects with more than one 't1-anatomical' values: [3102, 3105, 3107, 3108, 3111, 3113, 3116, 3118, 3119, 3120, 3123, 3124, 3125, 3126, 3128, 3130, 3131, 3132, 3134, 3150, 3154, 3166, 3168, 3173, 3174, 3175, 3176, 3178, 3179, 3181, 3182, 3184, 3185, 3190, 3305, 3307, 3308, 3309, 3314, 3321, 3323, 3325, 3327, 3328, 3352, 3354, 3359, 3360, 3364, 3365, 3366, 3367, 3371, 3372, 3373, 3374, 3375, 3377, 3378, 3380, 3383, 3385, 3386, 3387, 3392, 3552, 3556, 3557, 3558, 3559, 3564, 3567, 3574, 3575, 3577, 3584, 3585, 3586, 3587, 3588, 3591, 3592, 3593, 3752, 3757, 3758, 3760, 3762, 3763, 3770, 3771, 3775, 3776, 3777, 3778, 3780, 3781, 3787, 3788, 3789, 3800, 3802, 3808, 3814, 3815, 3818, 3819, 3822, 3823, 3824, 3825, 3826, 3828, 3829, 3830, 3831, 3832, 3834, 3835, 3838, 3863, 3866, 3868, 4001, 4005, 4011, 4012, 4013, 4019, 4020, 4021, 4022, 4024, 4025, 4026, 4027, 4029, 4030, 4034, 4035, 4037, 4038, 4136, 40366, 41486, 41488, 41664, 50901]\n",
      "amount of subjects with more than one t1-anatomical:  148\n",
      "Subjects with more than one 'Reconstructed DaTSCAN: [3102, 3105, 3107, 3108, 3111, 3113, 3116, 3118, 3119, 3120, 3122, 3123, 3124, 3125, 3126, 3127, 3128, 3130, 3131, 3132, 3134, 3150, 3154, 3166, 3168, 3173, 3174, 3175, 3176, 3178, 3179, 3181, 3182, 3184, 3185, 3190, 3305, 3307, 3308, 3309, 3321, 3323, 3325, 3327, 3328, 3352, 3354, 3359, 3360, 3364, 3365, 3366, 3367, 3371, 3372, 3373, 3374, 3375, 3377, 3378, 3380, 3383, 3385, 3386, 3387, 3392, 3552, 3556, 3557, 3558, 3559, 3564, 3567, 3574, 3575, 3577, 3584, 3585, 3586, 3587, 3588, 3589, 3591, 3592, 3593, 3752, 3753, 3757, 3758, 3760, 3762, 3763, 3770, 3771, 3775, 3776, 3777, 3778, 3780, 3781, 3787, 3788, 3789, 3802, 3808, 3815, 3818, 3819, 3822, 3823, 3824, 3825, 3826, 3828, 3829, 3830, 3831, 3832, 3834, 3835, 3838, 3863, 3866, 3868, 3869, 3870, 4001, 4005, 4011, 4012, 4013, 4019, 4020, 4021, 4022, 4024, 4025, 4026, 4027, 4029, 4030, 4033, 4034, 4035, 4037, 4038, 4065, 4135, 40366, 40781, 40893, 41184, 41293, 41486, 50028, 50319, 50901, 50983, 51632, 51731, 55395]\n",
      "amount of subjects with more than one Reconstructed DaTSCAN:  161\n"
     ]
    }
   ],
   "source": [
    "many_t1_cases, many_spect_cases = cases_with_more_than_one_t1_spect(filtered_t1_spect_df)"
   ]
  },
  {
   "cell_type": "markdown",
   "metadata": {},
   "source": [
    "**Due to there are many subjects with more than one spect record** it is need to stablish one of them as reference date for further T1-anatomical selection"
   ]
  },
  {
   "cell_type": "code",
   "execution_count": 13,
   "metadata": {},
   "outputs": [
    {
     "name": "stdout",
     "output_type": "stream",
     "text": [
      "amount of single spect records:  161\n"
     ]
    }
   ],
   "source": [
    "filtered_single_spect_records_df = filter_single_spect_records(filtered_t1_spect_df)\n",
    "filtered_single_spect = sorted(filtered_single_spect_records_df[\"Subject\"].unique())\n",
    "print(\"amount of single spect records: \", len(filtered_single_spect_records_df))"
   ]
  },
  {
   "cell_type": "markdown",
   "metadata": {},
   "source": [
    "**Getting subjects with single spect record originally**"
   ]
  },
  {
   "cell_type": "code",
   "execution_count": 14,
   "metadata": {},
   "outputs": [
    {
     "name": "stdout",
     "output_type": "stream",
     "text": [
      "[3129, 3167, 3311, 3314, 3322, 3332, 3376, 3764, 3800, 3814, 3827, 3833, 3837, 3867, 4006, 4069, 4136, 40800, 40806, 40882, 41289, 41488, 41664, 50485, 53060, 57037]\n",
      "amount of subjects with single T1 and spect (originally):  26\n"
     ]
    }
   ],
   "source": [
    "original_single_spect = list(set(filtered) - set(filtered_single_spect))\n",
    "print(sorted(original_single_spect))\n",
    "print(\"amount of subjects with single T1 and spect (originally): \", len(original_single_spect))"
   ]
  },
  {
   "cell_type": "code",
   "execution_count": 15,
   "metadata": {},
   "outputs": [
    {
     "name": "stdout",
     "output_type": "stream",
     "text": [
      "original_single_spect_index:  [1, 6, 22, 32, 35, 43, 51, 60, 61, 64, 68, 203, 231, 249, 265, 305, 368, 389, 467, 707, 803, 830, 836, 839, 953, 1002]\n"
     ]
    }
   ],
   "source": [
    "# getting the index of the spect to be saved (over subjects with just one spect)\n",
    "original_single_spect_df = pd.DataFrame()\n",
    "\n",
    "for subject in original_single_spect:\n",
    "    subject_df = filtered_t1_spect_df[filtered_t1_spect_df[\"Subject\"]==subject]    \n",
    "    dat_scan_df = subject_df[subject_df[\"Description\"]==\"Reconstructed DaTSCAN\"]\n",
    "    original_single_spect_df = pd.concat([original_single_spect_df, dat_scan_df])\n",
    "    \n",
    "\n",
    "original_single_spect_index = sorted(original_single_spect_df.index)  \n",
    "print(\"original_single_spect_index: \", original_single_spect_index)"
   ]
  },
  {
   "cell_type": "code",
   "execution_count": 16,
   "metadata": {},
   "outputs": [
    {
     "data": {
      "text/plain": [
       "Image Data ID                  I389261\n",
       "Subject                           3827\n",
       "Group                               PD\n",
       "Sex                                  F\n",
       "Age                                 75\n",
       "Visit                               SC\n",
       "Modality                         SPECT\n",
       "Description      Reconstructed DaTSCAN\n",
       "Type                         Processed\n",
       "Acq Date           2012-08-07 00:00:00\n",
       "Format                             DCM\n",
       "Downloaded                  11/30/2023\n",
       "Name: 305, dtype: object"
      ]
     },
     "execution_count": 16,
     "metadata": {},
     "output_type": "execute_result"
    }
   ],
   "source": [
    "original_single_spect_df.iloc[22]"
   ]
  },
  {
   "cell_type": "code",
   "execution_count": 17,
   "metadata": {},
   "outputs": [
    {
     "data": {
      "text/html": [
       "<div>\n",
       "<style scoped>\n",
       "    .dataframe tbody tr th:only-of-type {\n",
       "        vertical-align: middle;\n",
       "    }\n",
       "\n",
       "    .dataframe tbody tr th {\n",
       "        vertical-align: top;\n",
       "    }\n",
       "\n",
       "    .dataframe thead th {\n",
       "        text-align: right;\n",
       "    }\n",
       "</style>\n",
       "<table border=\"1\" class=\"dataframe\">\n",
       "  <thead>\n",
       "    <tr style=\"text-align: right;\">\n",
       "      <th></th>\n",
       "      <th>Image Data ID</th>\n",
       "      <th>Subject</th>\n",
       "      <th>Group</th>\n",
       "      <th>Sex</th>\n",
       "      <th>Age</th>\n",
       "      <th>Visit</th>\n",
       "      <th>Modality</th>\n",
       "      <th>Description</th>\n",
       "      <th>Type</th>\n",
       "      <th>Acq Date</th>\n",
       "      <th>Format</th>\n",
       "      <th>Downloaded</th>\n",
       "    </tr>\n",
       "  </thead>\n",
       "  <tbody>\n",
       "    <tr>\n",
       "      <th>305</th>\n",
       "      <td>I389261</td>\n",
       "      <td>3827</td>\n",
       "      <td>PD</td>\n",
       "      <td>F</td>\n",
       "      <td>75</td>\n",
       "      <td>SC</td>\n",
       "      <td>SPECT</td>\n",
       "      <td>Reconstructed DaTSCAN</td>\n",
       "      <td>Processed</td>\n",
       "      <td>2012-08-07</td>\n",
       "      <td>DCM</td>\n",
       "      <td>11/30/2023</td>\n",
       "    </tr>\n",
       "    <tr>\n",
       "      <th>306</th>\n",
       "      <td>I371044</td>\n",
       "      <td>3827</td>\n",
       "      <td>PD</td>\n",
       "      <td>F</td>\n",
       "      <td>75</td>\n",
       "      <td>BL</td>\n",
       "      <td>MRI</td>\n",
       "      <td>T1-anatomical</td>\n",
       "      <td>Processed</td>\n",
       "      <td>2012-08-07</td>\n",
       "      <td>NiFTI</td>\n",
       "      <td>11/30/2023</td>\n",
       "    </tr>\n",
       "  </tbody>\n",
       "</table>\n",
       "</div>"
      ],
      "text/plain": [
       "    Image Data ID  Subject Group Sex  Age Visit Modality  \\\n",
       "305       I389261     3827    PD   F   75    SC    SPECT   \n",
       "306       I371044     3827    PD   F   75    BL      MRI   \n",
       "\n",
       "               Description       Type   Acq Date Format  Downloaded  \n",
       "305  Reconstructed DaTSCAN  Processed 2012-08-07    DCM  11/30/2023  \n",
       "306          T1-anatomical  Processed 2012-08-07  NiFTI  11/30/2023  "
      ]
     },
     "execution_count": 17,
     "metadata": {},
     "output_type": "execute_result"
    }
   ],
   "source": [
    "filtered_t1_spect_df[filtered_t1_spect_df[\"Subject\"]==3827]"
   ]
  },
  {
   "cell_type": "markdown",
   "metadata": {},
   "source": [
    "**Now that we have fixed the DaTSCAN as reference** now we can get the single T1 records closer to DaTSCAN date (including original single spect and filtered versions)"
   ]
  },
  {
   "cell_type": "code",
   "execution_count": 18,
   "metadata": {},
   "outputs": [
    {
     "data": {
      "text/plain": [
       "Subject  Image Data ID  Group  Sex  Age  Visit  Modality  Description            Type       Acq Date    Format  Downloaded\n",
       "3102     I504836        PD     M    68   V10    SPECT     Reconstructed DaTSCAN  Processed  2014-11-11  DCM     11/30/2023    1\n",
       "3105     I504837        PD     M    73   V10    SPECT     Reconstructed DaTSCAN  Processed  2015-03-31  DCM     11/30/2023    1\n",
       "3107     I770243        PD     M    75   U02    SPECT     Reconstructed DaTSCAN  Processed  2016-04-05  DCM     11/30/2023    1\n",
       "3108     I688484        PD     F    54   V10    SPECT     Reconstructed DaTSCAN  Processed  2015-05-07  DCM     11/30/2023    1\n",
       "3111     I419852        PD     M    67   V06    SPECT     Reconstructed DaTSCAN  Processed  2013-05-21  DCM     11/30/2023    1\n",
       "                                                                                                                             ..\n",
       "51632    I1144611       PD     F    65   V06    SPECT     Reconstructed DaTSCAN  Processed  2017-11-29  DCM     11/30/2023    1\n",
       "51731    I1333191       PD     F    75   V10    SPECT     Reconstructed DaTSCAN  Processed  2019-10-09  DCM     11/30/2023    1\n",
       "53060    I1474417       PD     M    73   V10    SPECT     Reconstructed DaTSCAN  Processed  2021-04-21  DCM     11/30/2023    1\n",
       "55395    I1298216       PD     F    69   V06    SPECT     Reconstructed DaTSCAN  Processed  2019-01-31  DCM     11/30/2023    1\n",
       "57037    I846226        PD     F    54   SC     SPECT     Reconstructed DaTSCAN  Processed  2017-02-22  DCM     11/30/2023    1\n",
       "Name: count, Length: 187, dtype: int64"
      ]
     },
     "execution_count": 18,
     "metadata": {},
     "output_type": "execute_result"
    }
   ],
   "source": [
    "#merging original spect records with the filtered version\n",
    "final_spect_df = pd.concat([filtered_single_spect_records_df, original_single_spect_df])\n",
    "final_spect_df.groupby('Subject').value_counts()   "
   ]
  },
  {
   "cell_type": "code",
   "execution_count": 19,
   "metadata": {},
   "outputs": [],
   "source": [
    "def single_t1_records_wrt_spect(filtered_t1_spect_df, single_spect_records_df):\n",
    "    # Identify subjects with more than two 't1-anatomical' values\n",
    "    t1_counts = filtered_t1_spect_df[filtered_t1_spect_df['Description'] == 'T1-anatomical'].groupby('Subject').size()\n",
    "    subjects_with_more_than_one_t1 = t1_counts[t1_counts > 1].index.tolist()\n",
    "\n",
    "    # Filter and keep only the 't1-anatomical' records closer to the DaTSCAN date\n",
    "    result_df = pd.DataFrame()\n",
    "\n",
    "    for subject in subjects_with_more_than_one_t1:\n",
    "        subject_df = filtered_t1_spect_df[filtered_t1_spect_df['Subject'] == subject]\n",
    "        \n",
    "        t1_anatomical_df = subject_df[subject_df['Description'] == 'T1-anatomical']\n",
    "        if subject in single_spect_records_df['Subject'].unique():\n",
    "            dat_scan_df = single_spect_records_df[single_spect_records_df['Subject'] == subject]\n",
    "        else:\n",
    "            dat_scan_df = subject_df[subject_df['Description'] == 'Reconstructed DaTSCAN']\n",
    "        \n",
    "        if not t1_anatomical_df.empty and not dat_scan_df.empty:\n",
    "            #getting the closest t1-anatomical to the dat_scan date\n",
    "            closest_t1_anatomical = t1_anatomical_df.loc[(t1_anatomical_df['Acq Date'] - dat_scan_df['Acq Date'].iloc[0]).abs().idxmin()]\n",
    "            closest_t1_anatomical_df = closest_t1_anatomical.to_frame().T\n",
    "            closest_t1_anatomical_df.columns = filtered_t1_spect_df.columns\n",
    "            result_df = pd.concat([result_df, closest_t1_anatomical_df])\n",
    "    \n",
    "    return result_df   "
   ]
  },
  {
   "cell_type": "code",
   "execution_count": 20,
   "metadata": {},
   "outputs": [
    {
     "data": {
      "text/html": [
       "<div>\n",
       "<style scoped>\n",
       "    .dataframe tbody tr th:only-of-type {\n",
       "        vertical-align: middle;\n",
       "    }\n",
       "\n",
       "    .dataframe tbody tr th {\n",
       "        vertical-align: top;\n",
       "    }\n",
       "\n",
       "    .dataframe thead th {\n",
       "        text-align: right;\n",
       "    }\n",
       "</style>\n",
       "<table border=\"1\" class=\"dataframe\">\n",
       "  <thead>\n",
       "    <tr style=\"text-align: right;\">\n",
       "      <th></th>\n",
       "      <th>Image Data ID</th>\n",
       "      <th>Subject</th>\n",
       "      <th>Group</th>\n",
       "      <th>Sex</th>\n",
       "      <th>Age</th>\n",
       "      <th>Visit</th>\n",
       "      <th>Modality</th>\n",
       "      <th>Description</th>\n",
       "      <th>Type</th>\n",
       "      <th>Acq Date</th>\n",
       "      <th>Format</th>\n",
       "      <th>Downloaded</th>\n",
       "    </tr>\n",
       "  </thead>\n",
       "  <tbody>\n",
       "    <tr>\n",
       "      <th>1109</th>\n",
       "      <td>I406748</td>\n",
       "      <td>3102</td>\n",
       "      <td>PD</td>\n",
       "      <td>M</td>\n",
       "      <td>66</td>\n",
       "      <td>V06</td>\n",
       "      <td>MRI</td>\n",
       "      <td>T1-anatomical</td>\n",
       "      <td>Processed</td>\n",
       "      <td>2013-02-06</td>\n",
       "      <td>NiFTI</td>\n",
       "      <td>11/30/2023</td>\n",
       "    </tr>\n",
       "    <tr>\n",
       "      <th>1104</th>\n",
       "      <td>I406752</td>\n",
       "      <td>3105</td>\n",
       "      <td>PD</td>\n",
       "      <td>M</td>\n",
       "      <td>71</td>\n",
       "      <td>V06</td>\n",
       "      <td>MRI</td>\n",
       "      <td>T1-anatomical</td>\n",
       "      <td>Processed</td>\n",
       "      <td>2013-04-18</td>\n",
       "      <td>NiFTI</td>\n",
       "      <td>11/30/2023</td>\n",
       "    </tr>\n",
       "    <tr>\n",
       "      <th>1097</th>\n",
       "      <td>I693531</td>\n",
       "      <td>3107</td>\n",
       "      <td>PD</td>\n",
       "      <td>M</td>\n",
       "      <td>74</td>\n",
       "      <td>V10</td>\n",
       "      <td>MRI</td>\n",
       "      <td>T1-anatomical</td>\n",
       "      <td>Processed</td>\n",
       "      <td>2015-05-08</td>\n",
       "      <td>NiFTI</td>\n",
       "      <td>11/30/2023</td>\n",
       "    </tr>\n",
       "    <tr>\n",
       "      <th>1091</th>\n",
       "      <td>I407111</td>\n",
       "      <td>3108</td>\n",
       "      <td>PD</td>\n",
       "      <td>F</td>\n",
       "      <td>52</td>\n",
       "      <td>V06</td>\n",
       "      <td>MRI</td>\n",
       "      <td>T1-anatomical</td>\n",
       "      <td>Processed</td>\n",
       "      <td>2013-04-24</td>\n",
       "      <td>NiFTI</td>\n",
       "      <td>11/30/2023</td>\n",
       "    </tr>\n",
       "    <tr>\n",
       "      <th>1083</th>\n",
       "      <td>I333364</td>\n",
       "      <td>3111</td>\n",
       "      <td>PD</td>\n",
       "      <td>M</td>\n",
       "      <td>66</td>\n",
       "      <td>V04</td>\n",
       "      <td>MRI</td>\n",
       "      <td>T1-anatomical</td>\n",
       "      <td>Processed</td>\n",
       "      <td>2012-05-23</td>\n",
       "      <td>NiFTI</td>\n",
       "      <td>11/30/2023</td>\n",
       "    </tr>\n",
       "  </tbody>\n",
       "</table>\n",
       "</div>"
      ],
      "text/plain": [
       "     Image Data ID Subject Group Sex Age Visit Modality    Description  \\\n",
       "1109       I406748    3102    PD   M  66   V06      MRI  T1-anatomical   \n",
       "1104       I406752    3105    PD   M  71   V06      MRI  T1-anatomical   \n",
       "1097       I693531    3107    PD   M  74   V10      MRI  T1-anatomical   \n",
       "1091       I407111    3108    PD   F  52   V06      MRI  T1-anatomical   \n",
       "1083       I333364    3111    PD   M  66   V04      MRI  T1-anatomical   \n",
       "\n",
       "           Type   Acq Date Format  Downloaded  \n",
       "1109  Processed 2013-02-06  NiFTI  11/30/2023  \n",
       "1104  Processed 2013-04-18  NiFTI  11/30/2023  \n",
       "1097  Processed 2015-05-08  NiFTI  11/30/2023  \n",
       "1091  Processed 2013-04-24  NiFTI  11/30/2023  \n",
       "1083  Processed 2012-05-23  NiFTI  11/30/2023  "
      ]
     },
     "execution_count": 20,
     "metadata": {},
     "output_type": "execute_result"
    }
   ],
   "source": [
    "filtered_single_t1_df = single_t1_records_wrt_spect(filtered_t1_spect_df, final_spect_df)\n",
    "filtered_single_t1_df.head()"
   ]
  },
  {
   "cell_type": "markdown",
   "metadata": {},
   "source": [
    "**Getting subjects with single T1 record originally**"
   ]
  },
  {
   "cell_type": "code",
   "execution_count": 21,
   "metadata": {},
   "outputs": [
    {
     "data": {
      "text/html": [
       "<div>\n",
       "<style scoped>\n",
       "    .dataframe tbody tr th:only-of-type {\n",
       "        vertical-align: middle;\n",
       "    }\n",
       "\n",
       "    .dataframe tbody tr th {\n",
       "        vertical-align: top;\n",
       "    }\n",
       "\n",
       "    .dataframe thead th {\n",
       "        text-align: right;\n",
       "    }\n",
       "</style>\n",
       "<table border=\"1\" class=\"dataframe\">\n",
       "  <thead>\n",
       "    <tr style=\"text-align: right;\">\n",
       "      <th></th>\n",
       "      <th>Image Data ID</th>\n",
       "      <th>Subject</th>\n",
       "      <th>Group</th>\n",
       "      <th>Sex</th>\n",
       "      <th>Age</th>\n",
       "      <th>Visit</th>\n",
       "      <th>Modality</th>\n",
       "      <th>Description</th>\n",
       "      <th>Type</th>\n",
       "      <th>Acq Date</th>\n",
       "      <th>Format</th>\n",
       "      <th>Downloaded</th>\n",
       "    </tr>\n",
       "  </thead>\n",
       "  <tbody>\n",
       "    <tr>\n",
       "      <th>1044</th>\n",
       "      <td>I486666</td>\n",
       "      <td>3122</td>\n",
       "      <td>PD</td>\n",
       "      <td>M</td>\n",
       "      <td>63</td>\n",
       "      <td>V04</td>\n",
       "      <td>MRI</td>\n",
       "      <td>T1-anatomical</td>\n",
       "      <td>Processed</td>\n",
       "      <td>2013-05-22</td>\n",
       "      <td>NiFTI</td>\n",
       "      <td>11/30/2023</td>\n",
       "    </tr>\n",
       "    <tr>\n",
       "      <th>1013</th>\n",
       "      <td>I405975</td>\n",
       "      <td>3127</td>\n",
       "      <td>PD</td>\n",
       "      <td>F</td>\n",
       "      <td>49</td>\n",
       "      <td>BL</td>\n",
       "      <td>MRI</td>\n",
       "      <td>T1-anatomical</td>\n",
       "      <td>Processed</td>\n",
       "      <td>2012-09-13</td>\n",
       "      <td>NiFTI</td>\n",
       "      <td>11/30/2023</td>\n",
       "    </tr>\n",
       "    <tr>\n",
       "      <th>1001</th>\n",
       "      <td>I407257</td>\n",
       "      <td>3129</td>\n",
       "      <td>PD</td>\n",
       "      <td>M</td>\n",
       "      <td>56</td>\n",
       "      <td>BL</td>\n",
       "      <td>MRI</td>\n",
       "      <td>T1-anatomical</td>\n",
       "      <td>Processed</td>\n",
       "      <td>2013-02-05</td>\n",
       "      <td>NiFTI</td>\n",
       "      <td>11/30/2023</td>\n",
       "    </tr>\n",
       "    <tr>\n",
       "      <th>954</th>\n",
       "      <td>I330868</td>\n",
       "      <td>3167</td>\n",
       "      <td>PD</td>\n",
       "      <td>F</td>\n",
       "      <td>59</td>\n",
       "      <td>BL</td>\n",
       "      <td>MRI</td>\n",
       "      <td>T1-anatomical</td>\n",
       "      <td>Processed</td>\n",
       "      <td>2011-08-12</td>\n",
       "      <td>NiFTI</td>\n",
       "      <td>11/30/2023</td>\n",
       "    </tr>\n",
       "    <tr>\n",
       "      <th>840</th>\n",
       "      <td>I331048</td>\n",
       "      <td>3311</td>\n",
       "      <td>PD</td>\n",
       "      <td>M</td>\n",
       "      <td>75</td>\n",
       "      <td>BL</td>\n",
       "      <td>MRI</td>\n",
       "      <td>T1-anatomical</td>\n",
       "      <td>Processed</td>\n",
       "      <td>2012-01-31</td>\n",
       "      <td>NiFTI</td>\n",
       "      <td>11/30/2023</td>\n",
       "    </tr>\n",
       "  </tbody>\n",
       "</table>\n",
       "</div>"
      ],
      "text/plain": [
       "     Image Data ID  Subject Group Sex  Age Visit Modality    Description  \\\n",
       "1044       I486666     3122    PD   M   63   V04      MRI  T1-anatomical   \n",
       "1013       I405975     3127    PD   F   49    BL      MRI  T1-anatomical   \n",
       "1001       I407257     3129    PD   M   56    BL      MRI  T1-anatomical   \n",
       "954        I330868     3167    PD   F   59    BL      MRI  T1-anatomical   \n",
       "840        I331048     3311    PD   M   75    BL      MRI  T1-anatomical   \n",
       "\n",
       "           Type   Acq Date Format  Downloaded  \n",
       "1044  Processed 2013-05-22  NiFTI  11/30/2023  \n",
       "1013  Processed 2012-09-13  NiFTI  11/30/2023  \n",
       "1001  Processed 2013-02-05  NiFTI  11/30/2023  \n",
       "954   Processed 2011-08-12  NiFTI  11/30/2023  \n",
       "840   Processed 2012-01-31  NiFTI  11/30/2023  "
      ]
     },
     "execution_count": 21,
     "metadata": {},
     "output_type": "execute_result"
    }
   ],
   "source": [
    "# Identify subjects with more than two 't1-anatomical' values\n",
    "t1_counts = filtered_t1_spect_df[filtered_t1_spect_df['Description'] == 'T1-anatomical'].groupby('Subject').size()\n",
    "subjects_with_just_one_t1 = t1_counts[t1_counts == 1].index.tolist()\n",
    "\n",
    "# Filter and keep only the 't1-anatomical' records closer to the DaTSCAN date\n",
    "original_single_t1_df = pd.DataFrame()\n",
    "\n",
    "for subject in subjects_with_just_one_t1:\n",
    "    subject_df = filtered_t1_spect_df[filtered_t1_spect_df['Subject'] == subject]\n",
    "    \n",
    "    t1_anatomical_df = subject_df[subject_df['Description'] == 'T1-anatomical']    \n",
    "    original_single_t1_df = pd.concat([original_single_t1_df, t1_anatomical_df])\n",
    "    \n",
    "original_single_t1_df.head()   "
   ]
  },
  {
   "cell_type": "markdown",
   "metadata": {},
   "source": [
    "**Bulding the final PD dataframe with one record to T1 and Spect**"
   ]
  },
  {
   "cell_type": "code",
   "execution_count": 22,
   "metadata": {},
   "outputs": [
    {
     "data": {
      "text/plain": [
       "Subject  Image Data ID  Group  Sex  Age  Visit  Modality  Description            Type       Acq Date    Format  Downloaded\n",
       "3102     I406748        PD     M    66   V06    MRI       T1-anatomical          Processed  2013-02-06  NiFTI   11/30/2023    1\n",
       "         I504836        PD     M    68   V10    SPECT     Reconstructed DaTSCAN  Processed  2014-11-11  DCM     11/30/2023    1\n",
       "3105     I504837        PD     M    73   V10    SPECT     Reconstructed DaTSCAN  Processed  2015-03-31  DCM     11/30/2023    1\n",
       "         I406752        PD     M    71   V06    MRI       T1-anatomical          Processed  2013-04-18  NiFTI   11/30/2023    1\n",
       "3107     I770243        PD     M    75   U02    SPECT     Reconstructed DaTSCAN  Processed  2016-04-05  DCM     11/30/2023    1\n",
       "                                                                                                                             ..\n",
       "53060    I1474417       PD     M    73   V10    SPECT     Reconstructed DaTSCAN  Processed  2021-04-21  DCM     11/30/2023    1\n",
       "55395    I993964        PD     F    67   BL     MRI       T1-anatomical          Processed  2017-01-05  NiFTI   11/30/2023    1\n",
       "         I1298216       PD     F    69   V06    SPECT     Reconstructed DaTSCAN  Processed  2019-01-31  DCM     11/30/2023    1\n",
       "57037    I846226        PD     F    54   SC     SPECT     Reconstructed DaTSCAN  Processed  2017-02-22  DCM     11/30/2023    1\n",
       "         I994024        PD     F    54   BL     MRI       T1-anatomical          Processed  2017-02-22  NiFTI   11/30/2023    1\n",
       "Name: count, Length: 374, dtype: int64"
      ]
     },
     "execution_count": 22,
     "metadata": {},
     "output_type": "execute_result"
    }
   ],
   "source": [
    "#indexes that we really need: \n",
    "# single spect record: original_single_spect_index\n",
    "# single t1 record: original_single_t1_index\n",
    "# filtered spect records (cases originally >2 records): filtered_single_spect_records_df\n",
    "# from above get the t1 single record (cases originally >2 records): filtered_single_t1_df\n",
    "\n",
    "final_pd_mri_spect_df = pd.concat([original_single_spect_df, filtered_single_spect_records_df,\n",
    "                         original_single_t1_df, filtered_single_t1_df])\n",
    "\n",
    "final_pd_mri_spect_df.groupby('Subject').value_counts()"
   ]
  },
  {
   "cell_type": "code",
   "execution_count": 27,
   "metadata": {},
   "outputs": [
    {
     "data": {
      "text/html": [
       "<div>\n",
       "<style scoped>\n",
       "    .dataframe tbody tr th:only-of-type {\n",
       "        vertical-align: middle;\n",
       "    }\n",
       "\n",
       "    .dataframe tbody tr th {\n",
       "        vertical-align: top;\n",
       "    }\n",
       "\n",
       "    .dataframe thead th {\n",
       "        text-align: right;\n",
       "    }\n",
       "</style>\n",
       "<table border=\"1\" class=\"dataframe\">\n",
       "  <thead>\n",
       "    <tr style=\"text-align: right;\">\n",
       "      <th></th>\n",
       "      <th>Image Data ID</th>\n",
       "      <th>Subject</th>\n",
       "      <th>Group</th>\n",
       "      <th>Sex</th>\n",
       "      <th>Age</th>\n",
       "      <th>Visit</th>\n",
       "      <th>Modality</th>\n",
       "      <th>Description</th>\n",
       "      <th>Type</th>\n",
       "      <th>Acq Date</th>\n",
       "      <th>Format</th>\n",
       "      <th>Downloaded</th>\n",
       "    </tr>\n",
       "  </thead>\n",
       "  <tbody>\n",
       "    <tr>\n",
       "      <th>1089</th>\n",
       "      <td>I688484</td>\n",
       "      <td>3108</td>\n",
       "      <td>PD</td>\n",
       "      <td>F</td>\n",
       "      <td>54</td>\n",
       "      <td>V10</td>\n",
       "      <td>SPECT</td>\n",
       "      <td>Reconstructed DaTSCAN</td>\n",
       "      <td>Processed</td>\n",
       "      <td>2015-05-07</td>\n",
       "      <td>DCM</td>\n",
       "      <td>11/30/2023</td>\n",
       "    </tr>\n",
       "    <tr>\n",
       "      <th>1091</th>\n",
       "      <td>I407111</td>\n",
       "      <td>3108</td>\n",
       "      <td>PD</td>\n",
       "      <td>F</td>\n",
       "      <td>52</td>\n",
       "      <td>V06</td>\n",
       "      <td>MRI</td>\n",
       "      <td>T1-anatomical</td>\n",
       "      <td>Processed</td>\n",
       "      <td>2013-04-24</td>\n",
       "      <td>NiFTI</td>\n",
       "      <td>11/30/2023</td>\n",
       "    </tr>\n",
       "  </tbody>\n",
       "</table>\n",
       "</div>"
      ],
      "text/plain": [
       "     Image Data ID Subject Group Sex Age Visit Modality  \\\n",
       "1089       I688484    3108    PD   F  54   V10    SPECT   \n",
       "1091       I407111    3108    PD   F  52   V06      MRI   \n",
       "\n",
       "                Description       Type   Acq Date Format  Downloaded  \n",
       "1089  Reconstructed DaTSCAN  Processed 2015-05-07    DCM  11/30/2023  \n",
       "1091          T1-anatomical  Processed 2013-04-24  NiFTI  11/30/2023  "
      ]
     },
     "execution_count": 27,
     "metadata": {},
     "output_type": "execute_result"
    }
   ],
   "source": [
    "final_pd_mri_spect_df[final_pd_mri_spect_df[\"Subject\"]==3108]"
   ]
  },
  {
   "cell_type": "markdown",
   "metadata": {},
   "source": [
    "**Knowing the data adquisition date**"
   ]
  },
  {
   "cell_type": "code",
   "execution_count": 49,
   "metadata": {},
   "outputs": [],
   "source": [
    "subject_ids_list = [3108,\n",
    "3127,\n",
    "3178,\n",
    "3311,\n",
    "3327,\n",
    "3366,\n",
    "3380,\n",
    "3753,\n",
    "3764,\n",
    "3815,\n",
    "4030,\n",
    "4034,\n",
    "4069,\n",
    "50028,\n",
    "51731]"
   ]
  },
  {
   "cell_type": "code",
   "execution_count": 50,
   "metadata": {},
   "outputs": [],
   "source": [
    "# Filter the DataFrame based on the description value of \"Reconstructed DaTSCAN\"\n",
    "filtered_df = final_pd_mri_spect_df[final_pd_mri_spect_df['Description'] == 'Reconstructed DaTSCAN']\n",
    "\n",
    "# Filter the filtered DataFrame based on the subject IDs list\n",
    "result = filtered_df[filtered_df['Subject'].isin(subject_ids_list)]\n",
    "\n",
    "# Retrieve the subject_id and acq date from the filtered DataFrame\n",
    "result = result[['Subject', 'Acq Date']]\n",
    "# Sort the result based on the subject_id\n",
    "result_sorted = result.sort_values(by='Subject')\n",
    "# Save the sorted result as a text file\n",
    "result_sorted.to_csv('/home/Data/Datasets/Parkinson/radiological/PPMI/spect-mri/temporal.txt', sep='\\t', index=False)"
   ]
  },
  {
   "cell_type": "code",
   "execution_count": 46,
   "metadata": {},
   "outputs": [
    {
     "data": {
      "text/html": [
       "<div>\n",
       "<style scoped>\n",
       "    .dataframe tbody tr th:only-of-type {\n",
       "        vertical-align: middle;\n",
       "    }\n",
       "\n",
       "    .dataframe tbody tr th {\n",
       "        vertical-align: top;\n",
       "    }\n",
       "\n",
       "    .dataframe thead th {\n",
       "        text-align: right;\n",
       "    }\n",
       "</style>\n",
       "<table border=\"1\" class=\"dataframe\">\n",
       "  <thead>\n",
       "    <tr style=\"text-align: right;\">\n",
       "      <th></th>\n",
       "      <th>Subject</th>\n",
       "      <th>Acq Date</th>\n",
       "    </tr>\n",
       "  </thead>\n",
       "  <tbody>\n",
       "    <tr>\n",
       "      <th>1112</th>\n",
       "      <td>3102</td>\n",
       "      <td>2014-11-11</td>\n",
       "    </tr>\n",
       "    <tr>\n",
       "      <th>1103</th>\n",
       "      <td>3105</td>\n",
       "      <td>2015-03-31</td>\n",
       "    </tr>\n",
       "    <tr>\n",
       "      <th>1092</th>\n",
       "      <td>3107</td>\n",
       "      <td>2016-04-05</td>\n",
       "    </tr>\n",
       "    <tr>\n",
       "      <th>1080</th>\n",
       "      <td>3111</td>\n",
       "      <td>2013-05-21</td>\n",
       "    </tr>\n",
       "    <tr>\n",
       "      <th>1075</th>\n",
       "      <td>3113</td>\n",
       "      <td>2013-07-12</td>\n",
       "    </tr>\n",
       "    <tr>\n",
       "      <th>...</th>\n",
       "      <td>...</td>\n",
       "      <td>...</td>\n",
       "    </tr>\n",
       "    <tr>\n",
       "      <th>15</th>\n",
       "      <td>50983</td>\n",
       "      <td>2017-04-19</td>\n",
       "    </tr>\n",
       "    <tr>\n",
       "      <th>11</th>\n",
       "      <td>51632</td>\n",
       "      <td>2017-11-29</td>\n",
       "    </tr>\n",
       "    <tr>\n",
       "      <th>6</th>\n",
       "      <td>53060</td>\n",
       "      <td>2021-04-21</td>\n",
       "    </tr>\n",
       "    <tr>\n",
       "      <th>3</th>\n",
       "      <td>55395</td>\n",
       "      <td>2019-01-31</td>\n",
       "    </tr>\n",
       "    <tr>\n",
       "      <th>1</th>\n",
       "      <td>57037</td>\n",
       "      <td>2017-02-22</td>\n",
       "    </tr>\n",
       "  </tbody>\n",
       "</table>\n",
       "<p>171 rows × 2 columns</p>\n",
       "</div>"
      ],
      "text/plain": [
       "     Subject   Acq Date\n",
       "1112    3102 2014-11-11\n",
       "1103    3105 2015-03-31\n",
       "1092    3107 2016-04-05\n",
       "1080    3111 2013-05-21\n",
       "1075    3113 2013-07-12\n",
       "...      ...        ...\n",
       "15     50983 2017-04-19\n",
       "11     51632 2017-11-29\n",
       "6      53060 2021-04-21\n",
       "3      55395 2019-01-31\n",
       "1      57037 2017-02-22\n",
       "\n",
       "[171 rows x 2 columns]"
      ]
     },
     "execution_count": 46,
     "metadata": {},
     "output_type": "execute_result"
    }
   ],
   "source": [
    "result_sorted"
   ]
  },
  {
   "cell_type": "markdown",
   "metadata": {},
   "source": [
    "**Know the difference time between T1 and SPECT acquisition**"
   ]
  },
  {
   "cell_type": "code",
   "execution_count": 24,
   "metadata": {},
   "outputs": [
    {
     "name": "stdout",
     "output_type": "stream",
     "text": [
      "Average days difference between subjects: -254.71657754010695\n"
     ]
    }
   ],
   "source": [
    "# Sort DataFrame by 'Subject_ID' and 'Date'\n",
    "df = final_pd_mri_spect_df.sort_values(by=['Subject', 'Acq Date'])\n",
    "\n",
    "# Group DataFrame by 'Subject_ID'\n",
    "grouped = final_pd_mri_spect_df.groupby('Subject')\n",
    "\n",
    "# Calculate date difference within each group\n",
    "df['Date_Difference'] = grouped['Acq Date'].diff().dt.days\n",
    "\n",
    "# Calculate average days difference\n",
    "average_days_difference = df['Date_Difference'].mean()\n",
    "\n",
    "print(\"Average days difference between subjects:\", average_days_difference)"
   ]
  },
  {
   "cell_type": "markdown",
   "metadata": {},
   "source": [
    "# Identifying the PD that were not used in the EMBC approach"
   ]
  },
  {
   "cell_type": "code",
   "execution_count": null,
   "metadata": {},
   "outputs": [],
   "source": [
    "pd_embc_subjects = []\n",
    "filtered_path = \"../../../../../../Datasets/Parkinson/radiological/PPMI/spect-mri/filtered\"\n",
    "splits = [\"test\", \"train\"]\n",
    "\n",
    "for split in splits:\n",
    "    split_path = os.path.join(filtered_path, split)\n",
    "    spect_pd_path = os.path.join(split_path, \"parkinson\", \"spect\")\n",
    "    cases = os.listdir(spect_pd_path)\n",
    "    pd_embc_subjects.extend(cases)\n",
    "    \n",
    "pd_embc_subjects = np.asarray(pd_embc_subjects)\n",
    "pd_embc_subjects = pd_embc_subjects.astype(int)\n",
    "print(\"total pd embc subjects: \", len(pd_embc_subjects))\n",
    "total_pd_mri_spect = final_pd_mri_spect_df[\"Subject\"].unique()\n",
    "print(\"total pd with mri and spect: \", len(total_pd_mri_spect))"
   ]
  },
  {
   "cell_type": "code",
   "execution_count": null,
   "metadata": {},
   "outputs": [],
   "source": [
    "print(\"subjects to be taken into account:\")\n",
    "pd_to_take = list(set(total_pd_mri_spect) - set(pd_embc_subjects))\n",
    "print(pd_to_take)\n",
    "print(len(pd_to_take))"
   ]
  },
  {
   "cell_type": "markdown",
   "metadata": {},
   "source": [
    "# Data moving"
   ]
  },
  {
   "cell_type": "code",
   "execution_count": null,
   "metadata": {},
   "outputs": [],
   "source": [
    "# in summary we have for control and pd subjects: final_ctrl_mri_spect_df and final_pd_mri_spect_df\n",
    "original_path = \"../../../../../../Datasets/Parkinson/radiological/PPMI/spect-mri/original\"\n",
    "save_path = \"../../../../../../Datasets/Parkinson/radiological/PPMI/spect-mri/filtered/\"\n",
    "\n",
    "ctrl_original = original_path + \"/controlMri-Spect/PPMI/\"\n",
    "pd_original = original_path + \"/pdMri-Spect/PPMI/\""
   ]
  },
  {
   "cell_type": "code",
   "execution_count": null,
   "metadata": {},
   "outputs": [],
   "source": [
    "ctrl_mri_spect_df[ctrl_mri_spect_df[\"Subject\"]==3104]"
   ]
  },
  {
   "cell_type": "code",
   "execution_count": null,
   "metadata": {},
   "outputs": [],
   "source": [
    "#for control set from the final_ctrl_mri_spect_df dataframe\n",
    "ctrl_subjects = sorted(final_ctrl_mri_spect_df[\"Subject\"].unique())\n",
    "\n",
    "for subject in ctrl_subjects:\n",
    "    print(\"subject: \", subject)\n",
    "    ctrl_subject_df = final_ctrl_mri_spect_df[final_ctrl_mri_spect_df[\"Subject\"]==subject]\n",
    "    \n",
    "    #getting the Spect and T1 modalities from the original path\n",
    "    ctrl_original_t1 = ctrl_original + str(subject) + \"/T1-anatomical/\"\n",
    "    t1_files = os.listdir(ctrl_original_t1)\n",
    "    \n",
    "    for t1 in t1_files:\n",
    "        original_date = t1.split(\"_\")\n",
    "        ctrl_subject_df[]\n",
    "        \n",
    "    \n",
    "    ctrl_original_spect = ctrl_original + str(subject) + \"/Reconstructed_DaTSCAN/\"    \n",
    "    \n",
    "    print(\"related files: \", os.listdir(ctrl_original_subject))\n",
    "\n"
   ]
  },
  {
   "cell_type": "markdown",
   "metadata": {},
   "source": [
    "## For extra PD patients that were not taken into account in the EMBC approach"
   ]
  },
  {
   "cell_type": "code",
   "execution_count": null,
   "metadata": {},
   "outputs": [],
   "source": [
    "# in summary we have for control and pd subjects: final_ctrl_mri_spect_df and final_pd_mri_spect_df\n",
    "original_path = \"../../../../../../Datasets/Parkinson/radiological/PPMI/spect-mri/original\"\n",
    "save_path = \"../../../../../../Datasets/Parkinson/radiological/PPMI/spect-mri/filtered/test2/parkinson\"\n",
    "\n",
    "ctrl_original = original_path + \"/controlMri-Spect/PPMI/\"\n",
    "pd_original = original_path + \"/pdMri-Spect/PPMI/\""
   ]
  },
  {
   "cell_type": "code",
   "execution_count": null,
   "metadata": {},
   "outputs": [],
   "source": [
    "def find_nii_file(path):\n",
    "    \"\"\"\n",
    "    Recursively search for a file with .nii extension in the given path.\n",
    "    \n",
    "    Args:\n",
    "    - path (str): The path to search in.\n",
    "    \n",
    "    Returns:\n",
    "    - str or None: The path of the first .nii file found, or None if no such file is found.\n",
    "    \"\"\"\n",
    "    for root, dirs, files in os.walk(path):\n",
    "        for file in files:\n",
    "            if file.endswith('.nii') or file.endswith('.dcm'):\n",
    "                return os.path.join(root, file)\n",
    "    return None"
   ]
  },
  {
   "cell_type": "code",
   "execution_count": null,
   "metadata": {},
   "outputs": [],
   "source": [
    "import shutil\n",
    "\n",
    "#for control set from the final_ctrl_mri_spect_df dataframe\n",
    "pd_subjects = sorted(pd_to_take)\n",
    "\n",
    "modality = \"SPECT\"\n",
    "\n",
    "for subject in pd_subjects:\n",
    "    print(\"subject: \", subject)\n",
    "    subject_df = final_pd_mri_spect_df[final_pd_mri_spect_df[\"Subject\"]==subject]\n",
    "    \n",
    "    #getting the Spect and T1 modalities from the original path\n",
    "    if modality == \"MRI\":\n",
    "        reference_date = subject_df[subject_df[\"Modality\"]==\"MRI\"][\"Acq Date\"].values[0]\n",
    "        source = pd_original + str(subject) + \"/T1-anatomical/\"\n",
    "        current_save_path = save_path + \"/mri/\" + str(subject)\n",
    "    else:\n",
    "        reference_date = subject_df[subject_df[\"Modality\"]==\"SPECT\"][\"Acq Date\"].values[0]\n",
    "        source = pd_original + str(subject) + \"/Reconstructed_DaTSCAN/\"\n",
    "        current_save_path = save_path + \"/spect/\" + str(subject) + \"/\"\n",
    "    \n",
    "    if not os.path.exists(current_save_path):\n",
    "        os.makedirs(current_save_path)\n",
    "    \n",
    "    reference_date = reference_date.astype('datetime64[D]')  \n",
    "    print(\"reference date: \", reference_date) \n",
    "    print(type(reference_date))  \n",
    "    files = os.listdir(source)\n",
    "    \n",
    "    for file in files:\n",
    "        \n",
    "        original_date = file.split(\"_\")[0]  \n",
    "        original_date = np.datetime64(original_date)   \n",
    "       \n",
    "        if original_date == reference_date:\n",
    "            print(\"original date: \", original_date)\n",
    "            current_source = source + file\n",
    "            current_file = find_nii_file(current_source)\n",
    "            print(\"original file: \", current_file)\n",
    "            print(\"moving to: \", current_save_path)\n",
    "            # Copy file to destination\n",
    "            shutil.copy2(current_file, current_save_path)\n",
    "            \n",
    "        else:\n",
    "            None"
   ]
  },
  {
   "cell_type": "markdown",
   "metadata": {},
   "source": [
    "## Moving the nii.gz converted files from the .dcm SPECT files"
   ]
  },
  {
   "cell_type": "code",
   "execution_count": null,
   "metadata": {},
   "outputs": [],
   "source": [
    "file1 = \"PPMI_3116_NM_Reconstructed_DaTSCAN_Br_20170503135214533_1_S561084_spect.nii\"\n",
    "string = \"3116\"\n",
    "\n",
    "if string in file1:\n",
    "    print(\"yes\")\n",
    "else:\n",
    "    print(\"no\")"
   ]
  },
  {
   "cell_type": "code",
   "execution_count": null,
   "metadata": {},
   "outputs": [],
   "source": [
    "root_path = \"../../../../../../Datasets/Parkinson/radiological/PPMI/spect-mri/filtered/test2/parkinson/spect/\"\n",
    "files = os.listdir(root_path)\n",
    "\n",
    "#for control set from the final_ctrl_mri_spect_df dataframe\n",
    "pd_subjects = sorted(pd_to_take)\n",
    "\n",
    "modality = \"SPECT\"\n",
    "\n",
    "for subject in pd_subjects:\n",
    "    print(\"subject: \", subject)\n",
    "    save_path = root_path + str(subject) + \"/\"\n",
    "    \n",
    "    for file in files:\n",
    "        file_path = root_path + file\n",
    "        if os.path.isdir(file_path):\n",
    "            None\n",
    "        else:\n",
    "            if str(subject) in file:\n",
    "                current_file_path = root_path + file\n",
    "                print(\"current file path: \", current_file_path)\n",
    "                print(\"moving to: \", save_path)\n",
    "                shutil.move(current_file_path, save_path)\n",
    "            else:\n",
    "                None           "
   ]
  },
  {
   "cell_type": "markdown",
   "metadata": {},
   "source": [
    "## Checking the SPECT preprocessing missing cases"
   ]
  },
  {
   "cell_type": "code",
   "execution_count": null,
   "metadata": {},
   "outputs": [],
   "source": [
    "base_path = \"../../../../../../Datasets/Parkinson/radiological/PPMI/spect-mri/filtered/test2/parkinson/spect\"\n",
    "cases = os.listdir(base_path)\n",
    "ref_can = 4\n",
    "ref_can2 = 1\n",
    "cases_to_resampled = []\n",
    "cases_to_registered = []\n",
    "other_cases = []\n",
    "\n",
    "for case in cases:\n",
    "    preprocessed_case_path = os.path.join(base_path, case, \"preprocessed\")\n",
    "    can = len(os.listdir(preprocessed_case_path))\n",
    "    if can != ref_can:\n",
    "        \n",
    "        if can == 0:\n",
    "            #if no files were found, the the resampling method needs to be executed\n",
    "            cases_to_resampled.append(case)\n",
    "        \n",
    "        #if only there is a one file maybe the registration process must be done\n",
    "        elif can == 1:\n",
    "            cases_to_registered.append(case)\n",
    "        \n",
    "        else:\n",
    "            other_cases.append(case)\n",
    "        \n",
    "print(\"cases that need resampled: \", len(cases_to_resampled))\n",
    "print(\"cases that need registration: \", len(cases_to_registered))\n",
    "print(\"cases that need others: \", len(other_cases))"
   ]
  },
  {
   "cell_type": "code",
   "execution_count": null,
   "metadata": {},
   "outputs": [],
   "source": [
    "sorted(cases_to_resampled)"
   ]
  },
  {
   "cell_type": "code",
   "execution_count": null,
   "metadata": {},
   "outputs": [],
   "source": [
    "new_pd_patients = sorted(os.listdir(base_path))\n",
    "print(new_pd_patients)"
   ]
  },
  {
   "cell_type": "code",
   "execution_count": null,
   "metadata": {},
   "outputs": [],
   "source": [
    "# open file\n",
    "with open('newPdPatients.txt', 'w+') as f:\n",
    "\t\n",
    "\t# write elements of list\n",
    "\tfor items in new_pd_patients:\n",
    "\t\tf.write('%s\\n' %items)\n",
    "\t\n",
    "\tprint(\"File written successfully\")\n",
    "# close the file\n",
    "f.close()"
   ]
  }
 ],
 "metadata": {
  "kernelspec": {
   "display_name": "Python 3",
   "language": "python",
   "name": "python3"
  },
  "language_info": {
   "codemirror_mode": {
    "name": "ipython",
    "version": 3
   },
   "file_extension": ".py",
   "mimetype": "text/x-python",
   "name": "python",
   "nbconvert_exporter": "python",
   "pygments_lexer": "ipython3",
   "version": "3.8.10"
  },
  "orig_nbformat": 4
 },
 "nbformat": 4,
 "nbformat_minor": 2
}
